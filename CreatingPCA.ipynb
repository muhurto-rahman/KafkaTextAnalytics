{
 "cells": [
  {
   "cell_type": "code",
   "execution_count": 1,
   "id": "04e6768f",
   "metadata": {},
   "outputs": [
    {
     "name": "stdout",
     "output_type": "stream",
     "text": [
      "Tokenizing 5200 METAMORPHOSIS\n",
      "Importing  /Users/muhur/OneDrive/Desktop/Muhurto/Data Science Grad School/DS5001/KafkaFinal/data\\pg5200.txt\n",
      "Clipping text\n",
      "Parsing OHCO level 0 chap_id by milestone ^\\s*[IVXLCM]+\\s*$\n",
      "line_str chap_str\n",
      "Index(['chap_str'], dtype='object')\n",
      "Parsing OHCO level 1 para_num by delimitter \\n\\n\n",
      "Parsing OHCO level 2 sent_num by NLTK model\n",
      "Parsing OHCO level 3 token_num by NLTK model\n",
      "Tokenizing 5252 BLUMFELD\n",
      "Importing  /Users/muhur/OneDrive/Desktop/Muhurto/Data Science Grad School/DS5001/KafkaFinal/data\\pg5252.txt\n",
      "Clipping text\n",
      "Parsing OHCO level 0 chap_id by milestone NOCHAPTERS\n",
      "line_str chap_str\n",
      "Index(['chap_str'], dtype='object')\n",
      "Parsing OHCO level 1 para_num by delimitter \\n\\n\n",
      "Parsing OHCO level 2 sent_num by NLTK model\n",
      "Parsing OHCO level 3 token_num by NLTK model\n",
      "Tokenizing 5353 THE BURROW\n",
      "Importing  /Users/muhur/OneDrive/Desktop/Muhurto/Data Science Grad School/DS5001/KafkaFinal/data\\pg5353.txt\n",
      "Clipping text\n",
      "Parsing OHCO level 0 chap_id by milestone NOCHAPTERS\n",
      "line_str chap_str\n",
      "Index(['chap_str'], dtype='object')\n",
      "Parsing OHCO level 1 para_num by delimitter \\n\\n\n",
      "Parsing OHCO level 2 sent_num by NLTK model\n",
      "Parsing OHCO level 3 token_num by NLTK model\n",
      "Tokenizing 5454 JOSEPHINE THE SONGSTRESS\n",
      "Importing  /Users/muhur/OneDrive/Desktop/Muhurto/Data Science Grad School/DS5001/KafkaFinal/data\\pg5454.txt\n",
      "Clipping text\n",
      "Parsing OHCO level 0 chap_id by milestone NOCHAPTERS\n",
      "line_str chap_str\n",
      "Index(['chap_str'], dtype='object')\n",
      "Parsing OHCO level 1 para_num by delimitter \\n\\n\n",
      "Parsing OHCO level 2 sent_num by NLTK model\n",
      "Parsing OHCO level 3 token_num by NLTK model\n",
      "Tokenizing 5555 BEFORE THE LAW\n",
      "Importing  /Users/muhur/OneDrive/Desktop/Muhurto/Data Science Grad School/DS5001/KafkaFinal/data\\pg5555.txt\n",
      "Clipping text\n",
      "Parsing OHCO level 0 chap_id by milestone NOCHAPTERS\n",
      "line_str chap_str\n",
      "Index(['chap_str'], dtype='object')\n",
      "Parsing OHCO level 1 para_num by delimitter \\n\\n\n",
      "Parsing OHCO level 2 sent_num by NLTK model\n",
      "Parsing OHCO level 3 token_num by NLTK model\n",
      "Tokenizing 5656 UP IN THE GALLERY\n",
      "Importing  /Users/muhur/OneDrive/Desktop/Muhurto/Data Science Grad School/DS5001/KafkaFinal/data\\pg5656.txt\n",
      "Clipping text\n",
      "Parsing OHCO level 0 chap_id by milestone NOCHAPTERS\n",
      "line_str chap_str\n",
      "Index(['chap_str'], dtype='object')\n",
      "Parsing OHCO level 1 para_num by delimitter \\n\\n\n",
      "Parsing OHCO level 2 sent_num by NLTK model\n",
      "Parsing OHCO level 3 token_num by NLTK model\n",
      "Tokenizing 5757 THE HUNTER GRACCHUS\n",
      "Importing  /Users/muhur/OneDrive/Desktop/Muhurto/Data Science Grad School/DS5001/KafkaFinal/data\\pg5757.txt\n",
      "Clipping text\n",
      "Parsing OHCO level 0 chap_id by milestone NOCHAPTERS\n",
      "line_str chap_str\n",
      "Index(['chap_str'], dtype='object')\n",
      "Parsing OHCO level 1 para_num by delimitter \\n\\n\n",
      "Parsing OHCO level 2 sent_num by NLTK model\n",
      "Parsing OHCO level 3 token_num by NLTK model\n",
      "Tokenizing 5858 THE GREAT WALL OF CHINA\n",
      "Importing  /Users/muhur/OneDrive/Desktop/Muhurto/Data Science Grad School/DS5001/KafkaFinal/data\\pg5858.txt\n",
      "Clipping text\n",
      "Parsing OHCO level 0 chap_id by milestone NOCHAPTERS\n",
      "line_str chap_str\n",
      "Index(['chap_str'], dtype='object')\n",
      "Parsing OHCO level 1 para_num by delimitter \\n\\n\n",
      "Parsing OHCO level 2 sent_num by NLTK model\n",
      "Parsing OHCO level 3 token_num by NLTK model\n",
      "Tokenizing 5959 A REPORT FOR AN ACADEMY\n",
      "Importing  /Users/muhur/OneDrive/Desktop/Muhurto/Data Science Grad School/DS5001/KafkaFinal/data\\pg5959.txt\n",
      "Clipping text\n",
      "Parsing OHCO level 0 chap_id by milestone NOCHAPTERS\n",
      "line_str chap_str\n",
      "Index(['chap_str'], dtype='object')\n",
      "Parsing OHCO level 1 para_num by delimitter \\n\\n\n",
      "Parsing OHCO level 2 sent_num by NLTK model\n",
      "Parsing OHCO level 3 token_num by NLTK model\n",
      "Tokenizing 6060 DEAREST FATHER\n",
      "Importing  /Users/muhur/OneDrive/Desktop/Muhurto/Data Science Grad School/DS5001/KafkaFinal/data\\pg6060.txt\n",
      "Clipping text\n",
      "Parsing OHCO level 0 chap_id by milestone NOCHAPTERS\n",
      "line_str chap_str\n",
      "Index(['chap_str'], dtype='object')\n",
      "Parsing OHCO level 1 para_num by delimitter \\n\\n\n",
      "Parsing OHCO level 2 sent_num by NLTK model\n",
      "Parsing OHCO level 3 token_num by NLTK model\n",
      "Tokenizing 6161 THE JUDGEMENT\n",
      "Importing  /Users/muhur/OneDrive/Desktop/Muhurto/Data Science Grad School/DS5001/KafkaFinal/data\\pg6161.txt\n",
      "Clipping text\n",
      "Parsing OHCO level 0 chap_id by milestone NOCHAPTERS\n",
      "line_str chap_str\n",
      "Index(['chap_str'], dtype='object')\n",
      "Parsing OHCO level 1 para_num by delimitter \\n\\n\n",
      "Parsing OHCO level 2 sent_num by NLTK model\n",
      "Parsing OHCO level 3 token_num by NLTK model\n",
      "Tokenizing 6262 AMERIKA\n",
      "Importing  /Users/muhur/OneDrive/Desktop/Muhurto/Data Science Grad School/DS5001/KafkaFinal/data\\pg6262.txt\n",
      "Clipping text\n",
      "Parsing OHCO level 0 chap_id by milestone ^\\s*\\d+\\s*$\n",
      "line_str chap_str\n",
      "Index(['chap_str'], dtype='object')\n",
      "Parsing OHCO level 1 para_num by delimitter \\n\\n\n",
      "Parsing OHCO level 2 sent_num by NLTK model\n",
      "Parsing OHCO level 3 token_num by NLTK model\n",
      "Tokenizing 6363 IN THE PENAL COLONY\n",
      "Importing  /Users/muhur/OneDrive/Desktop/Muhurto/Data Science Grad School/DS5001/KafkaFinal/data\\pg6363.txt\n",
      "Clipping text\n",
      "Parsing OHCO level 0 chap_id by milestone NOCHAPTERS\n",
      "line_str chap_str\n",
      "Index(['chap_str'], dtype='object')\n",
      "Parsing OHCO level 1 para_num by delimitter \\n\\n\n",
      "Parsing OHCO level 2 sent_num by NLTK model\n",
      "Parsing OHCO level 3 token_num by NLTK model\n",
      "Tokenizing 6464 THE HUNGER ARTIST\n",
      "Importing  /Users/muhur/OneDrive/Desktop/Muhurto/Data Science Grad School/DS5001/KafkaFinal/data\\pg6464.txt\n",
      "Clipping text\n",
      "Parsing OHCO level 0 chap_id by milestone NOCHAPTERS\n",
      "line_str chap_str\n",
      "Index(['chap_str'], dtype='object')\n",
      "Parsing OHCO level 1 para_num by delimitter \\n\\n\n",
      "Parsing OHCO level 2 sent_num by NLTK model\n",
      "Parsing OHCO level 3 token_num by NLTK model\n",
      "Tokenizing 6565 THE JACKALS AND ARABS\n",
      "Importing  /Users/muhur/OneDrive/Desktop/Muhurto/Data Science Grad School/DS5001/KafkaFinal/data\\pg6565.txt\n",
      "Clipping text\n",
      "Parsing OHCO level 0 chap_id by milestone NOCHAPTERS\n",
      "line_str chap_str\n",
      "Index(['chap_str'], dtype='object')\n",
      "Parsing OHCO level 1 para_num by delimitter \\n\\n\n",
      "Parsing OHCO level 2 sent_num by NLTK model\n",
      "Parsing OHCO level 3 token_num by NLTK model\n",
      "Tokenizing 6666 A COUNTRY DOCTOR\n",
      "Importing  /Users/muhur/OneDrive/Desktop/Muhurto/Data Science Grad School/DS5001/KafkaFinal/data\\pg6666.txt\n",
      "Clipping text\n",
      "Parsing OHCO level 0 chap_id by milestone NOCHAPTERS\n",
      "line_str chap_str\n",
      "Index(['chap_str'], dtype='object')\n",
      "Parsing OHCO level 1 para_num by delimitter \\n\\n\n",
      "Parsing OHCO level 2 sent_num by NLTK model\n",
      "Parsing OHCO level 3 token_num by NLTK model\n",
      "Tokenizing 6767 AN IMPERIAL MESSAGE\n",
      "Importing  /Users/muhur/OneDrive/Desktop/Muhurto/Data Science Grad School/DS5001/KafkaFinal/data\\pg6767.txt\n",
      "Clipping text\n",
      "Parsing OHCO level 0 chap_id by milestone NOCHAPTERS\n",
      "line_str chap_str\n",
      "Index(['chap_str'], dtype='object')\n",
      "Parsing OHCO level 1 para_num by delimitter \\n\\n\n",
      "Parsing OHCO level 2 sent_num by NLTK model\n",
      "Parsing OHCO level 3 token_num by NLTK model\n",
      "Tokenizing 6969 THE CASTLE\n",
      "Importing  /Users/muhur/OneDrive/Desktop/Muhurto/Data Science Grad School/DS5001/KafkaFinal/data\\pg6969.txt\n",
      "Clipping text\n",
      "Parsing OHCO level 0 chap_id by milestone ^\\s*\\d+\\s*$\n",
      "line_str chap_str\n",
      "Index(['chap_str'], dtype='object')\n",
      "Parsing OHCO level 1 para_num by delimitter \\n\\n\n",
      "Parsing OHCO level 2 sent_num by NLTK model\n",
      "Parsing OHCO level 3 token_num by NLTK model\n",
      "Tokenizing 7849 THE TRIAL\n",
      "Importing  /Users/muhur/OneDrive/Desktop/Muhurto/Data Science Grad School/DS5001/KafkaFinal/data\\pg7849.txt\n",
      "Clipping text\n",
      "Parsing OHCO level 0 chap_id by milestone ^\\s*Chapter\\s+(?:One|Two|Three|Four|Five|Six|Seven|Eight|Nine|Ten)\\s*$\n",
      "line_str chap_str\n",
      "Index(['chap_str'], dtype='object')\n",
      "Parsing OHCO level 1 para_num by delimitter \\n\\n\n",
      "Parsing OHCO level 2 sent_num by NLTK model\n",
      "Parsing OHCO level 3 token_num by NLTK model\n",
      "Tokenizing 23532 MEDITATION\n",
      "Importing  /Users/muhur/OneDrive/Desktop/Muhurto/Data Science Grad School/DS5001/KafkaFinal/data\\pg23532.txt\n",
      "Clipping text\n",
      "Parsing OHCO level 0 chap_id by milestone ^(Children on the country road|Unmasking a con artist|The Sudden Walk|Resolutions|The trip to the mountains|The Bachelor's Misfortune|The Merchant|Distracted Looking Out|The Way Home|The Passers-by|Passenger|Dresses|The rejection|Food for thought for gentlemen riders|The Alley Window|Desire to become an Indian|The Trees|Unhappiness)$\n",
      "line_str chap_str\n",
      "Index(['chap_str'], dtype='object')\n",
      "Parsing OHCO level 1 para_num by delimitter \\n\\n\n",
      "Parsing OHCO level 2 sent_num by NLTK model\n",
      "Parsing OHCO level 3 token_num by NLTK model\n"
     ]
    },
    {
     "name": "stderr",
     "output_type": "stream",
     "text": [
      "c:\\Users/muhur/OneDrive/Desktop/Muhurto/Data Science Grad School/DS5001/DS5001-2025-01-R/lessons/lib\\textparser.py:132: UserWarning: This pattern is interpreted as a regular expression, and has match groups. To actually get the groups, use str.extract.\n",
      "  div_lines = self.TOKENS[src_col].str.contains(div_pat, regex=True, case=True)\n"
     ]
    },
    {
     "name": "stdout",
     "output_type": "stream",
     "text": [
      "Done\n"
     ]
    }
   ],
   "source": [
    "import pandas as pd\n",
    "import numpy as np\n",
    "from glob import glob\n",
    "import re\n",
    "import nltk\n",
    "import plotly_express as px\n",
    "import configparser\n",
    "import os\n",
    "import pandas as pd\n",
    "import numpy as np\n",
    "from glob import glob\n",
    "import re\n",
    "import nltk\n",
    "import plotly_express as px\n",
    "from sklearn.feature_extraction.text import CountVectorizer, TfidfVectorizer, TfidfTransformer\n",
    "import scipy.cluster.hierarchy as sch\n",
    "import matplotlib.pyplot as plt\n",
    "from numpy.linalg import norm\n",
    "from scipy.spatial.distance import pdist\n",
    "import plotly_express as px\n",
    "import seaborn as sns; sns.set()\n",
    "import configparser\n",
    "config = configparser.ConfigParser()\n",
    "config.read(\"../../../env-sample.ini\")\n",
    "data_home = '/Users/muhur/OneDrive/Desktop/Muhurto/Data Science Grad School/DS5001/KafkaFinal/data'\n",
    "output_dir = '/Users/muhur/OneDrive/Desktop/Muhurto/Data Science Grad School/DS5001/KafkaFinal/output'\n",
    "local_lib = '/Users/muhur/OneDrive/Desktop/Muhurto/Data Science Grad School/DS5001/DS5001-2025-01-R/lessons/lib'\n",
    "import sys\n",
    "sys.path.append(local_lib)\n",
    "from textparser import TextParser\n",
    "\n",
    "clip_pats = [\n",
    "    r\"\\*\\*\\*\\s*START OF\",\n",
    "    r\"\\*\\*\\*\\s*END OF\"\n",
    "]\n",
    "\n",
    "# All are 'chap'and 'm'\n",
    "roman = '[IVXLCM]+'\n",
    "caps = \"[A-Z';, -]+\"\n",
    "ohco_pat_list = [\n",
    "    (5200,   rf\"^\\s*CHAPTER\\s+{roman}\\s*$\"), #Metamorphosis\n",
    "    (7849,   rf\"^\\s*{roman}\\s*$\"), #The Trial\n",
    "    (6969,  rf\"^\\s*LETTER .* to .*$\"), # The Castle\n",
    "    (6262,   rf\"^CHAPTER\\s+{roman}$\"), # Amerika\n",
    "    (6161,   rf\"^CHAPTER\\s+\\d+$\"), # The Judgement\n",
    "    (6060,   rf\"^Chapter\\s+\\d+$\"), # Dearest Father\n",
    "    (6363,  rf\"^Chapter\\s+\\d+$\"), # In the Penal colony\n",
    "    (6464,   rf\"^CHAPTER\\s+\\d+$\"), # The Hunger Artist\n",
    "    (6565, rf\"^\\s*CHAPTER\\s+{roman}\\.\"), # The Jackals and Arabs\n",
    "    (6666, rf\"^\\s*CHAPTER\\s+{roman}\\s*$\"), # A Country Doctor\n",
    "    (6767, rf\"^\\s*CHAPTER\\s+{roman}\\s*$\"), # An Imperial Message\n",
    "    (5959,  rf\"^(?:ETYMOLOGY|EXTRACTS|CHAPTER)\"), # A report for an Academy\n",
    "    (5858,  rf\"^\\s*CHAPTER\\s+{roman}\\.\\s*$\"), # The Great Wall of China\n",
    "    (5757, rf\"^\\s*{roman}\\.\\s*$\"), # The Hunter Gracchus\n",
    "    (5656,  rf\"^\\s*{roman}\\. .*$\"), # Up in the Gallery\n",
    "    (5555, rf\"^CHAPTER\\s+{roman}\\.?$\"), # Before the Law\n",
    "    (5454, rf\"^\\s*[A-Z,;-]+\\.\\s*$\"), # Josephine the Songstress\n",
    "    (5353,  rf\"^CHAPTER \"), # The Burrow\n",
    "    (5252, rf\"^CHAPTER\\s+{roman}\\.\\s*$\"), # Blumfeld\n",
    "    (23532, rf\"Chapter\\s+{roman}\") # Meditation\n",
    "]\n",
    "chapter_regexes = [\n",
    "    (5200,   rf\"^\\s*{roman}\\s*$\"),\n",
    "    (7849,   rf\"^\\s*Chapter\\s+(?:One|Two|Three|Four|Five|Six|Seven|Eight|Nine|Ten)\\s*$\"),\n",
    "    (6969,   rf\"^\\s*\\d+\\s*$\"),\n",
    "    (6262,   rf\"^\\s*\\d+\\s*$\"),\n",
    "    (6161,   \"NOCHAPTERS\"),\n",
    "    (6060,   \"NOCHAPTERS\"),\n",
    "    (6363,   \"NOCHAPTERS\"),\n",
    "    (6464,   \"NOCHAPTERS\"),\n",
    "    (6565,   \"NOCHAPTERS\"),\n",
    "    (6666,   \"NOCHAPTERS\"),\n",
    "    (6767,   \"NOCHAPTERS\"),\n",
    "    (5959,   \"NOCHAPTERS\"),\n",
    "    (5858,   \"NOCHAPTERS\"),\n",
    "    (5757,   \"NOCHAPTERS\"),\n",
    "    (5656,   \"NOCHAPTERS\"),\n",
    "    (5555,   \"NOCHAPTERS\"),\n",
    "    (5454,   \"NOCHAPTERS\"),\n",
    "    (5353,   \"NOCHAPTERS\"),\n",
    "    (5252,   \"NOCHAPTERS\"),\n",
    "    (23532,  rf\"^(Children on the country road|Unmasking a con artist|The Sudden Walk|Resolutions|The trip to the mountains|The Bachelor's Misfortune|The Merchant|Distracted Looking Out|The Way Home|The Passers-by|Passenger|Dresses|The rejection|Food for thought for gentlemen riders|The Alley Window|Desire to become an Indian|The Trees|Unhappiness)$\")  # Poem title on line 1\n",
    "]\n",
    "ohco_pat_list = chapter_regexes\n",
    "source_files = f'{data_home}'\n",
    "source_file_list = sorted(glob(f\"{source_files}/*.*\"))\n",
    "\n",
    "book_data = []\n",
    "for source_file_path in source_file_list:\n",
    "    # Get the filename only, e.g. 'pg5353.txt'\n",
    "    filename = os.path.basename(source_file_path)\n",
    "    # Extract the numeric ID from the filename (remove 'pg' and '.txt')\n",
    "    book_id = int(filename.replace('pg', '').replace('.txt', ''))\n",
    "    # Use filename (without extension) as a raw title (optional: clean further)\n",
    "    book_title = filename.replace('.txt', '').replace('_', ' ')\n",
    "    # Append a tuple of (book_id, path, title)\n",
    "    book_data.append((book_id, source_file_path, book_title))\n",
    "# Convert to DataFrame\n",
    "LIB = pd.DataFrame(book_data, columns=['book_id', 'source_file_path', 'raw_title']) \\\n",
    "        .set_index('book_id') \\\n",
    "        .sort_index()\n",
    "book_titles = {\n",
    "    5200: \"Metamorphosis\",\n",
    "    7849: \"The Trial\",\n",
    "    6969: \"The Castle\",\n",
    "    6262: \"Amerika\",\n",
    "    6161: \"The Judgement\",\n",
    "    6060: \"Dearest Father\",\n",
    "    6363: \"In the Penal Colony\",\n",
    "    6464: \"The Hunger Artist\",\n",
    "    6565: \"The Jackals and Arabs\",\n",
    "    6666: \"A Country Doctor\",\n",
    "    6767: \"An Imperial Message\",\n",
    "    5959: \"A Report for an Academy\",\n",
    "    5858: \"The Great Wall of China\",\n",
    "    5757: \"The Hunter Gracchus\",\n",
    "    5656: \"Up in the Gallery\",\n",
    "    5555: \"Before the Law\",\n",
    "    5454: \"Josephine the Songstress\",\n",
    "    5353: \"The Burrow\",\n",
    "    5252: \"Blumfeld\",\n",
    "    23532: \"Meditation\"\n",
    "}\n",
    "book_titles = {f'pg{key}': value for key, value in book_titles.items()}\n",
    "try:\n",
    "    LIB['author'] = 'KAFKA, FRANZ'\n",
    "    LIB['title'] = LIB.raw_title.replace(book_titles).str.upper()\n",
    "    LIB = LIB.drop('raw_title', axis=1)\n",
    "except AttributeError:\n",
    "    pass\n",
    "LIB['chap_regex'] = LIB.index.map(pd.Series({x[0]:x[1] for x in ohco_pat_list}))\n",
    "LIB\n",
    "# This cell takes 16 seconds to run\n",
    "def tokenize_collection(LIB):\n",
    "\n",
    "    clip_pats = [\n",
    "        r\"\\*\\*\\*\\s*START OF\",\n",
    "        r\"\\*\\*\\*\\s*END OF\"\n",
    "    ]\n",
    "\n",
    "    books = []\n",
    "    for book_id in LIB.index:\n",
    "\n",
    "        # Announce\n",
    "        print(\"Tokenizing\", book_id, LIB.loc[book_id].title)\n",
    "\n",
    "        # Define vars\n",
    "        chap_regex = LIB.loc[book_id].chap_regex\n",
    "        ohco_pats = [('chap', chap_regex, 'm')]\n",
    "        src_file_path = LIB.loc[book_id].source_file_path\n",
    "\n",
    "        # Create object\n",
    "        text = TextParser(src_file_path, ohco_pats=ohco_pats, clip_pats=clip_pats, use_nltk=True)\n",
    "        # text = TextImporter(src_file_path, ohco_pats=ohco_pats, clip_pats=clip_pats) \n",
    "\n",
    "        # Define parameters\n",
    "        text.verbose = True\n",
    "        text.strip_hyphens = True\n",
    "        text.strip_whitespace = True\n",
    "\n",
    "        # Parse\n",
    "        text.import_source().parse_tokens();\n",
    "\n",
    "        # Name things\n",
    "        text.TOKENS['book_id'] = book_id\n",
    "        text.TOKENS = text.TOKENS.reset_index().set_index(['book_id'] + text.OHCO)\n",
    "\n",
    "        # Add to list\n",
    "        books.append(text.TOKENS)\n",
    "        \n",
    "    # Combine into a single dataframe\n",
    "    CORPUS = pd.concat(books).sort_index()\n",
    "\n",
    "    # Clean up\n",
    "    del(books)\n",
    "    del(text)\n",
    "        \n",
    "    print(\"Done\")\n",
    "        \n",
    "    return CORPUS\n",
    "CORPUS = tokenize_collection(LIB)\n",
    "\n",
    "CORPUS = CORPUS[CORPUS.term_str != '']\n",
    "CORPUS['pos_group'] = CORPUS.pos.str[:2]\n",
    "CORPUS\n",
    "VOCAB = CORPUS.term_str.value_counts().to_frame('n').sort_index()\n",
    "VOCAB.index.name = 'term_str'\n",
    "VOCAB['n_chars'] = VOCAB.index.str.len()\n",
    "VOCAB['p'] = VOCAB.n / VOCAB.n.sum()\n",
    "VOCAB['i'] = -np.log2(VOCAB.p)\n",
    "VOCAB['max_pos'] = CORPUS[['term_str','pos']].value_counts().unstack(fill_value=0).idxmax(1)\n",
    "VOCAB['max_pos_group'] = CORPUS[['term_str','pos_group']].value_counts().unstack(fill_value=0).idxmax(1)\n",
    "VOCAB['n_pos_group'] = CORPUS[['term_str','pos_group']].value_counts().unstack().count(1)\n",
    "VOCAB['cat_pos_group'] = CORPUS[['term_str','pos_group']].value_counts().to_frame('n').reset_index()\\\n",
    "    .groupby('term_str').pos_group.apply(lambda x: set(x))\n",
    "VOCAB['n_pos'] = CORPUS[['term_str','pos']].value_counts().unstack().count(1)\n",
    "VOCAB['cat_pos'] = CORPUS[['term_str','pos']].value_counts().to_frame('n').reset_index()\\\n",
    "    .groupby('term_str').pos.apply(lambda x: set(x))\n",
    "sw = pd.DataFrame(nltk.corpus.stopwords.words('english'), columns=['term_str'])\n",
    "sw = sw.reset_index().set_index('term_str')\n",
    "sw.columns = ['dummy']\n",
    "sw.dummy = 1\n",
    "VOCAB['stop'] = VOCAB.index.map(sw.dummy)\n",
    "VOCAB['stop'] = VOCAB['stop'].fillna(0).astype('int')\n",
    "from nltk.stem.porter import PorterStemmer\n",
    "stemmer1 = PorterStemmer()\n",
    "VOCAB['porter_stem'] = VOCAB.apply(lambda x: stemmer1.stem(x.name), 1)\n",
    "\n",
    "from nltk.stem.snowball import SnowballStemmer\n",
    "stemmer2 = SnowballStemmer(\"english\")\n",
    "VOCAB['stem_snowball'] = VOCAB.apply(lambda x: stemmer2.stem(x.name), 1)\n",
    "\n",
    "from nltk.stem.lancaster import LancasterStemmer\n",
    "stemmer3 = LancasterStemmer()\n",
    "VOCAB['stem_lancaster'] = VOCAB.apply(lambda x: stemmer3.stem(x.name), 1)\n",
    "\n",
    "VOCAB\n",
    "# Functions to create TFIDF:\n",
    "# Bring into your notebook the functions you created previously to generate a BOW table and compute TFIDF values. \n",
    "# Extend the TFIDF function so that it also returns the DFIDF value for each term in the VOCAB.\n",
    "def gather_docs(CORPUS, ohco_level, term_col='term_str'):\n",
    "    OHCO = CORPUS.index.names\n",
    "    CORPUS[term_col] = CORPUS[term_col].astype('str')\n",
    "    DOC = CORPUS.groupby(OHCO[:ohco_level])[term_col].apply(lambda x:' '.join(x)).to_frame('doc_str')\n",
    "    return DOC\n",
    "\n",
    "def BOW(tokendf, ocholevel):\n",
    "    return tokendf.groupby(bags[ocholevel]+['term_str']).term_str.count().to_frame('n') \n",
    "\n",
    "def BOWtoTFIDF(BOW, tf_method, CORPUS, ocholevel = 2):\n",
    "    \n",
    "    # I added another parameter for the CORPUS because otherwise it becomes really tedious to undo the BOW function\n",
    "\n",
    "    DTCM = BOW.n.unstack(fill_value=0)\n",
    "    if tf_method == 'sum':\n",
    "        TF = DTCM.T / DTCM.T.sum()\n",
    "    elif tf_method == 'max':\n",
    "        TF = DTCM.T / DTCM.T.max()\n",
    "    elif tf_method == 'log':\n",
    "        TF = np.log2(1 + DTCM.T)\n",
    "    elif tf_method == 'raw':\n",
    "        TF = DTCM.T\n",
    "    elif tf_method == 'double_norm':\n",
    "        TF = DTCM.T / DTCM.T.max()\n",
    "    elif tf_method == 'binary':\n",
    "        TF = DTCM.T.astype('bool').astype('int')\n",
    "    TF = TF.T\n",
    "    DF = DTCM.astype('bool').sum() \n",
    "    N = DTCM.shape[0]\n",
    "    IDF = IDF = np.log2(N / DF)\n",
    "    TFIDF = TF * IDF\n",
    "    # Extend the TFIDF function so that it also returns the DFIDF value for each term in the VOCAB.\n",
    "\n",
    "    # We can adjust ocho level here if we want to, default is 2\n",
    "    DOC = gather_docs(CORPUS, 2)\n",
    "    DOC['n_tokens'] = DOC.doc_str.apply(lambda x: len(x.split()))\n",
    "    ngram_range = (1,2)\n",
    "    n_terms = 4000\n",
    "    count_engine = CountVectorizer(\n",
    "        stop_words = 'english',\n",
    "        ngram_range = ngram_range,\n",
    "        max_features = n_terms)\n",
    "    X = count_engine.fit_transform(DOC.doc_str)\n",
    "    DTM = pd.DataFrame(X.toarray(), \n",
    "    columns=count_engine.get_feature_names_out(), \n",
    "    index=DOC.index)\n",
    "    VOCAB = DTM.sum().to_frame('n')\n",
    "    VOCAB.index.name = 'term_str'\n",
    "    VOCAB['df'] = DTM.astype(bool).sum()\n",
    "    VOCAB['dfidf'] = VOCAB.df * np.log2(len(DTM)/VOCAB.df)\n",
    "    VOCAB['dp'] = VOCAB.df / len(DTM)\n",
    "    VOCAB['di'] = np.log2(1/VOCAB.dp)\n",
    "    VOCAB['dh'] = VOCAB.dp * VOCAB.di\n",
    "    VOCAB['n_chars'] = VOCAB.apply(lambda x: len(x.name), 1)\n",
    "    VOCAB['n_tokens'] = VOCAB.apply(lambda x: len(x.name.split()), 1)\n",
    "    VOCAB.sort_index()\n",
    "\n",
    "\n",
    "    #Hopefully this join works but I'm actually not too sure this will work\n",
    "    \n",
    "    return TFIDF,VOCAB,DTM\n",
    "\n",
    "# I think I'm going to use this oneliner more.\n",
    "# get_tfidf = lambda X, agg_func='sum': (X.T / X.T.agg(agg_func)).T * (np.log2(len(X)/X.astype('bool').sum()))\n",
    "OHCO = ['book_id','chap_id', 'para_num', 'sent_num', 'token_num']\n",
    "\n",
    "bags = dict(\n",
    "    SENTS = OHCO[:4],\n",
    "    PARAS = OHCO[:3],\n",
    "    CHAPS = OHCO[:2],\n",
    "    BOOKS = OHCO[:1]\n",
    ")\n",
    "tables = BOWtoTFIDF(BOW(CORPUS,'CHAPS'),'max', CORPUS, 2)\n",
    "DTM = tables[2]\n",
    "DFIDF = tables[1]\n",
    "TFIDF = tables[0]"
   ]
  },
  {
   "cell_type": "markdown",
   "id": "b96263b3",
   "metadata": {},
   "source": [
    "## BOW"
   ]
  },
  {
   "cell_type": "code",
   "execution_count": 2,
   "id": "cc0d10a2",
   "metadata": {},
   "outputs": [],
   "source": [
    "bow_df= BOW(CORPUS,'CHAPS')"
   ]
  },
  {
   "cell_type": "code",
   "execution_count": 3,
   "id": "b3cefe63",
   "metadata": {},
   "outputs": [
    {
     "data": {
      "text/plain": [
       "MultiIndex([( 5200,  1),\n",
       "            ( 5200,  2),\n",
       "            ( 5200,  3),\n",
       "            ( 5252,  1),\n",
       "            ( 5353,  1),\n",
       "            ( 5454,  1),\n",
       "            ( 5454,  2),\n",
       "            ( 5555,  1),\n",
       "            ( 5656,  1),\n",
       "            ( 5757,  1),\n",
       "            ( 5858,  1),\n",
       "            ( 5959,  1),\n",
       "            ( 6060,  1),\n",
       "            ( 6161,  1),\n",
       "            ( 6262,  1),\n",
       "            ( 6262,  2),\n",
       "            ( 6262,  3),\n",
       "            ( 6262,  4),\n",
       "            ( 6262,  5),\n",
       "            ( 6262,  6),\n",
       "            ( 6363,  1),\n",
       "            ( 6464,  1),\n",
       "            ( 6565,  1),\n",
       "            ( 6666,  1),\n",
       "            ( 6767,  1),\n",
       "            ( 6969,  1),\n",
       "            ( 6969,  2),\n",
       "            ( 6969,  3),\n",
       "            ( 6969,  4),\n",
       "            ( 6969,  5),\n",
       "            ( 6969,  6),\n",
       "            ( 6969,  7),\n",
       "            ( 6969,  8),\n",
       "            ( 6969,  9),\n",
       "            ( 6969, 10),\n",
       "            ( 6969, 11),\n",
       "            ( 6969, 12),\n",
       "            ( 6969, 13),\n",
       "            ( 6969, 14),\n",
       "            ( 6969, 15),\n",
       "            ( 6969, 16),\n",
       "            ( 6969, 17),\n",
       "            ( 6969, 18),\n",
       "            ( 6969, 19),\n",
       "            ( 6969, 20),\n",
       "            ( 6969, 21),\n",
       "            ( 6969, 22),\n",
       "            ( 6969, 23),\n",
       "            ( 6969, 24),\n",
       "            ( 6969, 25),\n",
       "            ( 7849,  1),\n",
       "            ( 7849,  2),\n",
       "            ( 7849,  3),\n",
       "            ( 7849,  4),\n",
       "            ( 7849,  5),\n",
       "            ( 7849,  6),\n",
       "            ( 7849,  7),\n",
       "            ( 7849,  8),\n",
       "            ( 7849,  9),\n",
       "            ( 7849, 10),\n",
       "            (23532,  1),\n",
       "            (23532,  2),\n",
       "            (23532,  3),\n",
       "            (23532,  4),\n",
       "            (23532,  5),\n",
       "            (23532,  6),\n",
       "            (23532,  7),\n",
       "            (23532,  8),\n",
       "            (23532,  9),\n",
       "            (23532, 10)],\n",
       "           names=['book_id', 'chap_id'])"
      ]
     },
     "execution_count": 3,
     "metadata": {},
     "output_type": "execute_result"
    }
   ],
   "source": [
    "TFIDF.T.columns"
   ]
  },
  {
   "cell_type": "code",
   "execution_count": 4,
   "id": "f7423913",
   "metadata": {},
   "outputs": [],
   "source": [
    "# Step 1: Reset index so book_id and chap_id become columns\n",
    "tfidf_reset = TFIDF.reset_index()\n",
    "\n",
    "# Step 2: Melt all term columns into a long format\n",
    "tfidf_long = tfidf_reset.melt(\n",
    "    id_vars=['book_id', 'chap_id'],\n",
    "    var_name='term_str',\n",
    "    value_name='tfidf'\n",
    ")\n",
    "\n",
    "# Step 3: Merge with bag-of-words dataframe\n",
    "bow_with_tfidf = bow_df.merge(\n",
    "    tfidf_long,\n",
    "    on=['book_id', 'chap_id', 'term_str'],\n",
    "    how='left'\n",
    ")"
   ]
  },
  {
   "cell_type": "markdown",
   "id": "2fef9a5a",
   "metadata": {},
   "source": [
    "### BOW"
   ]
  },
  {
   "cell_type": "code",
   "execution_count": 5,
   "id": "52ac74b0",
   "metadata": {},
   "outputs": [],
   "source": [
    "#bow_with_tfidf.to_csv('BOW.csv')"
   ]
  },
  {
   "cell_type": "code",
   "execution_count": 6,
   "id": "33d945dd",
   "metadata": {},
   "outputs": [
    {
     "data": {
      "text/html": [
       "<div>\n",
       "<style scoped>\n",
       "    .dataframe tbody tr th:only-of-type {\n",
       "        vertical-align: middle;\n",
       "    }\n",
       "\n",
       "    .dataframe tbody tr th {\n",
       "        vertical-align: top;\n",
       "    }\n",
       "\n",
       "    .dataframe thead th {\n",
       "        text-align: right;\n",
       "    }\n",
       "</style>\n",
       "<table border=\"1\" class=\"dataframe\">\n",
       "  <thead>\n",
       "    <tr style=\"text-align: right;\">\n",
       "      <th></th>\n",
       "      <th>book_id</th>\n",
       "      <th>chap_id</th>\n",
       "      <th>term_str</th>\n",
       "      <th>n</th>\n",
       "      <th>tfidf</th>\n",
       "    </tr>\n",
       "  </thead>\n",
       "  <tbody>\n",
       "    <tr>\n",
       "      <th>0</th>\n",
       "      <td>5200</td>\n",
       "      <td>1</td>\n",
       "      <td>a</td>\n",
       "      <td>108</td>\n",
       "      <td>0.000000</td>\n",
       "    </tr>\n",
       "    <tr>\n",
       "      <th>1</th>\n",
       "      <td>5200</td>\n",
       "      <td>1</td>\n",
       "      <td>abandoning</td>\n",
       "      <td>1</td>\n",
       "      <td>0.009230</td>\n",
       "    </tr>\n",
       "    <tr>\n",
       "      <th>2</th>\n",
       "      <td>5200</td>\n",
       "      <td>1</td>\n",
       "      <td>able</td>\n",
       "      <td>7</td>\n",
       "      <td>0.005868</td>\n",
       "    </tr>\n",
       "    <tr>\n",
       "      <th>3</th>\n",
       "      <td>5200</td>\n",
       "      <td>1</td>\n",
       "      <td>about</td>\n",
       "      <td>16</td>\n",
       "      <td>0.008273</td>\n",
       "    </tr>\n",
       "    <tr>\n",
       "      <th>4</th>\n",
       "      <td>5200</td>\n",
       "      <td>1</td>\n",
       "      <td>above</td>\n",
       "      <td>2</td>\n",
       "      <td>0.003155</td>\n",
       "    </tr>\n",
       "    <tr>\n",
       "      <th>...</th>\n",
       "      <td>...</td>\n",
       "      <td>...</td>\n",
       "      <td>...</td>\n",
       "      <td>...</td>\n",
       "      <td>...</td>\n",
       "    </tr>\n",
       "    <tr>\n",
       "      <th>80544</th>\n",
       "      <td>23532</td>\n",
       "      <td>10</td>\n",
       "      <td>you</td>\n",
       "      <td>55</td>\n",
       "      <td>0.068376</td>\n",
       "    </tr>\n",
       "    <tr>\n",
       "      <th>80545</th>\n",
       "      <td>23532</td>\n",
       "      <td>10</td>\n",
       "      <td>your</td>\n",
       "      <td>7</td>\n",
       "      <td>0.024125</td>\n",
       "    </tr>\n",
       "    <tr>\n",
       "      <th>80546</th>\n",
       "      <td>23532</td>\n",
       "      <td>10</td>\n",
       "      <td>youre</td>\n",
       "      <td>8</td>\n",
       "      <td>0.078501</td>\n",
       "    </tr>\n",
       "    <tr>\n",
       "      <th>80547</th>\n",
       "      <td>23532</td>\n",
       "      <td>10</td>\n",
       "      <td>yourself</td>\n",
       "      <td>2</td>\n",
       "      <td>0.018776</td>\n",
       "    </tr>\n",
       "    <tr>\n",
       "      <th>80548</th>\n",
       "      <td>23532</td>\n",
       "      <td>10</td>\n",
       "      <td>youve</td>\n",
       "      <td>1</td>\n",
       "      <td>0.014214</td>\n",
       "    </tr>\n",
       "  </tbody>\n",
       "</table>\n",
       "<p>80549 rows × 5 columns</p>\n",
       "</div>"
      ],
      "text/plain": [
       "       book_id  chap_id    term_str    n     tfidf\n",
       "0         5200        1           a  108  0.000000\n",
       "1         5200        1  abandoning    1  0.009230\n",
       "2         5200        1        able    7  0.005868\n",
       "3         5200        1       about   16  0.008273\n",
       "4         5200        1       above    2  0.003155\n",
       "...        ...      ...         ...  ...       ...\n",
       "80544    23532       10         you   55  0.068376\n",
       "80545    23532       10        your    7  0.024125\n",
       "80546    23532       10       youre    8  0.078501\n",
       "80547    23532       10    yourself    2  0.018776\n",
       "80548    23532       10       youve    1  0.014214\n",
       "\n",
       "[80549 rows x 5 columns]"
      ]
     },
     "execution_count": 6,
     "metadata": {},
     "output_type": "execute_result"
    }
   ],
   "source": [
    "bow_with_tfidf"
   ]
  },
  {
   "cell_type": "markdown",
   "id": "d07e7904",
   "metadata": {},
   "source": [
    "## DTM"
   ]
  },
  {
   "cell_type": "code",
   "execution_count": 7,
   "id": "39bb5bae",
   "metadata": {},
   "outputs": [
    {
     "data": {
      "text/html": [
       "<div>\n",
       "<style scoped>\n",
       "    .dataframe tbody tr th:only-of-type {\n",
       "        vertical-align: middle;\n",
       "    }\n",
       "\n",
       "    .dataframe tbody tr th {\n",
       "        vertical-align: top;\n",
       "    }\n",
       "\n",
       "    .dataframe thead th {\n",
       "        text-align: right;\n",
       "    }\n",
       "</style>\n",
       "<table border=\"1\" class=\"dataframe\">\n",
       "  <thead>\n",
       "    <tr style=\"text-align: right;\">\n",
       "      <th></th>\n",
       "      <th>term_str</th>\n",
       "      <th>abandoned</th>\n",
       "      <th>abandoning</th>\n",
       "      <th>abilities</th>\n",
       "      <th>ability</th>\n",
       "      <th>able</th>\n",
       "      <th>able make</th>\n",
       "      <th>abruptly</th>\n",
       "      <th>absence</th>\n",
       "      <th>absent</th>\n",
       "      <th>absolute</th>\n",
       "      <th>...</th>\n",
       "      <th>ﬁre</th>\n",
       "      <th>ﬁre brigade</th>\n",
       "      <th>ﬁre engine</th>\n",
       "      <th>ﬁrmly</th>\n",
       "      <th>ﬁrst</th>\n",
       "      <th>ﬁrst time</th>\n",
       "      <th>ﬁst</th>\n",
       "      <th>ﬁt</th>\n",
       "      <th>ﬁxed</th>\n",
       "      <th>ﬂoor</th>\n",
       "    </tr>\n",
       "    <tr>\n",
       "      <th>book_id</th>\n",
       "      <th>chap_id</th>\n",
       "      <th></th>\n",
       "      <th></th>\n",
       "      <th></th>\n",
       "      <th></th>\n",
       "      <th></th>\n",
       "      <th></th>\n",
       "      <th></th>\n",
       "      <th></th>\n",
       "      <th></th>\n",
       "      <th></th>\n",
       "      <th></th>\n",
       "      <th></th>\n",
       "      <th></th>\n",
       "      <th></th>\n",
       "      <th></th>\n",
       "      <th></th>\n",
       "      <th></th>\n",
       "      <th></th>\n",
       "      <th></th>\n",
       "      <th></th>\n",
       "      <th></th>\n",
       "    </tr>\n",
       "  </thead>\n",
       "  <tbody>\n",
       "    <tr>\n",
       "      <th rowspan=\"3\" valign=\"top\">5200</th>\n",
       "      <th>1</th>\n",
       "      <td>0</td>\n",
       "      <td>1</td>\n",
       "      <td>0</td>\n",
       "      <td>0</td>\n",
       "      <td>7</td>\n",
       "      <td>0</td>\n",
       "      <td>0</td>\n",
       "      <td>0</td>\n",
       "      <td>0</td>\n",
       "      <td>0</td>\n",
       "      <td>...</td>\n",
       "      <td>0</td>\n",
       "      <td>0</td>\n",
       "      <td>0</td>\n",
       "      <td>0</td>\n",
       "      <td>0</td>\n",
       "      <td>0</td>\n",
       "      <td>0</td>\n",
       "      <td>0</td>\n",
       "      <td>0</td>\n",
       "      <td>0</td>\n",
       "    </tr>\n",
       "    <tr>\n",
       "      <th>2</th>\n",
       "      <td>1</td>\n",
       "      <td>1</td>\n",
       "      <td>0</td>\n",
       "      <td>1</td>\n",
       "      <td>13</td>\n",
       "      <td>0</td>\n",
       "      <td>0</td>\n",
       "      <td>0</td>\n",
       "      <td>0</td>\n",
       "      <td>0</td>\n",
       "      <td>...</td>\n",
       "      <td>0</td>\n",
       "      <td>0</td>\n",
       "      <td>0</td>\n",
       "      <td>0</td>\n",
       "      <td>0</td>\n",
       "      <td>0</td>\n",
       "      <td>0</td>\n",
       "      <td>0</td>\n",
       "      <td>0</td>\n",
       "      <td>0</td>\n",
       "    </tr>\n",
       "    <tr>\n",
       "      <th>3</th>\n",
       "      <td>1</td>\n",
       "      <td>0</td>\n",
       "      <td>0</td>\n",
       "      <td>0</td>\n",
       "      <td>3</td>\n",
       "      <td>0</td>\n",
       "      <td>1</td>\n",
       "      <td>0</td>\n",
       "      <td>0</td>\n",
       "      <td>0</td>\n",
       "      <td>...</td>\n",
       "      <td>0</td>\n",
       "      <td>0</td>\n",
       "      <td>0</td>\n",
       "      <td>0</td>\n",
       "      <td>0</td>\n",
       "      <td>0</td>\n",
       "      <td>0</td>\n",
       "      <td>0</td>\n",
       "      <td>0</td>\n",
       "      <td>0</td>\n",
       "    </tr>\n",
       "    <tr>\n",
       "      <th>5252</th>\n",
       "      <th>1</th>\n",
       "      <td>1</td>\n",
       "      <td>1</td>\n",
       "      <td>0</td>\n",
       "      <td>0</td>\n",
       "      <td>4</td>\n",
       "      <td>0</td>\n",
       "      <td>0</td>\n",
       "      <td>1</td>\n",
       "      <td>0</td>\n",
       "      <td>0</td>\n",
       "      <td>...</td>\n",
       "      <td>0</td>\n",
       "      <td>0</td>\n",
       "      <td>0</td>\n",
       "      <td>0</td>\n",
       "      <td>0</td>\n",
       "      <td>0</td>\n",
       "      <td>0</td>\n",
       "      <td>0</td>\n",
       "      <td>0</td>\n",
       "      <td>0</td>\n",
       "    </tr>\n",
       "    <tr>\n",
       "      <th>5353</th>\n",
       "      <th>1</th>\n",
       "      <td>0</td>\n",
       "      <td>0</td>\n",
       "      <td>1</td>\n",
       "      <td>1</td>\n",
       "      <td>5</td>\n",
       "      <td>0</td>\n",
       "      <td>0</td>\n",
       "      <td>6</td>\n",
       "      <td>0</td>\n",
       "      <td>0</td>\n",
       "      <td>...</td>\n",
       "      <td>0</td>\n",
       "      <td>0</td>\n",
       "      <td>0</td>\n",
       "      <td>0</td>\n",
       "      <td>0</td>\n",
       "      <td>0</td>\n",
       "      <td>0</td>\n",
       "      <td>0</td>\n",
       "      <td>0</td>\n",
       "      <td>0</td>\n",
       "    </tr>\n",
       "    <tr>\n",
       "      <th>...</th>\n",
       "      <th>...</th>\n",
       "      <td>...</td>\n",
       "      <td>...</td>\n",
       "      <td>...</td>\n",
       "      <td>...</td>\n",
       "      <td>...</td>\n",
       "      <td>...</td>\n",
       "      <td>...</td>\n",
       "      <td>...</td>\n",
       "      <td>...</td>\n",
       "      <td>...</td>\n",
       "      <td>...</td>\n",
       "      <td>...</td>\n",
       "      <td>...</td>\n",
       "      <td>...</td>\n",
       "      <td>...</td>\n",
       "      <td>...</td>\n",
       "      <td>...</td>\n",
       "      <td>...</td>\n",
       "      <td>...</td>\n",
       "      <td>...</td>\n",
       "      <td>...</td>\n",
       "    </tr>\n",
       "    <tr>\n",
       "      <th rowspan=\"5\" valign=\"top\">23532</th>\n",
       "      <th>6</th>\n",
       "      <td>0</td>\n",
       "      <td>0</td>\n",
       "      <td>0</td>\n",
       "      <td>0</td>\n",
       "      <td>0</td>\n",
       "      <td>0</td>\n",
       "      <td>0</td>\n",
       "      <td>0</td>\n",
       "      <td>0</td>\n",
       "      <td>0</td>\n",
       "      <td>...</td>\n",
       "      <td>0</td>\n",
       "      <td>0</td>\n",
       "      <td>0</td>\n",
       "      <td>0</td>\n",
       "      <td>0</td>\n",
       "      <td>0</td>\n",
       "      <td>0</td>\n",
       "      <td>0</td>\n",
       "      <td>0</td>\n",
       "      <td>0</td>\n",
       "    </tr>\n",
       "    <tr>\n",
       "      <th>7</th>\n",
       "      <td>0</td>\n",
       "      <td>0</td>\n",
       "      <td>0</td>\n",
       "      <td>0</td>\n",
       "      <td>0</td>\n",
       "      <td>0</td>\n",
       "      <td>0</td>\n",
       "      <td>0</td>\n",
       "      <td>0</td>\n",
       "      <td>0</td>\n",
       "      <td>...</td>\n",
       "      <td>0</td>\n",
       "      <td>0</td>\n",
       "      <td>0</td>\n",
       "      <td>0</td>\n",
       "      <td>0</td>\n",
       "      <td>0</td>\n",
       "      <td>0</td>\n",
       "      <td>0</td>\n",
       "      <td>0</td>\n",
       "      <td>0</td>\n",
       "    </tr>\n",
       "    <tr>\n",
       "      <th>8</th>\n",
       "      <td>0</td>\n",
       "      <td>0</td>\n",
       "      <td>0</td>\n",
       "      <td>0</td>\n",
       "      <td>1</td>\n",
       "      <td>0</td>\n",
       "      <td>0</td>\n",
       "      <td>0</td>\n",
       "      <td>0</td>\n",
       "      <td>0</td>\n",
       "      <td>...</td>\n",
       "      <td>0</td>\n",
       "      <td>0</td>\n",
       "      <td>0</td>\n",
       "      <td>0</td>\n",
       "      <td>0</td>\n",
       "      <td>0</td>\n",
       "      <td>0</td>\n",
       "      <td>0</td>\n",
       "      <td>0</td>\n",
       "      <td>0</td>\n",
       "    </tr>\n",
       "    <tr>\n",
       "      <th>9</th>\n",
       "      <td>0</td>\n",
       "      <td>0</td>\n",
       "      <td>0</td>\n",
       "      <td>0</td>\n",
       "      <td>1</td>\n",
       "      <td>0</td>\n",
       "      <td>0</td>\n",
       "      <td>0</td>\n",
       "      <td>0</td>\n",
       "      <td>0</td>\n",
       "      <td>...</td>\n",
       "      <td>0</td>\n",
       "      <td>0</td>\n",
       "      <td>0</td>\n",
       "      <td>0</td>\n",
       "      <td>0</td>\n",
       "      <td>0</td>\n",
       "      <td>0</td>\n",
       "      <td>0</td>\n",
       "      <td>0</td>\n",
       "      <td>0</td>\n",
       "    </tr>\n",
       "    <tr>\n",
       "      <th>10</th>\n",
       "      <td>1</td>\n",
       "      <td>0</td>\n",
       "      <td>0</td>\n",
       "      <td>0</td>\n",
       "      <td>1</td>\n",
       "      <td>0</td>\n",
       "      <td>0</td>\n",
       "      <td>0</td>\n",
       "      <td>0</td>\n",
       "      <td>0</td>\n",
       "      <td>...</td>\n",
       "      <td>0</td>\n",
       "      <td>0</td>\n",
       "      <td>0</td>\n",
       "      <td>0</td>\n",
       "      <td>0</td>\n",
       "      <td>0</td>\n",
       "      <td>0</td>\n",
       "      <td>0</td>\n",
       "      <td>0</td>\n",
       "      <td>0</td>\n",
       "    </tr>\n",
       "  </tbody>\n",
       "</table>\n",
       "<p>70 rows × 4000 columns</p>\n",
       "</div>"
      ],
      "text/plain": [
       "term_str         abandoned  abandoning  abilities  ability  able  able make  \\\n",
       "book_id chap_id                                                               \n",
       "5200    1                0           1          0        0     7          0   \n",
       "        2                1           1          0        1    13          0   \n",
       "        3                1           0          0        0     3          0   \n",
       "5252    1                1           1          0        0     4          0   \n",
       "5353    1                0           0          1        1     5          0   \n",
       "...                    ...         ...        ...      ...   ...        ...   \n",
       "23532   6                0           0          0        0     0          0   \n",
       "        7                0           0          0        0     0          0   \n",
       "        8                0           0          0        0     1          0   \n",
       "        9                0           0          0        0     1          0   \n",
       "        10               1           0          0        0     1          0   \n",
       "\n",
       "term_str         abruptly  absence  absent  absolute  ...  ﬁre  ﬁre brigade  \\\n",
       "book_id chap_id                                       ...                     \n",
       "5200    1               0        0       0         0  ...    0            0   \n",
       "        2               0        0       0         0  ...    0            0   \n",
       "        3               1        0       0         0  ...    0            0   \n",
       "5252    1               0        1       0         0  ...    0            0   \n",
       "5353    1               0        6       0         0  ...    0            0   \n",
       "...                   ...      ...     ...       ...  ...  ...          ...   \n",
       "23532   6               0        0       0         0  ...    0            0   \n",
       "        7               0        0       0         0  ...    0            0   \n",
       "        8               0        0       0         0  ...    0            0   \n",
       "        9               0        0       0         0  ...    0            0   \n",
       "        10              0        0       0         0  ...    0            0   \n",
       "\n",
       "term_str         ﬁre engine  ﬁrmly  ﬁrst  ﬁrst time  ﬁst  ﬁt  ﬁxed  ﬂoor  \n",
       "book_id chap_id                                                           \n",
       "5200    1                 0      0     0          0    0   0     0     0  \n",
       "        2                 0      0     0          0    0   0     0     0  \n",
       "        3                 0      0     0          0    0   0     0     0  \n",
       "5252    1                 0      0     0          0    0   0     0     0  \n",
       "5353    1                 0      0     0          0    0   0     0     0  \n",
       "...                     ...    ...   ...        ...  ...  ..   ...   ...  \n",
       "23532   6                 0      0     0          0    0   0     0     0  \n",
       "        7                 0      0     0          0    0   0     0     0  \n",
       "        8                 0      0     0          0    0   0     0     0  \n",
       "        9                 0      0     0          0    0   0     0     0  \n",
       "        10                0      0     0          0    0   0     0     0  \n",
       "\n",
       "[70 rows x 4000 columns]"
      ]
     },
     "execution_count": 7,
     "metadata": {},
     "output_type": "execute_result"
    }
   ],
   "source": [
    "DTM"
   ]
  },
  {
   "cell_type": "code",
   "execution_count": 8,
   "id": "e9210f09",
   "metadata": {},
   "outputs": [],
   "source": [
    "#DTM.to_csv('DTM.csv')"
   ]
  },
  {
   "cell_type": "markdown",
   "id": "8f2124f6",
   "metadata": {},
   "source": [
    "## TFIDF"
   ]
  },
  {
   "cell_type": "code",
   "execution_count": 9,
   "id": "495b8d39",
   "metadata": {},
   "outputs": [
    {
     "data": {
      "text/html": [
       "<div>\n",
       "<style scoped>\n",
       "    .dataframe tbody tr th:only-of-type {\n",
       "        vertical-align: middle;\n",
       "    }\n",
       "\n",
       "    .dataframe tbody tr th {\n",
       "        vertical-align: top;\n",
       "    }\n",
       "\n",
       "    .dataframe thead th {\n",
       "        text-align: right;\n",
       "    }\n",
       "</style>\n",
       "<table border=\"1\" class=\"dataframe\">\n",
       "  <thead>\n",
       "    <tr style=\"text-align: right;\">\n",
       "      <th></th>\n",
       "      <th>term_str</th>\n",
       "      <th>1</th>\n",
       "      <th>10</th>\n",
       "      <th>15</th>\n",
       "      <th>2</th>\n",
       "      <th>25</th>\n",
       "      <th>3</th>\n",
       "      <th>430</th>\n",
       "      <th>536</th>\n",
       "      <th>6</th>\n",
       "      <th>a</th>\n",
       "      <th>...</th>\n",
       "      <th>ﬂoors</th>\n",
       "      <th>ﬂopped</th>\n",
       "      <th>ﬂowered</th>\n",
       "      <th>ﬂowers</th>\n",
       "      <th>ﬂown</th>\n",
       "      <th>ﬂung</th>\n",
       "      <th>ﬂushed</th>\n",
       "      <th>ﬂuttered</th>\n",
       "      <th>ﬂuttering</th>\n",
       "      <th>ﬂying</th>\n",
       "    </tr>\n",
       "    <tr>\n",
       "      <th>book_id</th>\n",
       "      <th>chap_id</th>\n",
       "      <th></th>\n",
       "      <th></th>\n",
       "      <th></th>\n",
       "      <th></th>\n",
       "      <th></th>\n",
       "      <th></th>\n",
       "      <th></th>\n",
       "      <th></th>\n",
       "      <th></th>\n",
       "      <th></th>\n",
       "      <th></th>\n",
       "      <th></th>\n",
       "      <th></th>\n",
       "      <th></th>\n",
       "      <th></th>\n",
       "      <th></th>\n",
       "      <th></th>\n",
       "      <th></th>\n",
       "      <th></th>\n",
       "      <th></th>\n",
       "      <th></th>\n",
       "    </tr>\n",
       "  </thead>\n",
       "  <tbody>\n",
       "    <tr>\n",
       "      <th rowspan=\"3\" valign=\"top\">5200</th>\n",
       "      <th>1</th>\n",
       "      <td>0.0</td>\n",
       "      <td>0.0</td>\n",
       "      <td>0.0</td>\n",
       "      <td>0.0</td>\n",
       "      <td>0.0</td>\n",
       "      <td>0.0</td>\n",
       "      <td>0.0</td>\n",
       "      <td>0.0</td>\n",
       "      <td>0.0</td>\n",
       "      <td>0.0</td>\n",
       "      <td>...</td>\n",
       "      <td>0.0</td>\n",
       "      <td>0.0</td>\n",
       "      <td>0.0</td>\n",
       "      <td>0.0</td>\n",
       "      <td>0.0</td>\n",
       "      <td>0.0</td>\n",
       "      <td>0.0</td>\n",
       "      <td>0.0</td>\n",
       "      <td>0.0</td>\n",
       "      <td>0.0</td>\n",
       "    </tr>\n",
       "    <tr>\n",
       "      <th>2</th>\n",
       "      <td>0.0</td>\n",
       "      <td>0.0</td>\n",
       "      <td>0.0</td>\n",
       "      <td>0.0</td>\n",
       "      <td>0.0</td>\n",
       "      <td>0.0</td>\n",
       "      <td>0.0</td>\n",
       "      <td>0.0</td>\n",
       "      <td>0.0</td>\n",
       "      <td>0.0</td>\n",
       "      <td>...</td>\n",
       "      <td>0.0</td>\n",
       "      <td>0.0</td>\n",
       "      <td>0.0</td>\n",
       "      <td>0.0</td>\n",
       "      <td>0.0</td>\n",
       "      <td>0.0</td>\n",
       "      <td>0.0</td>\n",
       "      <td>0.0</td>\n",
       "      <td>0.0</td>\n",
       "      <td>0.0</td>\n",
       "    </tr>\n",
       "    <tr>\n",
       "      <th>3</th>\n",
       "      <td>0.0</td>\n",
       "      <td>0.0</td>\n",
       "      <td>0.0</td>\n",
       "      <td>0.0</td>\n",
       "      <td>0.0</td>\n",
       "      <td>0.0</td>\n",
       "      <td>0.0</td>\n",
       "      <td>0.0</td>\n",
       "      <td>0.0</td>\n",
       "      <td>0.0</td>\n",
       "      <td>...</td>\n",
       "      <td>0.0</td>\n",
       "      <td>0.0</td>\n",
       "      <td>0.0</td>\n",
       "      <td>0.0</td>\n",
       "      <td>0.0</td>\n",
       "      <td>0.0</td>\n",
       "      <td>0.0</td>\n",
       "      <td>0.0</td>\n",
       "      <td>0.0</td>\n",
       "      <td>0.0</td>\n",
       "    </tr>\n",
       "    <tr>\n",
       "      <th>5252</th>\n",
       "      <th>1</th>\n",
       "      <td>0.0</td>\n",
       "      <td>0.0</td>\n",
       "      <td>0.0</td>\n",
       "      <td>0.0</td>\n",
       "      <td>0.0</td>\n",
       "      <td>0.0</td>\n",
       "      <td>0.0</td>\n",
       "      <td>0.0</td>\n",
       "      <td>0.0</td>\n",
       "      <td>0.0</td>\n",
       "      <td>...</td>\n",
       "      <td>0.0</td>\n",
       "      <td>0.0</td>\n",
       "      <td>0.0</td>\n",
       "      <td>0.0</td>\n",
       "      <td>0.0</td>\n",
       "      <td>0.0</td>\n",
       "      <td>0.0</td>\n",
       "      <td>0.0</td>\n",
       "      <td>0.0</td>\n",
       "      <td>0.0</td>\n",
       "    </tr>\n",
       "    <tr>\n",
       "      <th>5353</th>\n",
       "      <th>1</th>\n",
       "      <td>0.0</td>\n",
       "      <td>0.0</td>\n",
       "      <td>0.0</td>\n",
       "      <td>0.0</td>\n",
       "      <td>0.0</td>\n",
       "      <td>0.0</td>\n",
       "      <td>0.0</td>\n",
       "      <td>0.0</td>\n",
       "      <td>0.0</td>\n",
       "      <td>0.0</td>\n",
       "      <td>...</td>\n",
       "      <td>0.0</td>\n",
       "      <td>0.0</td>\n",
       "      <td>0.0</td>\n",
       "      <td>0.0</td>\n",
       "      <td>0.0</td>\n",
       "      <td>0.0</td>\n",
       "      <td>0.0</td>\n",
       "      <td>0.0</td>\n",
       "      <td>0.0</td>\n",
       "      <td>0.0</td>\n",
       "    </tr>\n",
       "    <tr>\n",
       "      <th>...</th>\n",
       "      <th>...</th>\n",
       "      <td>...</td>\n",
       "      <td>...</td>\n",
       "      <td>...</td>\n",
       "      <td>...</td>\n",
       "      <td>...</td>\n",
       "      <td>...</td>\n",
       "      <td>...</td>\n",
       "      <td>...</td>\n",
       "      <td>...</td>\n",
       "      <td>...</td>\n",
       "      <td>...</td>\n",
       "      <td>...</td>\n",
       "      <td>...</td>\n",
       "      <td>...</td>\n",
       "      <td>...</td>\n",
       "      <td>...</td>\n",
       "      <td>...</td>\n",
       "      <td>...</td>\n",
       "      <td>...</td>\n",
       "      <td>...</td>\n",
       "      <td>...</td>\n",
       "    </tr>\n",
       "    <tr>\n",
       "      <th rowspan=\"5\" valign=\"top\">23532</th>\n",
       "      <th>6</th>\n",
       "      <td>0.0</td>\n",
       "      <td>0.0</td>\n",
       "      <td>0.0</td>\n",
       "      <td>0.0</td>\n",
       "      <td>0.0</td>\n",
       "      <td>0.0</td>\n",
       "      <td>0.0</td>\n",
       "      <td>0.0</td>\n",
       "      <td>0.0</td>\n",
       "      <td>0.0</td>\n",
       "      <td>...</td>\n",
       "      <td>0.0</td>\n",
       "      <td>0.0</td>\n",
       "      <td>0.0</td>\n",
       "      <td>0.0</td>\n",
       "      <td>0.0</td>\n",
       "      <td>0.0</td>\n",
       "      <td>0.0</td>\n",
       "      <td>0.0</td>\n",
       "      <td>0.0</td>\n",
       "      <td>0.0</td>\n",
       "    </tr>\n",
       "    <tr>\n",
       "      <th>7</th>\n",
       "      <td>0.0</td>\n",
       "      <td>0.0</td>\n",
       "      <td>0.0</td>\n",
       "      <td>0.0</td>\n",
       "      <td>0.0</td>\n",
       "      <td>0.0</td>\n",
       "      <td>0.0</td>\n",
       "      <td>0.0</td>\n",
       "      <td>0.0</td>\n",
       "      <td>0.0</td>\n",
       "      <td>...</td>\n",
       "      <td>0.0</td>\n",
       "      <td>0.0</td>\n",
       "      <td>0.0</td>\n",
       "      <td>0.0</td>\n",
       "      <td>0.0</td>\n",
       "      <td>0.0</td>\n",
       "      <td>0.0</td>\n",
       "      <td>0.0</td>\n",
       "      <td>0.0</td>\n",
       "      <td>0.0</td>\n",
       "    </tr>\n",
       "    <tr>\n",
       "      <th>8</th>\n",
       "      <td>0.0</td>\n",
       "      <td>0.0</td>\n",
       "      <td>0.0</td>\n",
       "      <td>0.0</td>\n",
       "      <td>0.0</td>\n",
       "      <td>0.0</td>\n",
       "      <td>0.0</td>\n",
       "      <td>0.0</td>\n",
       "      <td>0.0</td>\n",
       "      <td>0.0</td>\n",
       "      <td>...</td>\n",
       "      <td>0.0</td>\n",
       "      <td>0.0</td>\n",
       "      <td>0.0</td>\n",
       "      <td>0.0</td>\n",
       "      <td>0.0</td>\n",
       "      <td>0.0</td>\n",
       "      <td>0.0</td>\n",
       "      <td>0.0</td>\n",
       "      <td>0.0</td>\n",
       "      <td>0.0</td>\n",
       "    </tr>\n",
       "    <tr>\n",
       "      <th>9</th>\n",
       "      <td>0.0</td>\n",
       "      <td>0.0</td>\n",
       "      <td>0.0</td>\n",
       "      <td>0.0</td>\n",
       "      <td>0.0</td>\n",
       "      <td>0.0</td>\n",
       "      <td>0.0</td>\n",
       "      <td>0.0</td>\n",
       "      <td>0.0</td>\n",
       "      <td>0.0</td>\n",
       "      <td>...</td>\n",
       "      <td>0.0</td>\n",
       "      <td>0.0</td>\n",
       "      <td>0.0</td>\n",
       "      <td>0.0</td>\n",
       "      <td>0.0</td>\n",
       "      <td>0.0</td>\n",
       "      <td>0.0</td>\n",
       "      <td>0.0</td>\n",
       "      <td>0.0</td>\n",
       "      <td>0.0</td>\n",
       "    </tr>\n",
       "    <tr>\n",
       "      <th>10</th>\n",
       "      <td>0.0</td>\n",
       "      <td>0.0</td>\n",
       "      <td>0.0</td>\n",
       "      <td>0.0</td>\n",
       "      <td>0.0</td>\n",
       "      <td>0.0</td>\n",
       "      <td>0.0</td>\n",
       "      <td>0.0</td>\n",
       "      <td>0.0</td>\n",
       "      <td>0.0</td>\n",
       "      <td>...</td>\n",
       "      <td>0.0</td>\n",
       "      <td>0.0</td>\n",
       "      <td>0.0</td>\n",
       "      <td>0.0</td>\n",
       "      <td>0.0</td>\n",
       "      <td>0.0</td>\n",
       "      <td>0.0</td>\n",
       "      <td>0.0</td>\n",
       "      <td>0.0</td>\n",
       "      <td>0.0</td>\n",
       "    </tr>\n",
       "  </tbody>\n",
       "</table>\n",
       "<p>70 rows × 14598 columns</p>\n",
       "</div>"
      ],
      "text/plain": [
       "term_str           1   10   15    2   25    3  430  536    6    a  ...  ﬂoors  \\\n",
       "book_id chap_id                                                    ...          \n",
       "5200    1        0.0  0.0  0.0  0.0  0.0  0.0  0.0  0.0  0.0  0.0  ...    0.0   \n",
       "        2        0.0  0.0  0.0  0.0  0.0  0.0  0.0  0.0  0.0  0.0  ...    0.0   \n",
       "        3        0.0  0.0  0.0  0.0  0.0  0.0  0.0  0.0  0.0  0.0  ...    0.0   \n",
       "5252    1        0.0  0.0  0.0  0.0  0.0  0.0  0.0  0.0  0.0  0.0  ...    0.0   \n",
       "5353    1        0.0  0.0  0.0  0.0  0.0  0.0  0.0  0.0  0.0  0.0  ...    0.0   \n",
       "...              ...  ...  ...  ...  ...  ...  ...  ...  ...  ...  ...    ...   \n",
       "23532   6        0.0  0.0  0.0  0.0  0.0  0.0  0.0  0.0  0.0  0.0  ...    0.0   \n",
       "        7        0.0  0.0  0.0  0.0  0.0  0.0  0.0  0.0  0.0  0.0  ...    0.0   \n",
       "        8        0.0  0.0  0.0  0.0  0.0  0.0  0.0  0.0  0.0  0.0  ...    0.0   \n",
       "        9        0.0  0.0  0.0  0.0  0.0  0.0  0.0  0.0  0.0  0.0  ...    0.0   \n",
       "        10       0.0  0.0  0.0  0.0  0.0  0.0  0.0  0.0  0.0  0.0  ...    0.0   \n",
       "\n",
       "term_str         ﬂopped  ﬂowered  ﬂowers  ﬂown  ﬂung  ﬂushed  ﬂuttered  \\\n",
       "book_id chap_id                                                          \n",
       "5200    1           0.0      0.0     0.0   0.0   0.0     0.0       0.0   \n",
       "        2           0.0      0.0     0.0   0.0   0.0     0.0       0.0   \n",
       "        3           0.0      0.0     0.0   0.0   0.0     0.0       0.0   \n",
       "5252    1           0.0      0.0     0.0   0.0   0.0     0.0       0.0   \n",
       "5353    1           0.0      0.0     0.0   0.0   0.0     0.0       0.0   \n",
       "...                 ...      ...     ...   ...   ...     ...       ...   \n",
       "23532   6           0.0      0.0     0.0   0.0   0.0     0.0       0.0   \n",
       "        7           0.0      0.0     0.0   0.0   0.0     0.0       0.0   \n",
       "        8           0.0      0.0     0.0   0.0   0.0     0.0       0.0   \n",
       "        9           0.0      0.0     0.0   0.0   0.0     0.0       0.0   \n",
       "        10          0.0      0.0     0.0   0.0   0.0     0.0       0.0   \n",
       "\n",
       "term_str         ﬂuttering  ﬂying  \n",
       "book_id chap_id                    \n",
       "5200    1              0.0    0.0  \n",
       "        2              0.0    0.0  \n",
       "        3              0.0    0.0  \n",
       "5252    1              0.0    0.0  \n",
       "5353    1              0.0    0.0  \n",
       "...                    ...    ...  \n",
       "23532   6              0.0    0.0  \n",
       "        7              0.0    0.0  \n",
       "        8              0.0    0.0  \n",
       "        9              0.0    0.0  \n",
       "        10             0.0    0.0  \n",
       "\n",
       "[70 rows x 14598 columns]"
      ]
     },
     "execution_count": 9,
     "metadata": {},
     "output_type": "execute_result"
    }
   ],
   "source": [
    "TFIDF"
   ]
  },
  {
   "cell_type": "code",
   "execution_count": 10,
   "id": "203a0e00",
   "metadata": {},
   "outputs": [],
   "source": [
    "#TFIDF.to_csv('TFIDF.csv')"
   ]
  },
  {
   "cell_type": "markdown",
   "id": "ad99cf29",
   "metadata": {},
   "source": [
    "## Reduced and Normalized TFIDF_L2"
   ]
  },
  {
   "cell_type": "code",
   "execution_count": 11,
   "id": "1b6cbe67",
   "metadata": {},
   "outputs": [
    {
     "data": {
      "text/html": [
       "<div>\n",
       "<style scoped>\n",
       "    .dataframe tbody tr th:only-of-type {\n",
       "        vertical-align: middle;\n",
       "    }\n",
       "\n",
       "    .dataframe tbody tr th {\n",
       "        vertical-align: top;\n",
       "    }\n",
       "\n",
       "    .dataframe thead th {\n",
       "        text-align: right;\n",
       "    }\n",
       "</style>\n",
       "<table border=\"1\" class=\"dataframe\">\n",
       "  <thead>\n",
       "    <tr style=\"text-align: right;\">\n",
       "      <th></th>\n",
       "      <th>term_str</th>\n",
       "      <th>abandoned</th>\n",
       "      <th>abandoning</th>\n",
       "      <th>abilities</th>\n",
       "      <th>ability</th>\n",
       "      <th>able</th>\n",
       "      <th>able make</th>\n",
       "      <th>abruptly</th>\n",
       "      <th>absence</th>\n",
       "      <th>absent</th>\n",
       "      <th>absolute</th>\n",
       "      <th>...</th>\n",
       "      <th>ﬁre</th>\n",
       "      <th>ﬁre brigade</th>\n",
       "      <th>ﬁre engine</th>\n",
       "      <th>ﬁrmly</th>\n",
       "      <th>ﬁrst</th>\n",
       "      <th>ﬁrst time</th>\n",
       "      <th>ﬁst</th>\n",
       "      <th>ﬁt</th>\n",
       "      <th>ﬁxed</th>\n",
       "      <th>ﬂoor</th>\n",
       "    </tr>\n",
       "    <tr>\n",
       "      <th>book_id</th>\n",
       "      <th>chap_id</th>\n",
       "      <th></th>\n",
       "      <th></th>\n",
       "      <th></th>\n",
       "      <th></th>\n",
       "      <th></th>\n",
       "      <th></th>\n",
       "      <th></th>\n",
       "      <th></th>\n",
       "      <th></th>\n",
       "      <th></th>\n",
       "      <th></th>\n",
       "      <th></th>\n",
       "      <th></th>\n",
       "      <th></th>\n",
       "      <th></th>\n",
       "      <th></th>\n",
       "      <th></th>\n",
       "      <th></th>\n",
       "      <th></th>\n",
       "      <th></th>\n",
       "      <th></th>\n",
       "    </tr>\n",
       "  </thead>\n",
       "  <tbody>\n",
       "    <tr>\n",
       "      <th rowspan=\"3\" valign=\"top\">5200</th>\n",
       "      <th>1</th>\n",
       "      <td>0.000000</td>\n",
       "      <td>0.008635</td>\n",
       "      <td>0.000000</td>\n",
       "      <td>0.00000</td>\n",
       "      <td>0.022226</td>\n",
       "      <td>0.0</td>\n",
       "      <td>0.000000</td>\n",
       "      <td>0.000000</td>\n",
       "      <td>0.0</td>\n",
       "      <td>0.0</td>\n",
       "      <td>...</td>\n",
       "      <td>0.0</td>\n",
       "      <td>0.0</td>\n",
       "      <td>0.0</td>\n",
       "      <td>0.0</td>\n",
       "      <td>0.0</td>\n",
       "      <td>0.0</td>\n",
       "      <td>0.0</td>\n",
       "      <td>0.0</td>\n",
       "      <td>0.0</td>\n",
       "      <td>0.0</td>\n",
       "    </tr>\n",
       "    <tr>\n",
       "      <th>2</th>\n",
       "      <td>0.005631</td>\n",
       "      <td>0.007872</td>\n",
       "      <td>0.000000</td>\n",
       "      <td>0.00680</td>\n",
       "      <td>0.037633</td>\n",
       "      <td>0.0</td>\n",
       "      <td>0.000000</td>\n",
       "      <td>0.000000</td>\n",
       "      <td>0.0</td>\n",
       "      <td>0.0</td>\n",
       "      <td>...</td>\n",
       "      <td>0.0</td>\n",
       "      <td>0.0</td>\n",
       "      <td>0.0</td>\n",
       "      <td>0.0</td>\n",
       "      <td>0.0</td>\n",
       "      <td>0.0</td>\n",
       "      <td>0.0</td>\n",
       "      <td>0.0</td>\n",
       "      <td>0.0</td>\n",
       "      <td>0.0</td>\n",
       "    </tr>\n",
       "    <tr>\n",
       "      <th>3</th>\n",
       "      <td>0.005539</td>\n",
       "      <td>0.000000</td>\n",
       "      <td>0.000000</td>\n",
       "      <td>0.00000</td>\n",
       "      <td>0.008543</td>\n",
       "      <td>0.0</td>\n",
       "      <td>0.007158</td>\n",
       "      <td>0.000000</td>\n",
       "      <td>0.0</td>\n",
       "      <td>0.0</td>\n",
       "      <td>...</td>\n",
       "      <td>0.0</td>\n",
       "      <td>0.0</td>\n",
       "      <td>0.0</td>\n",
       "      <td>0.0</td>\n",
       "      <td>0.0</td>\n",
       "      <td>0.0</td>\n",
       "      <td>0.0</td>\n",
       "      <td>0.0</td>\n",
       "      <td>0.0</td>\n",
       "      <td>0.0</td>\n",
       "    </tr>\n",
       "    <tr>\n",
       "      <th>5252</th>\n",
       "      <th>1</th>\n",
       "      <td>0.003160</td>\n",
       "      <td>0.004418</td>\n",
       "      <td>0.000000</td>\n",
       "      <td>0.00000</td>\n",
       "      <td>0.006498</td>\n",
       "      <td>0.0</td>\n",
       "      <td>0.000000</td>\n",
       "      <td>0.003593</td>\n",
       "      <td>0.0</td>\n",
       "      <td>0.0</td>\n",
       "      <td>...</td>\n",
       "      <td>0.0</td>\n",
       "      <td>0.0</td>\n",
       "      <td>0.0</td>\n",
       "      <td>0.0</td>\n",
       "      <td>0.0</td>\n",
       "      <td>0.0</td>\n",
       "      <td>0.0</td>\n",
       "      <td>0.0</td>\n",
       "      <td>0.0</td>\n",
       "      <td>0.0</td>\n",
       "    </tr>\n",
       "    <tr>\n",
       "      <th>5353</th>\n",
       "      <th>1</th>\n",
       "      <td>0.000000</td>\n",
       "      <td>0.000000</td>\n",
       "      <td>0.004867</td>\n",
       "      <td>0.00438</td>\n",
       "      <td>0.009324</td>\n",
       "      <td>0.0</td>\n",
       "      <td>0.000000</td>\n",
       "      <td>0.024749</td>\n",
       "      <td>0.0</td>\n",
       "      <td>0.0</td>\n",
       "      <td>...</td>\n",
       "      <td>0.0</td>\n",
       "      <td>0.0</td>\n",
       "      <td>0.0</td>\n",
       "      <td>0.0</td>\n",
       "      <td>0.0</td>\n",
       "      <td>0.0</td>\n",
       "      <td>0.0</td>\n",
       "      <td>0.0</td>\n",
       "      <td>0.0</td>\n",
       "      <td>0.0</td>\n",
       "    </tr>\n",
       "    <tr>\n",
       "      <th>...</th>\n",
       "      <th>...</th>\n",
       "      <td>...</td>\n",
       "      <td>...</td>\n",
       "      <td>...</td>\n",
       "      <td>...</td>\n",
       "      <td>...</td>\n",
       "      <td>...</td>\n",
       "      <td>...</td>\n",
       "      <td>...</td>\n",
       "      <td>...</td>\n",
       "      <td>...</td>\n",
       "      <td>...</td>\n",
       "      <td>...</td>\n",
       "      <td>...</td>\n",
       "      <td>...</td>\n",
       "      <td>...</td>\n",
       "      <td>...</td>\n",
       "      <td>...</td>\n",
       "      <td>...</td>\n",
       "      <td>...</td>\n",
       "      <td>...</td>\n",
       "      <td>...</td>\n",
       "    </tr>\n",
       "    <tr>\n",
       "      <th rowspan=\"5\" valign=\"top\">23532</th>\n",
       "      <th>6</th>\n",
       "      <td>0.000000</td>\n",
       "      <td>0.000000</td>\n",
       "      <td>0.000000</td>\n",
       "      <td>0.00000</td>\n",
       "      <td>0.000000</td>\n",
       "      <td>0.0</td>\n",
       "      <td>0.000000</td>\n",
       "      <td>0.000000</td>\n",
       "      <td>0.0</td>\n",
       "      <td>0.0</td>\n",
       "      <td>...</td>\n",
       "      <td>0.0</td>\n",
       "      <td>0.0</td>\n",
       "      <td>0.0</td>\n",
       "      <td>0.0</td>\n",
       "      <td>0.0</td>\n",
       "      <td>0.0</td>\n",
       "      <td>0.0</td>\n",
       "      <td>0.0</td>\n",
       "      <td>0.0</td>\n",
       "      <td>0.0</td>\n",
       "    </tr>\n",
       "    <tr>\n",
       "      <th>7</th>\n",
       "      <td>0.000000</td>\n",
       "      <td>0.000000</td>\n",
       "      <td>0.000000</td>\n",
       "      <td>0.00000</td>\n",
       "      <td>0.000000</td>\n",
       "      <td>0.0</td>\n",
       "      <td>0.000000</td>\n",
       "      <td>0.000000</td>\n",
       "      <td>0.0</td>\n",
       "      <td>0.0</td>\n",
       "      <td>...</td>\n",
       "      <td>0.0</td>\n",
       "      <td>0.0</td>\n",
       "      <td>0.0</td>\n",
       "      <td>0.0</td>\n",
       "      <td>0.0</td>\n",
       "      <td>0.0</td>\n",
       "      <td>0.0</td>\n",
       "      <td>0.0</td>\n",
       "      <td>0.0</td>\n",
       "      <td>0.0</td>\n",
       "    </tr>\n",
       "    <tr>\n",
       "      <th>8</th>\n",
       "      <td>0.000000</td>\n",
       "      <td>0.000000</td>\n",
       "      <td>0.000000</td>\n",
       "      <td>0.00000</td>\n",
       "      <td>0.047635</td>\n",
       "      <td>0.0</td>\n",
       "      <td>0.000000</td>\n",
       "      <td>0.000000</td>\n",
       "      <td>0.0</td>\n",
       "      <td>0.0</td>\n",
       "      <td>...</td>\n",
       "      <td>0.0</td>\n",
       "      <td>0.0</td>\n",
       "      <td>0.0</td>\n",
       "      <td>0.0</td>\n",
       "      <td>0.0</td>\n",
       "      <td>0.0</td>\n",
       "      <td>0.0</td>\n",
       "      <td>0.0</td>\n",
       "      <td>0.0</td>\n",
       "      <td>0.0</td>\n",
       "    </tr>\n",
       "    <tr>\n",
       "      <th>9</th>\n",
       "      <td>0.000000</td>\n",
       "      <td>0.000000</td>\n",
       "      <td>0.000000</td>\n",
       "      <td>0.00000</td>\n",
       "      <td>0.091053</td>\n",
       "      <td>0.0</td>\n",
       "      <td>0.000000</td>\n",
       "      <td>0.000000</td>\n",
       "      <td>0.0</td>\n",
       "      <td>0.0</td>\n",
       "      <td>...</td>\n",
       "      <td>0.0</td>\n",
       "      <td>0.0</td>\n",
       "      <td>0.0</td>\n",
       "      <td>0.0</td>\n",
       "      <td>0.0</td>\n",
       "      <td>0.0</td>\n",
       "      <td>0.0</td>\n",
       "      <td>0.0</td>\n",
       "      <td>0.0</td>\n",
       "      <td>0.0</td>\n",
       "    </tr>\n",
       "    <tr>\n",
       "      <th>10</th>\n",
       "      <td>0.035651</td>\n",
       "      <td>0.000000</td>\n",
       "      <td>0.000000</td>\n",
       "      <td>0.00000</td>\n",
       "      <td>0.018329</td>\n",
       "      <td>0.0</td>\n",
       "      <td>0.000000</td>\n",
       "      <td>0.000000</td>\n",
       "      <td>0.0</td>\n",
       "      <td>0.0</td>\n",
       "      <td>...</td>\n",
       "      <td>0.0</td>\n",
       "      <td>0.0</td>\n",
       "      <td>0.0</td>\n",
       "      <td>0.0</td>\n",
       "      <td>0.0</td>\n",
       "      <td>0.0</td>\n",
       "      <td>0.0</td>\n",
       "      <td>0.0</td>\n",
       "      <td>0.0</td>\n",
       "      <td>0.0</td>\n",
       "    </tr>\n",
       "  </tbody>\n",
       "</table>\n",
       "<p>70 rows × 4000 columns</p>\n",
       "</div>"
      ],
      "text/plain": [
       "term_str         abandoned  abandoning  abilities  ability      able  \\\n",
       "book_id chap_id                                                        \n",
       "5200    1         0.000000    0.008635   0.000000  0.00000  0.022226   \n",
       "        2         0.005631    0.007872   0.000000  0.00680  0.037633   \n",
       "        3         0.005539    0.000000   0.000000  0.00000  0.008543   \n",
       "5252    1         0.003160    0.004418   0.000000  0.00000  0.006498   \n",
       "5353    1         0.000000    0.000000   0.004867  0.00438  0.009324   \n",
       "...                    ...         ...        ...      ...       ...   \n",
       "23532   6         0.000000    0.000000   0.000000  0.00000  0.000000   \n",
       "        7         0.000000    0.000000   0.000000  0.00000  0.000000   \n",
       "        8         0.000000    0.000000   0.000000  0.00000  0.047635   \n",
       "        9         0.000000    0.000000   0.000000  0.00000  0.091053   \n",
       "        10        0.035651    0.000000   0.000000  0.00000  0.018329   \n",
       "\n",
       "term_str         able make  abruptly   absence  absent  absolute  ...  ﬁre  \\\n",
       "book_id chap_id                                                   ...        \n",
       "5200    1              0.0  0.000000  0.000000     0.0       0.0  ...  0.0   \n",
       "        2              0.0  0.000000  0.000000     0.0       0.0  ...  0.0   \n",
       "        3              0.0  0.007158  0.000000     0.0       0.0  ...  0.0   \n",
       "5252    1              0.0  0.000000  0.003593     0.0       0.0  ...  0.0   \n",
       "5353    1              0.0  0.000000  0.024749     0.0       0.0  ...  0.0   \n",
       "...                    ...       ...       ...     ...       ...  ...  ...   \n",
       "23532   6              0.0  0.000000  0.000000     0.0       0.0  ...  0.0   \n",
       "        7              0.0  0.000000  0.000000     0.0       0.0  ...  0.0   \n",
       "        8              0.0  0.000000  0.000000     0.0       0.0  ...  0.0   \n",
       "        9              0.0  0.000000  0.000000     0.0       0.0  ...  0.0   \n",
       "        10             0.0  0.000000  0.000000     0.0       0.0  ...  0.0   \n",
       "\n",
       "term_str         ﬁre brigade  ﬁre engine  ﬁrmly  ﬁrst  ﬁrst time  ﬁst   ﬁt  \\\n",
       "book_id chap_id                                                              \n",
       "5200    1                0.0         0.0    0.0   0.0        0.0  0.0  0.0   \n",
       "        2                0.0         0.0    0.0   0.0        0.0  0.0  0.0   \n",
       "        3                0.0         0.0    0.0   0.0        0.0  0.0  0.0   \n",
       "5252    1                0.0         0.0    0.0   0.0        0.0  0.0  0.0   \n",
       "5353    1                0.0         0.0    0.0   0.0        0.0  0.0  0.0   \n",
       "...                      ...         ...    ...   ...        ...  ...  ...   \n",
       "23532   6                0.0         0.0    0.0   0.0        0.0  0.0  0.0   \n",
       "        7                0.0         0.0    0.0   0.0        0.0  0.0  0.0   \n",
       "        8                0.0         0.0    0.0   0.0        0.0  0.0  0.0   \n",
       "        9                0.0         0.0    0.0   0.0        0.0  0.0  0.0   \n",
       "        10               0.0         0.0    0.0   0.0        0.0  0.0  0.0   \n",
       "\n",
       "term_str         ﬁxed  ﬂoor  \n",
       "book_id chap_id              \n",
       "5200    1         0.0   0.0  \n",
       "        2         0.0   0.0  \n",
       "        3         0.0   0.0  \n",
       "5252    1         0.0   0.0  \n",
       "5353    1         0.0   0.0  \n",
       "...               ...   ...  \n",
       "23532   6         0.0   0.0  \n",
       "        7         0.0   0.0  \n",
       "        8         0.0   0.0  \n",
       "        9         0.0   0.0  \n",
       "        10        0.0   0.0  \n",
       "\n",
       "[70 rows x 4000 columns]"
      ]
     },
     "execution_count": 11,
     "metadata": {},
     "output_type": "execute_result"
    }
   ],
   "source": [
    "tfidf_engine = TfidfTransformer(norm='l2', use_idf=True)\n",
    "X1 = tfidf_engine.fit_transform(DTM)\n",
    "L2 = pd.DataFrame(X1.toarray(), columns=DTM.columns, index=DTM.index)\n",
    "L2"
   ]
  },
  {
   "cell_type": "code",
   "execution_count": 12,
   "id": "39a0d0f8",
   "metadata": {},
   "outputs": [],
   "source": [
    "#L2.to_csv('L2.csv')"
   ]
  },
  {
   "cell_type": "markdown",
   "id": "61b3c6db",
   "metadata": {},
   "source": [
    "# PCA"
   ]
  },
  {
   "cell_type": "code",
   "execution_count": 13,
   "id": "971e430f",
   "metadata": {},
   "outputs": [
    {
     "data": {
      "text/html": [
       "<div>\n",
       "<style scoped>\n",
       "    .dataframe tbody tr th:only-of-type {\n",
       "        vertical-align: middle;\n",
       "    }\n",
       "\n",
       "    .dataframe tbody tr th {\n",
       "        vertical-align: top;\n",
       "    }\n",
       "\n",
       "    .dataframe thead th {\n",
       "        text-align: right;\n",
       "    }\n",
       "</style>\n",
       "<table border=\"1\" class=\"dataframe\">\n",
       "  <thead>\n",
       "    <tr style=\"text-align: right;\">\n",
       "      <th></th>\n",
       "      <th>source_file_path</th>\n",
       "      <th>author</th>\n",
       "      <th>title</th>\n",
       "      <th>chap_regex</th>\n",
       "      <th>work_type</th>\n",
       "      <th>protagonist_name</th>\n",
       "      <th>ending_type</th>\n",
       "    </tr>\n",
       "    <tr>\n",
       "      <th>book_id</th>\n",
       "      <th></th>\n",
       "      <th></th>\n",
       "      <th></th>\n",
       "      <th></th>\n",
       "      <th></th>\n",
       "      <th></th>\n",
       "      <th></th>\n",
       "    </tr>\n",
       "  </thead>\n",
       "  <tbody>\n",
       "    <tr>\n",
       "      <th>5200</th>\n",
       "      <td>/Users/muhur/OneDrive/Desktop/Muhurto/Data Sci...</td>\n",
       "      <td>KAFKA, FRANZ</td>\n",
       "      <td>METAMORPHOSIS</td>\n",
       "      <td>^\\s*[IVXLCM]+\\s*$</td>\n",
       "      <td>novella</td>\n",
       "      <td>named</td>\n",
       "      <td>not happy</td>\n",
       "    </tr>\n",
       "    <tr>\n",
       "      <th>5252</th>\n",
       "      <td>/Users/muhur/OneDrive/Desktop/Muhurto/Data Sci...</td>\n",
       "      <td>KAFKA, FRANZ</td>\n",
       "      <td>BLUMFELD</td>\n",
       "      <td>NOCHAPTERS</td>\n",
       "      <td>short story</td>\n",
       "      <td>named</td>\n",
       "      <td>ambiguous</td>\n",
       "    </tr>\n",
       "    <tr>\n",
       "      <th>5353</th>\n",
       "      <td>/Users/muhur/OneDrive/Desktop/Muhurto/Data Sci...</td>\n",
       "      <td>KAFKA, FRANZ</td>\n",
       "      <td>THE BURROW</td>\n",
       "      <td>NOCHAPTERS</td>\n",
       "      <td>novella</td>\n",
       "      <td>unnamed</td>\n",
       "      <td>not happy</td>\n",
       "    </tr>\n",
       "    <tr>\n",
       "      <th>5454</th>\n",
       "      <td>/Users/muhur/OneDrive/Desktop/Muhurto/Data Sci...</td>\n",
       "      <td>KAFKA, FRANZ</td>\n",
       "      <td>JOSEPHINE THE SONGSTRESS</td>\n",
       "      <td>NOCHAPTERS</td>\n",
       "      <td>short story</td>\n",
       "      <td>named</td>\n",
       "      <td>not happy</td>\n",
       "    </tr>\n",
       "    <tr>\n",
       "      <th>5555</th>\n",
       "      <td>/Users/muhur/OneDrive/Desktop/Muhurto/Data Sci...</td>\n",
       "      <td>KAFKA, FRANZ</td>\n",
       "      <td>BEFORE THE LAW</td>\n",
       "      <td>NOCHAPTERS</td>\n",
       "      <td>short story</td>\n",
       "      <td>unnamed</td>\n",
       "      <td>not happy</td>\n",
       "    </tr>\n",
       "    <tr>\n",
       "      <th>5656</th>\n",
       "      <td>/Users/muhur/OneDrive/Desktop/Muhurto/Data Sci...</td>\n",
       "      <td>KAFKA, FRANZ</td>\n",
       "      <td>UP IN THE GALLERY</td>\n",
       "      <td>NOCHAPTERS</td>\n",
       "      <td>short story</td>\n",
       "      <td>unnamed</td>\n",
       "      <td>ambiguous</td>\n",
       "    </tr>\n",
       "    <tr>\n",
       "      <th>5757</th>\n",
       "      <td>/Users/muhur/OneDrive/Desktop/Muhurto/Data Sci...</td>\n",
       "      <td>KAFKA, FRANZ</td>\n",
       "      <td>THE HUNTER GRACCHUS</td>\n",
       "      <td>NOCHAPTERS</td>\n",
       "      <td>short story</td>\n",
       "      <td>named</td>\n",
       "      <td>not happy</td>\n",
       "    </tr>\n",
       "    <tr>\n",
       "      <th>5858</th>\n",
       "      <td>/Users/muhur/OneDrive/Desktop/Muhurto/Data Sci...</td>\n",
       "      <td>KAFKA, FRANZ</td>\n",
       "      <td>THE GREAT WALL OF CHINA</td>\n",
       "      <td>NOCHAPTERS</td>\n",
       "      <td>short story</td>\n",
       "      <td>unnamed</td>\n",
       "      <td>ambiguous</td>\n",
       "    </tr>\n",
       "    <tr>\n",
       "      <th>5959</th>\n",
       "      <td>/Users/muhur/OneDrive/Desktop/Muhurto/Data Sci...</td>\n",
       "      <td>KAFKA, FRANZ</td>\n",
       "      <td>A REPORT FOR AN ACADEMY</td>\n",
       "      <td>NOCHAPTERS</td>\n",
       "      <td>short story</td>\n",
       "      <td>unnamed</td>\n",
       "      <td>ambiguous</td>\n",
       "    </tr>\n",
       "    <tr>\n",
       "      <th>6060</th>\n",
       "      <td>/Users/muhur/OneDrive/Desktop/Muhurto/Data Sci...</td>\n",
       "      <td>KAFKA, FRANZ</td>\n",
       "      <td>DEAREST FATHER</td>\n",
       "      <td>NOCHAPTERS</td>\n",
       "      <td>letter</td>\n",
       "      <td>named</td>\n",
       "      <td>not happy</td>\n",
       "    </tr>\n",
       "    <tr>\n",
       "      <th>6161</th>\n",
       "      <td>/Users/muhur/OneDrive/Desktop/Muhurto/Data Sci...</td>\n",
       "      <td>KAFKA, FRANZ</td>\n",
       "      <td>THE JUDGEMENT</td>\n",
       "      <td>NOCHAPTERS</td>\n",
       "      <td>short story</td>\n",
       "      <td>named</td>\n",
       "      <td>not happy</td>\n",
       "    </tr>\n",
       "    <tr>\n",
       "      <th>6262</th>\n",
       "      <td>/Users/muhur/OneDrive/Desktop/Muhurto/Data Sci...</td>\n",
       "      <td>KAFKA, FRANZ</td>\n",
       "      <td>AMERIKA</td>\n",
       "      <td>^\\s*\\d+\\s*$</td>\n",
       "      <td>novel</td>\n",
       "      <td>named</td>\n",
       "      <td>ambiguous</td>\n",
       "    </tr>\n",
       "    <tr>\n",
       "      <th>6363</th>\n",
       "      <td>/Users/muhur/OneDrive/Desktop/Muhurto/Data Sci...</td>\n",
       "      <td>KAFKA, FRANZ</td>\n",
       "      <td>IN THE PENAL COLONY</td>\n",
       "      <td>NOCHAPTERS</td>\n",
       "      <td>novella</td>\n",
       "      <td>unnamed</td>\n",
       "      <td>not happy</td>\n",
       "    </tr>\n",
       "    <tr>\n",
       "      <th>6464</th>\n",
       "      <td>/Users/muhur/OneDrive/Desktop/Muhurto/Data Sci...</td>\n",
       "      <td>KAFKA, FRANZ</td>\n",
       "      <td>THE HUNGER ARTIST</td>\n",
       "      <td>NOCHAPTERS</td>\n",
       "      <td>novella</td>\n",
       "      <td>unnamed</td>\n",
       "      <td>not happy</td>\n",
       "    </tr>\n",
       "    <tr>\n",
       "      <th>6565</th>\n",
       "      <td>/Users/muhur/OneDrive/Desktop/Muhurto/Data Sci...</td>\n",
       "      <td>KAFKA, FRANZ</td>\n",
       "      <td>THE JACKALS AND ARABS</td>\n",
       "      <td>NOCHAPTERS</td>\n",
       "      <td>short story</td>\n",
       "      <td>unnamed</td>\n",
       "      <td>not happy</td>\n",
       "    </tr>\n",
       "    <tr>\n",
       "      <th>6666</th>\n",
       "      <td>/Users/muhur/OneDrive/Desktop/Muhurto/Data Sci...</td>\n",
       "      <td>KAFKA, FRANZ</td>\n",
       "      <td>A COUNTRY DOCTOR</td>\n",
       "      <td>NOCHAPTERS</td>\n",
       "      <td>short story</td>\n",
       "      <td>unnamed</td>\n",
       "      <td>not happy</td>\n",
       "    </tr>\n",
       "    <tr>\n",
       "      <th>6767</th>\n",
       "      <td>/Users/muhur/OneDrive/Desktop/Muhurto/Data Sci...</td>\n",
       "      <td>KAFKA, FRANZ</td>\n",
       "      <td>AN IMPERIAL MESSAGE</td>\n",
       "      <td>NOCHAPTERS</td>\n",
       "      <td>short story</td>\n",
       "      <td>unnamed</td>\n",
       "      <td>not happy</td>\n",
       "    </tr>\n",
       "    <tr>\n",
       "      <th>6969</th>\n",
       "      <td>/Users/muhur/OneDrive/Desktop/Muhurto/Data Sci...</td>\n",
       "      <td>KAFKA, FRANZ</td>\n",
       "      <td>THE CASTLE</td>\n",
       "      <td>^\\s*\\d+\\s*$</td>\n",
       "      <td>novel</td>\n",
       "      <td>unnamed</td>\n",
       "      <td>not happy</td>\n",
       "    </tr>\n",
       "    <tr>\n",
       "      <th>7849</th>\n",
       "      <td>/Users/muhur/OneDrive/Desktop/Muhurto/Data Sci...</td>\n",
       "      <td>KAFKA, FRANZ</td>\n",
       "      <td>THE TRIAL</td>\n",
       "      <td>^\\s*Chapter\\s+(?:One|Two|Three|Four|Five|Six|S...</td>\n",
       "      <td>novel</td>\n",
       "      <td>named</td>\n",
       "      <td>not happy</td>\n",
       "    </tr>\n",
       "    <tr>\n",
       "      <th>23532</th>\n",
       "      <td>/Users/muhur/OneDrive/Desktop/Muhurto/Data Sci...</td>\n",
       "      <td>KAFKA, FRANZ</td>\n",
       "      <td>MEDITATION</td>\n",
       "      <td>^(Children on the country road|Unmasking a con...</td>\n",
       "      <td>short story</td>\n",
       "      <td>unnamed</td>\n",
       "      <td>ambiguous</td>\n",
       "    </tr>\n",
       "  </tbody>\n",
       "</table>\n",
       "</div>"
      ],
      "text/plain": [
       "                                          source_file_path        author  \\\n",
       "book_id                                                                    \n",
       "5200     /Users/muhur/OneDrive/Desktop/Muhurto/Data Sci...  KAFKA, FRANZ   \n",
       "5252     /Users/muhur/OneDrive/Desktop/Muhurto/Data Sci...  KAFKA, FRANZ   \n",
       "5353     /Users/muhur/OneDrive/Desktop/Muhurto/Data Sci...  KAFKA, FRANZ   \n",
       "5454     /Users/muhur/OneDrive/Desktop/Muhurto/Data Sci...  KAFKA, FRANZ   \n",
       "5555     /Users/muhur/OneDrive/Desktop/Muhurto/Data Sci...  KAFKA, FRANZ   \n",
       "5656     /Users/muhur/OneDrive/Desktop/Muhurto/Data Sci...  KAFKA, FRANZ   \n",
       "5757     /Users/muhur/OneDrive/Desktop/Muhurto/Data Sci...  KAFKA, FRANZ   \n",
       "5858     /Users/muhur/OneDrive/Desktop/Muhurto/Data Sci...  KAFKA, FRANZ   \n",
       "5959     /Users/muhur/OneDrive/Desktop/Muhurto/Data Sci...  KAFKA, FRANZ   \n",
       "6060     /Users/muhur/OneDrive/Desktop/Muhurto/Data Sci...  KAFKA, FRANZ   \n",
       "6161     /Users/muhur/OneDrive/Desktop/Muhurto/Data Sci...  KAFKA, FRANZ   \n",
       "6262     /Users/muhur/OneDrive/Desktop/Muhurto/Data Sci...  KAFKA, FRANZ   \n",
       "6363     /Users/muhur/OneDrive/Desktop/Muhurto/Data Sci...  KAFKA, FRANZ   \n",
       "6464     /Users/muhur/OneDrive/Desktop/Muhurto/Data Sci...  KAFKA, FRANZ   \n",
       "6565     /Users/muhur/OneDrive/Desktop/Muhurto/Data Sci...  KAFKA, FRANZ   \n",
       "6666     /Users/muhur/OneDrive/Desktop/Muhurto/Data Sci...  KAFKA, FRANZ   \n",
       "6767     /Users/muhur/OneDrive/Desktop/Muhurto/Data Sci...  KAFKA, FRANZ   \n",
       "6969     /Users/muhur/OneDrive/Desktop/Muhurto/Data Sci...  KAFKA, FRANZ   \n",
       "7849     /Users/muhur/OneDrive/Desktop/Muhurto/Data Sci...  KAFKA, FRANZ   \n",
       "23532    /Users/muhur/OneDrive/Desktop/Muhurto/Data Sci...  KAFKA, FRANZ   \n",
       "\n",
       "                            title  \\\n",
       "book_id                             \n",
       "5200                METAMORPHOSIS   \n",
       "5252                     BLUMFELD   \n",
       "5353                   THE BURROW   \n",
       "5454     JOSEPHINE THE SONGSTRESS   \n",
       "5555               BEFORE THE LAW   \n",
       "5656            UP IN THE GALLERY   \n",
       "5757          THE HUNTER GRACCHUS   \n",
       "5858      THE GREAT WALL OF CHINA   \n",
       "5959      A REPORT FOR AN ACADEMY   \n",
       "6060               DEAREST FATHER   \n",
       "6161                THE JUDGEMENT   \n",
       "6262                      AMERIKA   \n",
       "6363          IN THE PENAL COLONY   \n",
       "6464            THE HUNGER ARTIST   \n",
       "6565        THE JACKALS AND ARABS   \n",
       "6666             A COUNTRY DOCTOR   \n",
       "6767          AN IMPERIAL MESSAGE   \n",
       "6969                   THE CASTLE   \n",
       "7849                    THE TRIAL   \n",
       "23532                  MEDITATION   \n",
       "\n",
       "                                                chap_regex    work_type  \\\n",
       "book_id                                                                   \n",
       "5200                                     ^\\s*[IVXLCM]+\\s*$      novella   \n",
       "5252                                            NOCHAPTERS  short story   \n",
       "5353                                            NOCHAPTERS      novella   \n",
       "5454                                            NOCHAPTERS  short story   \n",
       "5555                                            NOCHAPTERS  short story   \n",
       "5656                                            NOCHAPTERS  short story   \n",
       "5757                                            NOCHAPTERS  short story   \n",
       "5858                                            NOCHAPTERS  short story   \n",
       "5959                                            NOCHAPTERS  short story   \n",
       "6060                                            NOCHAPTERS       letter   \n",
       "6161                                            NOCHAPTERS  short story   \n",
       "6262                                           ^\\s*\\d+\\s*$        novel   \n",
       "6363                                            NOCHAPTERS      novella   \n",
       "6464                                            NOCHAPTERS      novella   \n",
       "6565                                            NOCHAPTERS  short story   \n",
       "6666                                            NOCHAPTERS  short story   \n",
       "6767                                            NOCHAPTERS  short story   \n",
       "6969                                           ^\\s*\\d+\\s*$        novel   \n",
       "7849     ^\\s*Chapter\\s+(?:One|Two|Three|Four|Five|Six|S...        novel   \n",
       "23532    ^(Children on the country road|Unmasking a con...  short story   \n",
       "\n",
       "        protagonist_name ending_type  \n",
       "book_id                               \n",
       "5200               named   not happy  \n",
       "5252               named   ambiguous  \n",
       "5353             unnamed   not happy  \n",
       "5454               named   not happy  \n",
       "5555             unnamed   not happy  \n",
       "5656             unnamed   ambiguous  \n",
       "5757               named   not happy  \n",
       "5858             unnamed   ambiguous  \n",
       "5959             unnamed   ambiguous  \n",
       "6060               named   not happy  \n",
       "6161               named   not happy  \n",
       "6262               named   ambiguous  \n",
       "6363             unnamed   not happy  \n",
       "6464             unnamed   not happy  \n",
       "6565             unnamed   not happy  \n",
       "6666             unnamed   not happy  \n",
       "6767             unnamed   not happy  \n",
       "6969             unnamed   not happy  \n",
       "7849               named   not happy  \n",
       "23532            unnamed   ambiguous  "
      ]
     },
     "execution_count": 13,
     "metadata": {},
     "output_type": "execute_result"
    }
   ],
   "source": [
    "LIB['work_type'] = LIB['title'].str.lower()\n",
    "replacemap = {\n",
    "    \"amerika\": \"novel\",\n",
    "    \"the castle\": \"novel\",\n",
    "    \"the trial\": \"novel\",\n",
    "    \n",
    "    \"metamorphosis\": \"novella\",\n",
    "    \"the burrow\": \"novella\",\n",
    "    \"in the penal colony\": \"novella\",\n",
    "    \"the hunger artist\": \"novella\",\n",
    "    \n",
    "    \"blumfeld\": \"short story\",\n",
    "    \"josephine the songstress\": \"short story\",\n",
    "    \"before the law\": \"short story\",\n",
    "    \"up in the gallery\": \"short story\",\n",
    "    \"the hunter gracchus\": \"short story\",\n",
    "    \"the great wall of china\": \"short story\",\n",
    "    \"a report for an academy\": \"short story\",\n",
    "    \"the judgement\": \"short story\",\n",
    "    \"the jackals and arabs\": \"short story\",\n",
    "    \"a country doctor\": \"short story\",\n",
    "    \"an imperial message\": \"short story\",\n",
    "    \"meditation\": \"short story\",\n",
    "    \n",
    "    \"dearest father\": \"letter\"\n",
    "}\n",
    "LIB['work_type'] = LIB['work_type'].replace(replacemap)\n",
    "LIB\n",
    "\n",
    "kafka_named_character_map = {\n",
    "    \"amerika\": \"named\",\n",
    "    \"the castle\": \"unnamed\",\n",
    "    \"the trial\": \"named\",\n",
    "\n",
    "    \"metamorphosis\": \"named\",\n",
    "    \"the burrow\": \"unnamed\",\n",
    "    \"in the penal colony\": \"unnamed\",\n",
    "    \"the hunger artist\": \"unnamed\",\n",
    "\n",
    "    \"blumfeld\": \"named\",\n",
    "    \"josephine the songstress\": \"named\",\n",
    "    \"before the law\": \"unnamed\",\n",
    "    \"up in the gallery\": \"unnamed\",\n",
    "    \"the hunter gracchus\": \"named\",\n",
    "    \"the great wall of china\": \"unnamed\",\n",
    "    \"a report for an academy\": \"unnamed\",\n",
    "    \"the judgement\": \"named\",\n",
    "    \"the jackals and arabs\": \"unnamed\",\n",
    "    \"a country doctor\": \"unnamed\",\n",
    "    \"an imperial message\": \"unnamed\",\n",
    "    \"meditation\": \"unnamed\",\n",
    "\n",
    "    \"dearest father\": \"named\"\n",
    "}\n",
    "LIB['protagonist_name'] = LIB['title'].str.lower()\n",
    "LIB['protagonist_name'] = LIB['protagonist_name'].replace(kafka_named_character_map)\n",
    "LIB['ending_type'] = LIB['title'].str.lower()\n",
    "\n",
    "kafka_ending_map = {\n",
    "    \"amerika\": \"ambiguous\",\n",
    "    \"the castle\": \"not happy\",\n",
    "    \"the trial\": \"not happy\",\n",
    "\n",
    "    \"metamorphosis\": \"not happy\",\n",
    "    \"the burrow\": \"not happy\",\n",
    "    \"in the penal colony\": \"not happy\",\n",
    "    \"the hunger artist\": \"not happy\",\n",
    "\n",
    "    \"blumfeld\": \"ambiguous\",\n",
    "    \"josephine the songstress\": \"not happy\",\n",
    "    \"before the law\": \"not happy\",\n",
    "    \"up in the gallery\": \"ambiguous\",\n",
    "    \"the hunter gracchus\": \"not happy\",\n",
    "    \"the great wall of china\": \"ambiguous\",\n",
    "    \"a report for an academy\": \"ambiguous\",\n",
    "    \"the judgement\": \"not happy\",\n",
    "    \"the jackals and arabs\": \"not happy\",\n",
    "    \"a country doctor\": \"not happy\",\n",
    "    \"an imperial message\": \"not happy\",\n",
    "    \"meditation\": \"ambiguous\",\n",
    "\n",
    "    \"dearest father\": \"not happy\"\n",
    "}\n",
    "LIB['ending_type'] = LIB['ending_type'].replace(kafka_ending_map)\n",
    "LIB"
   ]
  },
  {
   "cell_type": "code",
   "execution_count": 14,
   "id": "da7203cc",
   "metadata": {},
   "outputs": [
    {
     "data": {
      "application/vnd.plotly.v1+json": {
       "config": {
        "plotlyServerURL": "https://plot.ly"
       },
       "data": [
        {
         "hovertemplate": "<b>%{hovertext}</b><br><br>work_type=novella<br>PC0=%{x}<br>PC1=%{y}<extra></extra>",
         "hovertext": [
          "novella",
          "novella",
          "novella",
          "novella",
          "novella",
          "novella"
         ],
         "legendgroup": "novella",
         "marker": {
          "color": "#636efa",
          "symbol": "circle"
         },
         "mode": "markers",
         "name": "novella",
         "orientation": "v",
         "showlegend": true,
         "type": "scatter",
         "x": [
          0.14126953905308776,
          0.17688163437400353,
          0.16833140032825358,
          0.09979773247194462,
          0.1165853224026076,
          0.15296170861034195
         ],
         "xaxis": "x",
         "y": [
          -0.25559683285633394,
          -0.2822791142292536,
          -0.25692430428994,
          -0.14291500648485864,
          -0.12146078852549541,
          -0.1581315232119775
         ],
         "yaxis": "y"
        },
        {
         "alignmentgroup": "True",
         "hovertemplate": "<b>%{hovertext}</b><br><br>work_type=novella<br>PC0=%{x}<extra></extra>",
         "hovertext": [
          "novella",
          "novella",
          "novella",
          "novella",
          "novella",
          "novella"
         ],
         "legendgroup": "novella",
         "marker": {
          "color": "#636efa",
          "symbol": "circle"
         },
         "name": "novella",
         "notched": true,
         "offsetgroup": "novella",
         "showlegend": false,
         "type": "box",
         "x": [
          0.14126953905308776,
          0.17688163437400353,
          0.16833140032825358,
          0.09979773247194462,
          0.1165853224026076,
          0.15296170861034195
         ],
         "xaxis": "x2",
         "yaxis": "y2"
        },
        {
         "hovertemplate": "<b>%{hovertext}</b><br><br>work_type=short story<br>PC0=%{x}<br>PC1=%{y}<extra></extra>",
         "hovertext": [
          "short story",
          "short story",
          "short story",
          "short story",
          "short story",
          "short story",
          "short story",
          "short story",
          "short story",
          "short story",
          "short story",
          "short story",
          "short story",
          "short story",
          "short story",
          "short story",
          "short story",
          "short story",
          "short story",
          "short story",
          "short story",
          "short story"
         ],
         "legendgroup": "short story",
         "marker": {
          "color": "#EF553B",
          "symbol": "circle"
         },
         "mode": "markers",
         "name": "short story",
         "orientation": "v",
         "showlegend": true,
         "type": "scatter",
         "x": [
          0.1361135568345986,
          0.12517815954010028,
          0.15031661471992636,
          0.17183186811573484,
          0.20989580183350756,
          0.09857258437468598,
          0.11844521504878909,
          0.10597207132637539,
          0.07569491873617432,
          0.049907360226941595,
          0.11281718924441139,
          0.15726343848943877,
          0.0988283704815452,
          0.09576620749031815,
          0.10946787918508116,
          0.1745248558993073,
          0.14828559195993218,
          0.16831114763778313,
          0.16694232965097205,
          0.1811507457607211,
          0.1892459147890095,
          0.008092513274519604
         ],
         "xaxis": "x",
         "y": [
          -0.1384112453737977,
          -0.19764503272924544,
          -0.19896270397084143,
          -0.16633378583514227,
          -0.21739928107785705,
          -0.10652705424480313,
          -0.17958841243387838,
          -0.16718987679953431,
          -0.1362892299590414,
          -0.08689386839781553,
          -0.20525609997665759,
          -0.18278182822282077,
          -0.15425041159936928,
          -0.1367877128481449,
          -0.15775086784878878,
          -0.17165657021690672,
          -0.18047128321988481,
          -0.17995034757097542,
          -0.17585030590023407,
          -0.21630565440906688,
          -0.2069377900375507,
          -0.07699441340429496
         ],
         "yaxis": "y"
        },
        {
         "alignmentgroup": "True",
         "hovertemplate": "<b>%{hovertext}</b><br><br>work_type=short story<br>PC0=%{x}<extra></extra>",
         "hovertext": [
          "short story",
          "short story",
          "short story",
          "short story",
          "short story",
          "short story",
          "short story",
          "short story",
          "short story",
          "short story",
          "short story",
          "short story",
          "short story",
          "short story",
          "short story",
          "short story",
          "short story",
          "short story",
          "short story",
          "short story",
          "short story",
          "short story"
         ],
         "legendgroup": "short story",
         "marker": {
          "color": "#EF553B",
          "symbol": "circle"
         },
         "name": "short story",
         "notched": true,
         "offsetgroup": "short story",
         "showlegend": false,
         "type": "box",
         "x": [
          0.1361135568345986,
          0.12517815954010028,
          0.15031661471992636,
          0.17183186811573484,
          0.20989580183350756,
          0.09857258437468598,
          0.11844521504878909,
          0.10597207132637539,
          0.07569491873617432,
          0.049907360226941595,
          0.11281718924441139,
          0.15726343848943877,
          0.0988283704815452,
          0.09576620749031815,
          0.10946787918508116,
          0.1745248558993073,
          0.14828559195993218,
          0.16831114763778313,
          0.16694232965097205,
          0.1811507457607211,
          0.1892459147890095,
          0.008092513274519604
         ],
         "xaxis": "x2",
         "yaxis": "y2"
        },
        {
         "hovertemplate": "<b>%{hovertext}</b><br><br>work_type=letter<br>PC0=%{x}<br>PC1=%{y}<extra></extra>",
         "hovertext": [
          "letter"
         ],
         "legendgroup": "letter",
         "marker": {
          "color": "#00cc96",
          "symbol": "circle"
         },
         "mode": "markers",
         "name": "letter",
         "orientation": "v",
         "showlegend": true,
         "type": "scatter",
         "x": [
          0.03129514101832702
         ],
         "xaxis": "x",
         "y": [
          -0.10517326223846254
         ],
         "yaxis": "y"
        },
        {
         "alignmentgroup": "True",
         "hovertemplate": "<b>%{hovertext}</b><br><br>work_type=letter<br>PC0=%{x}<extra></extra>",
         "hovertext": [
          "letter"
         ],
         "legendgroup": "letter",
         "marker": {
          "color": "#00cc96",
          "symbol": "circle"
         },
         "name": "letter",
         "notched": true,
         "offsetgroup": "letter",
         "showlegend": false,
         "type": "box",
         "x": [
          0.03129514101832702
         ],
         "xaxis": "x2",
         "yaxis": "y2"
        },
        {
         "hovertemplate": "<b>%{hovertext}</b><br><br>work_type=novel<br>PC0=%{x}<br>PC1=%{y}<extra></extra>",
         "hovertext": [
          "novel",
          "novel",
          "novel",
          "novel",
          "novel",
          "novel",
          "novel",
          "novel",
          "novel",
          "novel",
          "novel",
          "novel",
          "novel",
          "novel",
          "novel",
          "novel",
          "novel",
          "novel",
          "novel",
          "novel",
          "novel",
          "novel",
          "novel",
          "novel",
          "novel",
          "novel",
          "novel",
          "novel",
          "novel",
          "novel",
          "novel",
          "novel",
          "novel",
          "novel",
          "novel",
          "novel",
          "novel",
          "novel",
          "novel",
          "novel",
          "novel"
         ],
         "legendgroup": "novel",
         "marker": {
          "color": "#ab63fa",
          "symbol": "circle"
         },
         "mode": "markers",
         "name": "novel",
         "orientation": "v",
         "showlegend": true,
         "type": "scatter",
         "x": [
          0.4274089637957462,
          0.5148814069169751,
          0.4670046043923445,
          0.5076031404696837,
          0.47660049496721973,
          0.48122666258920116,
          -0.22797028247787093,
          -0.333623658101858,
          -0.4178915369688281,
          -0.48483792805600995,
          -0.1730526138507933,
          -0.34342245952844697,
          -0.3412616921519175,
          -0.20708539635942638,
          -0.2508306280553328,
          -0.29380453653150035,
          -0.3252636289273152,
          -0.4091160948060188,
          -0.09000215006460927,
          -0.4390494245305813,
          -0.23623216114243326,
          -0.31008195536182953,
          -0.2474582805874663,
          -0.1787186480895308,
          -0.10635665104272103,
          -0.32956340011547625,
          -0.3354283718301396,
          -0.3613103338132096,
          -0.03532565689298932,
          -0.08113268744477974,
          -0.323930275848882,
          -0.03672083952058518,
          0.015682933743177935,
          -0.04520577374489598,
          0.08521493658084281,
          0.0565034058945883,
          0.061588758747952506,
          0.02476848343472263,
          0.007702335496056018,
          0.03859834001045718,
          0.06014578592804199
         ],
         "xaxis": "x",
         "y": [
          0.44918882950711964,
          0.5447542235517164,
          0.5503085394159732,
          0.5897506189954224,
          0.5287186709933579,
          0.58693029863459,
          0.07350553437663532,
          0.11430068376463641,
          0.21712212679687978,
          0.2408367202237381,
          0.049056126250716606,
          0.17815250853192066,
          0.18639175985908288,
          0.0637671573917023,
          0.13571448980637457,
          0.07697040690226005,
          0.15796138435965412,
          0.19926689543871282,
          -0.0034851294342869085,
          0.2085367575592385,
          0.030236418672465525,
          0.0618884601397248,
          0.016146003481009523,
          -0.0407616314439031,
          -0.07990814713318582,
          0.05858424069714712,
          0.13800453360071516,
          0.14678874242692885,
          -0.0491223867300166,
          -0.02377415459160983,
          0.1057933119334602,
          -0.03039697563350482,
          -0.07298706391117565,
          -0.018594403006398336,
          -0.08322692554930193,
          -0.09594486686350703,
          0.057431088328866786,
          -0.08279803297197326,
          -0.03588988297980211,
          -0.0830374362308941,
          -0.1034648872475177
         ],
         "yaxis": "y"
        },
        {
         "alignmentgroup": "True",
         "hovertemplate": "<b>%{hovertext}</b><br><br>work_type=novel<br>PC0=%{x}<extra></extra>",
         "hovertext": [
          "novel",
          "novel",
          "novel",
          "novel",
          "novel",
          "novel",
          "novel",
          "novel",
          "novel",
          "novel",
          "novel",
          "novel",
          "novel",
          "novel",
          "novel",
          "novel",
          "novel",
          "novel",
          "novel",
          "novel",
          "novel",
          "novel",
          "novel",
          "novel",
          "novel",
          "novel",
          "novel",
          "novel",
          "novel",
          "novel",
          "novel",
          "novel",
          "novel",
          "novel",
          "novel",
          "novel",
          "novel",
          "novel",
          "novel",
          "novel",
          "novel"
         ],
         "legendgroup": "novel",
         "marker": {
          "color": "#ab63fa",
          "symbol": "circle"
         },
         "name": "novel",
         "notched": true,
         "offsetgroup": "novel",
         "showlegend": false,
         "type": "box",
         "x": [
          0.4274089637957462,
          0.5148814069169751,
          0.4670046043923445,
          0.5076031404696837,
          0.47660049496721973,
          0.48122666258920116,
          -0.22797028247787093,
          -0.333623658101858,
          -0.4178915369688281,
          -0.48483792805600995,
          -0.1730526138507933,
          -0.34342245952844697,
          -0.3412616921519175,
          -0.20708539635942638,
          -0.2508306280553328,
          -0.29380453653150035,
          -0.3252636289273152,
          -0.4091160948060188,
          -0.09000215006460927,
          -0.4390494245305813,
          -0.23623216114243326,
          -0.31008195536182953,
          -0.2474582805874663,
          -0.1787186480895308,
          -0.10635665104272103,
          -0.32956340011547625,
          -0.3354283718301396,
          -0.3613103338132096,
          -0.03532565689298932,
          -0.08113268744477974,
          -0.323930275848882,
          -0.03672083952058518,
          0.015682933743177935,
          -0.04520577374489598,
          0.08521493658084281,
          0.0565034058945883,
          0.061588758747952506,
          0.02476848343472263,
          0.007702335496056018,
          0.03859834001045718,
          0.06014578592804199
         ],
         "xaxis": "x2",
         "yaxis": "y2"
        }
       ],
       "layout": {
        "height": 800,
        "legend": {
         "title": {
          "text": "work_type"
         },
         "tracegroupgap": 0
        },
        "margin": {
         "t": 60
        },
        "template": {
         "data": {
          "bar": [
           {
            "error_x": {
             "color": "#2a3f5f"
            },
            "error_y": {
             "color": "#2a3f5f"
            },
            "marker": {
             "line": {
              "color": "#E5ECF6",
              "width": 0.5
             },
             "pattern": {
              "fillmode": "overlay",
              "size": 10,
              "solidity": 0.2
             }
            },
            "type": "bar"
           }
          ],
          "barpolar": [
           {
            "marker": {
             "line": {
              "color": "#E5ECF6",
              "width": 0.5
             },
             "pattern": {
              "fillmode": "overlay",
              "size": 10,
              "solidity": 0.2
             }
            },
            "type": "barpolar"
           }
          ],
          "carpet": [
           {
            "aaxis": {
             "endlinecolor": "#2a3f5f",
             "gridcolor": "white",
             "linecolor": "white",
             "minorgridcolor": "white",
             "startlinecolor": "#2a3f5f"
            },
            "baxis": {
             "endlinecolor": "#2a3f5f",
             "gridcolor": "white",
             "linecolor": "white",
             "minorgridcolor": "white",
             "startlinecolor": "#2a3f5f"
            },
            "type": "carpet"
           }
          ],
          "choropleth": [
           {
            "colorbar": {
             "outlinewidth": 0,
             "ticks": ""
            },
            "type": "choropleth"
           }
          ],
          "contour": [
           {
            "colorbar": {
             "outlinewidth": 0,
             "ticks": ""
            },
            "colorscale": [
             [
              0,
              "#0d0887"
             ],
             [
              0.1111111111111111,
              "#46039f"
             ],
             [
              0.2222222222222222,
              "#7201a8"
             ],
             [
              0.3333333333333333,
              "#9c179e"
             ],
             [
              0.4444444444444444,
              "#bd3786"
             ],
             [
              0.5555555555555556,
              "#d8576b"
             ],
             [
              0.6666666666666666,
              "#ed7953"
             ],
             [
              0.7777777777777778,
              "#fb9f3a"
             ],
             [
              0.8888888888888888,
              "#fdca26"
             ],
             [
              1,
              "#f0f921"
             ]
            ],
            "type": "contour"
           }
          ],
          "contourcarpet": [
           {
            "colorbar": {
             "outlinewidth": 0,
             "ticks": ""
            },
            "type": "contourcarpet"
           }
          ],
          "heatmap": [
           {
            "colorbar": {
             "outlinewidth": 0,
             "ticks": ""
            },
            "colorscale": [
             [
              0,
              "#0d0887"
             ],
             [
              0.1111111111111111,
              "#46039f"
             ],
             [
              0.2222222222222222,
              "#7201a8"
             ],
             [
              0.3333333333333333,
              "#9c179e"
             ],
             [
              0.4444444444444444,
              "#bd3786"
             ],
             [
              0.5555555555555556,
              "#d8576b"
             ],
             [
              0.6666666666666666,
              "#ed7953"
             ],
             [
              0.7777777777777778,
              "#fb9f3a"
             ],
             [
              0.8888888888888888,
              "#fdca26"
             ],
             [
              1,
              "#f0f921"
             ]
            ],
            "type": "heatmap"
           }
          ],
          "heatmapgl": [
           {
            "colorbar": {
             "outlinewidth": 0,
             "ticks": ""
            },
            "colorscale": [
             [
              0,
              "#0d0887"
             ],
             [
              0.1111111111111111,
              "#46039f"
             ],
             [
              0.2222222222222222,
              "#7201a8"
             ],
             [
              0.3333333333333333,
              "#9c179e"
             ],
             [
              0.4444444444444444,
              "#bd3786"
             ],
             [
              0.5555555555555556,
              "#d8576b"
             ],
             [
              0.6666666666666666,
              "#ed7953"
             ],
             [
              0.7777777777777778,
              "#fb9f3a"
             ],
             [
              0.8888888888888888,
              "#fdca26"
             ],
             [
              1,
              "#f0f921"
             ]
            ],
            "type": "heatmapgl"
           }
          ],
          "histogram": [
           {
            "marker": {
             "pattern": {
              "fillmode": "overlay",
              "size": 10,
              "solidity": 0.2
             }
            },
            "type": "histogram"
           }
          ],
          "histogram2d": [
           {
            "colorbar": {
             "outlinewidth": 0,
             "ticks": ""
            },
            "colorscale": [
             [
              0,
              "#0d0887"
             ],
             [
              0.1111111111111111,
              "#46039f"
             ],
             [
              0.2222222222222222,
              "#7201a8"
             ],
             [
              0.3333333333333333,
              "#9c179e"
             ],
             [
              0.4444444444444444,
              "#bd3786"
             ],
             [
              0.5555555555555556,
              "#d8576b"
             ],
             [
              0.6666666666666666,
              "#ed7953"
             ],
             [
              0.7777777777777778,
              "#fb9f3a"
             ],
             [
              0.8888888888888888,
              "#fdca26"
             ],
             [
              1,
              "#f0f921"
             ]
            ],
            "type": "histogram2d"
           }
          ],
          "histogram2dcontour": [
           {
            "colorbar": {
             "outlinewidth": 0,
             "ticks": ""
            },
            "colorscale": [
             [
              0,
              "#0d0887"
             ],
             [
              0.1111111111111111,
              "#46039f"
             ],
             [
              0.2222222222222222,
              "#7201a8"
             ],
             [
              0.3333333333333333,
              "#9c179e"
             ],
             [
              0.4444444444444444,
              "#bd3786"
             ],
             [
              0.5555555555555556,
              "#d8576b"
             ],
             [
              0.6666666666666666,
              "#ed7953"
             ],
             [
              0.7777777777777778,
              "#fb9f3a"
             ],
             [
              0.8888888888888888,
              "#fdca26"
             ],
             [
              1,
              "#f0f921"
             ]
            ],
            "type": "histogram2dcontour"
           }
          ],
          "mesh3d": [
           {
            "colorbar": {
             "outlinewidth": 0,
             "ticks": ""
            },
            "type": "mesh3d"
           }
          ],
          "parcoords": [
           {
            "line": {
             "colorbar": {
              "outlinewidth": 0,
              "ticks": ""
             }
            },
            "type": "parcoords"
           }
          ],
          "pie": [
           {
            "automargin": true,
            "type": "pie"
           }
          ],
          "scatter": [
           {
            "fillpattern": {
             "fillmode": "overlay",
             "size": 10,
             "solidity": 0.2
            },
            "type": "scatter"
           }
          ],
          "scatter3d": [
           {
            "line": {
             "colorbar": {
              "outlinewidth": 0,
              "ticks": ""
             }
            },
            "marker": {
             "colorbar": {
              "outlinewidth": 0,
              "ticks": ""
             }
            },
            "type": "scatter3d"
           }
          ],
          "scattercarpet": [
           {
            "marker": {
             "colorbar": {
              "outlinewidth": 0,
              "ticks": ""
             }
            },
            "type": "scattercarpet"
           }
          ],
          "scattergeo": [
           {
            "marker": {
             "colorbar": {
              "outlinewidth": 0,
              "ticks": ""
             }
            },
            "type": "scattergeo"
           }
          ],
          "scattergl": [
           {
            "marker": {
             "colorbar": {
              "outlinewidth": 0,
              "ticks": ""
             }
            },
            "type": "scattergl"
           }
          ],
          "scattermapbox": [
           {
            "marker": {
             "colorbar": {
              "outlinewidth": 0,
              "ticks": ""
             }
            },
            "type": "scattermapbox"
           }
          ],
          "scatterpolar": [
           {
            "marker": {
             "colorbar": {
              "outlinewidth": 0,
              "ticks": ""
             }
            },
            "type": "scatterpolar"
           }
          ],
          "scatterpolargl": [
           {
            "marker": {
             "colorbar": {
              "outlinewidth": 0,
              "ticks": ""
             }
            },
            "type": "scatterpolargl"
           }
          ],
          "scatterternary": [
           {
            "marker": {
             "colorbar": {
              "outlinewidth": 0,
              "ticks": ""
             }
            },
            "type": "scatterternary"
           }
          ],
          "surface": [
           {
            "colorbar": {
             "outlinewidth": 0,
             "ticks": ""
            },
            "colorscale": [
             [
              0,
              "#0d0887"
             ],
             [
              0.1111111111111111,
              "#46039f"
             ],
             [
              0.2222222222222222,
              "#7201a8"
             ],
             [
              0.3333333333333333,
              "#9c179e"
             ],
             [
              0.4444444444444444,
              "#bd3786"
             ],
             [
              0.5555555555555556,
              "#d8576b"
             ],
             [
              0.6666666666666666,
              "#ed7953"
             ],
             [
              0.7777777777777778,
              "#fb9f3a"
             ],
             [
              0.8888888888888888,
              "#fdca26"
             ],
             [
              1,
              "#f0f921"
             ]
            ],
            "type": "surface"
           }
          ],
          "table": [
           {
            "cells": {
             "fill": {
              "color": "#EBF0F8"
             },
             "line": {
              "color": "white"
             }
            },
            "header": {
             "fill": {
              "color": "#C8D4E3"
             },
             "line": {
              "color": "white"
             }
            },
            "type": "table"
           }
          ]
         },
         "layout": {
          "annotationdefaults": {
           "arrowcolor": "#2a3f5f",
           "arrowhead": 0,
           "arrowwidth": 1
          },
          "autotypenumbers": "strict",
          "coloraxis": {
           "colorbar": {
            "outlinewidth": 0,
            "ticks": ""
           }
          },
          "colorscale": {
           "diverging": [
            [
             0,
             "#8e0152"
            ],
            [
             0.1,
             "#c51b7d"
            ],
            [
             0.2,
             "#de77ae"
            ],
            [
             0.3,
             "#f1b6da"
            ],
            [
             0.4,
             "#fde0ef"
            ],
            [
             0.5,
             "#f7f7f7"
            ],
            [
             0.6,
             "#e6f5d0"
            ],
            [
             0.7,
             "#b8e186"
            ],
            [
             0.8,
             "#7fbc41"
            ],
            [
             0.9,
             "#4d9221"
            ],
            [
             1,
             "#276419"
            ]
           ],
           "sequential": [
            [
             0,
             "#0d0887"
            ],
            [
             0.1111111111111111,
             "#46039f"
            ],
            [
             0.2222222222222222,
             "#7201a8"
            ],
            [
             0.3333333333333333,
             "#9c179e"
            ],
            [
             0.4444444444444444,
             "#bd3786"
            ],
            [
             0.5555555555555556,
             "#d8576b"
            ],
            [
             0.6666666666666666,
             "#ed7953"
            ],
            [
             0.7777777777777778,
             "#fb9f3a"
            ],
            [
             0.8888888888888888,
             "#fdca26"
            ],
            [
             1,
             "#f0f921"
            ]
           ],
           "sequentialminus": [
            [
             0,
             "#0d0887"
            ],
            [
             0.1111111111111111,
             "#46039f"
            ],
            [
             0.2222222222222222,
             "#7201a8"
            ],
            [
             0.3333333333333333,
             "#9c179e"
            ],
            [
             0.4444444444444444,
             "#bd3786"
            ],
            [
             0.5555555555555556,
             "#d8576b"
            ],
            [
             0.6666666666666666,
             "#ed7953"
            ],
            [
             0.7777777777777778,
             "#fb9f3a"
            ],
            [
             0.8888888888888888,
             "#fdca26"
            ],
            [
             1,
             "#f0f921"
            ]
           ]
          },
          "colorway": [
           "#636efa",
           "#EF553B",
           "#00cc96",
           "#ab63fa",
           "#FFA15A",
           "#19d3f3",
           "#FF6692",
           "#B6E880",
           "#FF97FF",
           "#FECB52"
          ],
          "font": {
           "color": "#2a3f5f"
          },
          "geo": {
           "bgcolor": "white",
           "lakecolor": "white",
           "landcolor": "#E5ECF6",
           "showlakes": true,
           "showland": true,
           "subunitcolor": "white"
          },
          "hoverlabel": {
           "align": "left"
          },
          "hovermode": "closest",
          "mapbox": {
           "style": "light"
          },
          "paper_bgcolor": "white",
          "plot_bgcolor": "#E5ECF6",
          "polar": {
           "angularaxis": {
            "gridcolor": "white",
            "linecolor": "white",
            "ticks": ""
           },
           "bgcolor": "#E5ECF6",
           "radialaxis": {
            "gridcolor": "white",
            "linecolor": "white",
            "ticks": ""
           }
          },
          "scene": {
           "xaxis": {
            "backgroundcolor": "#E5ECF6",
            "gridcolor": "white",
            "gridwidth": 2,
            "linecolor": "white",
            "showbackground": true,
            "ticks": "",
            "zerolinecolor": "white"
           },
           "yaxis": {
            "backgroundcolor": "#E5ECF6",
            "gridcolor": "white",
            "gridwidth": 2,
            "linecolor": "white",
            "showbackground": true,
            "ticks": "",
            "zerolinecolor": "white"
           },
           "zaxis": {
            "backgroundcolor": "#E5ECF6",
            "gridcolor": "white",
            "gridwidth": 2,
            "linecolor": "white",
            "showbackground": true,
            "ticks": "",
            "zerolinecolor": "white"
           }
          },
          "shapedefaults": {
           "line": {
            "color": "#2a3f5f"
           }
          },
          "ternary": {
           "aaxis": {
            "gridcolor": "white",
            "linecolor": "white",
            "ticks": ""
           },
           "baxis": {
            "gridcolor": "white",
            "linecolor": "white",
            "ticks": ""
           },
           "bgcolor": "#E5ECF6",
           "caxis": {
            "gridcolor": "white",
            "linecolor": "white",
            "ticks": ""
           }
          },
          "title": {
           "x": 0.05
          },
          "xaxis": {
           "automargin": true,
           "gridcolor": "white",
           "linecolor": "white",
           "ticks": "",
           "title": {
            "standoff": 15
           },
           "zerolinecolor": "white",
           "zerolinewidth": 2
          },
          "yaxis": {
           "automargin": true,
           "gridcolor": "white",
           "linecolor": "white",
           "ticks": "",
           "title": {
            "standoff": 15
           },
           "zerolinecolor": "white",
           "zerolinewidth": 2
          }
         }
        },
        "xaxis": {
         "anchor": "y",
         "domain": [
          0,
          1
         ],
         "title": {
          "text": "PC0"
         }
        },
        "xaxis2": {
         "anchor": "y2",
         "domain": [
          0,
          1
         ],
         "matches": "x",
         "showgrid": true,
         "showticklabels": false
        },
        "yaxis": {
         "anchor": "x",
         "domain": [
          0,
          0.7326
         ],
         "title": {
          "text": "PC1"
         }
        },
        "yaxis2": {
         "anchor": "x2",
         "domain": [
          0.7426,
          1
         ],
         "matches": "y2",
         "showgrid": false,
         "showline": false,
         "showticklabels": false,
         "ticks": ""
        }
       }
      }
     },
     "metadata": {},
     "output_type": "display_data"
    }
   ],
   "source": [
    "import pandas as pd\n",
    "import numpy as np\n",
    "from scipy.linalg import norm\n",
    "import plotly_express as px\n",
    "import seaborn as sns\n",
    "from sklearn.decomposition import PCA\n",
    "sns.set(style='ticks')\n",
    "OHCO = ['book_id', 'chap_id']\n",
    "# Added after class\n",
    "norm_docs = True # This has the effect of exaggerating variance when False\n",
    "center_term_vectors = True # This has the effect of demoting authorship when False\n",
    "colors = \"YlGnBu\" \n",
    "# colors = \"Spectral\"\n",
    "\n",
    "\n",
    "\n",
    "\n",
    "pca_engine = PCA(n_components=10)\n",
    "DCM = pd.DataFrame(pca_engine.fit_transform(L2.fillna(0)), index=L2.index)\n",
    "DCM.columns = ['PC{}'.format(i) for i in DCM.columns]\n",
    "DCM = DCM.join(LIB[['author','work_type']], on='book_id') #the lavel i will use is work_type\n",
    "def vis_pcs(M, a, b, label='author', hover_name='author', symbol=None, size=None):\n",
    "    return px.scatter(M, f\"PC{a}\", f\"PC{b}\", color=label, hover_name=hover_name, \n",
    "                     symbol=symbol, size=size,\n",
    "                     marginal_x='box', height=800)\n",
    "\n",
    "def vis_loadings(a=0, b=1, hover_name='term_str'):\n",
    "    return px.scatter(LOADINGS.reset_index(), f\"PC{a}\", f\"PC{b}\", \n",
    "                      text='term_str', hover_name='term_str',\n",
    "                      size='dfidf', color='max_pos_group', \n",
    "                      marginal_x='box', height=800)\n",
    "LOADINGS = pd.DataFrame(pca_engine.components_.T * np.sqrt(pca_engine.explained_variance_))\n",
    "LOADINGS.columns = [\"PC{}\".format(i) for i in LOADINGS.columns]\n",
    "LOADINGS.index = L2.columns\n",
    "LOADINGS.index.name = 'term_str'\n",
    "LOADINGS = LOADINGS.join(VOCAB)\n",
    "vis_pcs(DCM, 0, 1, label='work_type', hover_name= 'work_type')"
   ]
  },
  {
   "cell_type": "code",
   "execution_count": 15,
   "id": "02354ee4",
   "metadata": {},
   "outputs": [
    {
     "data": {
      "application/vnd.plotly.v1+json": {
       "config": {
        "plotlyServerURL": "https://plot.ly"
       },
       "data": [
        {
         "hovertemplate": "<b>%{hovertext}</b><br><br>protagonist_name=named<br>PC0=%{x}<br>PC1=%{y}<extra></extra>",
         "hovertext": [
          "named",
          "named",
          "named",
          "named",
          "named",
          "named",
          "named",
          "named",
          "named",
          "named",
          "named",
          "named",
          "named",
          "named",
          "named",
          "named",
          "named",
          "named",
          "named",
          "named",
          "named",
          "named",
          "named",
          "named",
          "named"
         ],
         "legendgroup": "named",
         "marker": {
          "color": "#636efa",
          "symbol": "circle"
         },
         "mode": "markers",
         "name": "named",
         "orientation": "v",
         "showlegend": true,
         "type": "scatter",
         "x": [
          0.14133667716811332,
          0.17695331438090509,
          0.1684132328097872,
          0.1352951224976837,
          0.12537547201786986,
          0.15064190128565746,
          0.09853344260013873,
          0.0309093973584104,
          0.07566992097392779,
          0.42744668724949514,
          0.5147565789202868,
          0.46690117849233437,
          0.5077070273052925,
          0.4766690513904395,
          0.4813388198988364,
          -0.036825804946438966,
          0.01579802274310725,
          -0.04511389304898684,
          0.08507127416373002,
          0.05632175594734195,
          0.06147326340733206,
          0.024978233805503975,
          0.007731182669353762,
          0.0390200337080513,
          0.06034780595358191
         ],
         "xaxis": "x",
         "y": [
          -0.255651979177155,
          -0.282179906767617,
          -0.2568639398349642,
          -0.1392853233208325,
          -0.19822337519553407,
          -0.19982652991786165,
          -0.10587942500942465,
          -0.10519986951718847,
          -0.13711820347865755,
          0.44910107038910757,
          0.5442774659588392,
          0.5499746505840669,
          0.590028454770381,
          0.5290866134789982,
          0.5871844869433418,
          -0.029447247228160042,
          -0.07317358899408927,
          -0.018346316561453302,
          -0.08162067140166285,
          -0.09659675762453507,
          0.05710587004895931,
          -0.08252077489216994,
          -0.035686411702944454,
          -0.08247174302138992,
          -0.10371920890061204
         ],
         "yaxis": "y"
        },
        {
         "alignmentgroup": "True",
         "hovertemplate": "<b>%{hovertext}</b><br><br>protagonist_name=named<br>PC0=%{x}<extra></extra>",
         "hovertext": [
          "named",
          "named",
          "named",
          "named",
          "named",
          "named",
          "named",
          "named",
          "named",
          "named",
          "named",
          "named",
          "named",
          "named",
          "named",
          "named",
          "named",
          "named",
          "named",
          "named",
          "named",
          "named",
          "named",
          "named",
          "named"
         ],
         "legendgroup": "named",
         "marker": {
          "color": "#636efa",
          "symbol": "circle"
         },
         "name": "named",
         "notched": true,
         "offsetgroup": "named",
         "showlegend": false,
         "type": "box",
         "x": [
          0.14133667716811332,
          0.17695331438090509,
          0.1684132328097872,
          0.1352951224976837,
          0.12537547201786986,
          0.15064190128565746,
          0.09853344260013873,
          0.0309093973584104,
          0.07566992097392779,
          0.42744668724949514,
          0.5147565789202868,
          0.46690117849233437,
          0.5077070273052925,
          0.4766690513904395,
          0.4813388198988364,
          -0.036825804946438966,
          0.01579802274310725,
          -0.04511389304898684,
          0.08507127416373002,
          0.05632175594734195,
          0.06147326340733206,
          0.024978233805503975,
          0.007731182669353762,
          0.0390200337080513,
          0.06034780595358191
         ],
         "xaxis": "x2",
         "yaxis": "y2"
        },
        {
         "hovertemplate": "<b>%{hovertext}</b><br><br>protagonist_name=unnamed<br>PC0=%{x}<br>PC1=%{y}<extra></extra>",
         "hovertext": [
          "unnamed",
          "unnamed",
          "unnamed",
          "unnamed",
          "unnamed",
          "unnamed",
          "unnamed",
          "unnamed",
          "unnamed",
          "unnamed",
          "unnamed",
          "unnamed",
          "unnamed",
          "unnamed",
          "unnamed",
          "unnamed",
          "unnamed",
          "unnamed",
          "unnamed",
          "unnamed",
          "unnamed",
          "unnamed",
          "unnamed",
          "unnamed",
          "unnamed",
          "unnamed",
          "unnamed",
          "unnamed",
          "unnamed",
          "unnamed",
          "unnamed",
          "unnamed",
          "unnamed",
          "unnamed",
          "unnamed",
          "unnamed",
          "unnamed",
          "unnamed",
          "unnamed",
          "unnamed",
          "unnamed",
          "unnamed",
          "unnamed",
          "unnamed",
          "unnamed"
         ],
         "legendgroup": "unnamed",
         "marker": {
          "color": "#EF553B",
          "symbol": "circle"
         },
         "mode": "markers",
         "name": "unnamed",
         "orientation": "v",
         "showlegend": true,
         "type": "scatter",
         "x": [
          0.09974055644605846,
          0.17126561337544446,
          0.21012337088035934,
          0.11841096465079011,
          0.10574997461834863,
          0.11643798332907183,
          0.15269085317827152,
          0.05035101059510162,
          0.1127455493605748,
          0.15745855395242725,
          -0.22787467498238007,
          -0.3335714914139034,
          -0.417780181489229,
          -0.48486515053997775,
          -0.1729676249946831,
          -0.34347173616473786,
          -0.3411658983921962,
          -0.207186376623627,
          -0.2509594520992912,
          -0.29370762057408606,
          -0.3252564141532658,
          -0.4090514365389521,
          -0.08987180592488998,
          -0.43907370593458206,
          -0.2362638360553562,
          -0.3101015908290643,
          -0.24746164673732093,
          -0.17874918103322812,
          -0.10635441671105118,
          -0.3295497058039521,
          -0.3354620815859363,
          -0.36125435846291515,
          -0.03555234441438655,
          -0.08116058075798147,
          -0.32400510394074244,
          0.09900690872718688,
          0.09566737289820923,
          0.10922373254444265,
          0.1740991990337418,
          0.14832100525696024,
          0.1687459147183512,
          0.1675467419037512,
          0.18135079148211172,
          0.18932103502433548,
          0.007711585430443504
         ],
         "xaxis": "x",
         "y": [
          -0.1413566544533931,
          -0.16519194867403345,
          -0.21629236164969443,
          -0.17790508628818608,
          -0.16843898476869829,
          -0.1216396663937309,
          -0.15934181927810495,
          -0.08728628402612881,
          -0.2043005140769482,
          -0.18342141202021536,
          0.07351185026606784,
          0.1137415721317441,
          0.21706664137643858,
          0.2410614931117488,
          0.04893153612970303,
          0.1784721870929878,
          0.185700771144004,
          0.06388388536651722,
          0.13617353842477406,
          0.07593179265793025,
          0.1568743202818588,
          0.19895758596395716,
          -0.0035949325050657678,
          0.20847636360029603,
          0.030379457146459194,
          0.06209200463626026,
          0.016843430077686527,
          -0.04047666257739056,
          -0.07979901880714216,
          0.05882943398605606,
          0.13848404507864798,
          0.1467522198201423,
          -0.048591680707207596,
          -0.024277136314971203,
          0.10614587989153124,
          -0.15445699148608077,
          -0.13843454723984644,
          -0.15492537849767088,
          -0.17234927444418574,
          -0.1827437292515437,
          -0.17826990207186436,
          -0.1770785273025406,
          -0.21801130579747688,
          -0.2064732139215319,
          -0.07660031525860085
         ],
         "yaxis": "y"
        },
        {
         "alignmentgroup": "True",
         "hovertemplate": "<b>%{hovertext}</b><br><br>protagonist_name=unnamed<br>PC0=%{x}<extra></extra>",
         "hovertext": [
          "unnamed",
          "unnamed",
          "unnamed",
          "unnamed",
          "unnamed",
          "unnamed",
          "unnamed",
          "unnamed",
          "unnamed",
          "unnamed",
          "unnamed",
          "unnamed",
          "unnamed",
          "unnamed",
          "unnamed",
          "unnamed",
          "unnamed",
          "unnamed",
          "unnamed",
          "unnamed",
          "unnamed",
          "unnamed",
          "unnamed",
          "unnamed",
          "unnamed",
          "unnamed",
          "unnamed",
          "unnamed",
          "unnamed",
          "unnamed",
          "unnamed",
          "unnamed",
          "unnamed",
          "unnamed",
          "unnamed",
          "unnamed",
          "unnamed",
          "unnamed",
          "unnamed",
          "unnamed",
          "unnamed",
          "unnamed",
          "unnamed",
          "unnamed",
          "unnamed"
         ],
         "legendgroup": "unnamed",
         "marker": {
          "color": "#EF553B",
          "symbol": "circle"
         },
         "name": "unnamed",
         "notched": true,
         "offsetgroup": "unnamed",
         "showlegend": false,
         "type": "box",
         "x": [
          0.09974055644605846,
          0.17126561337544446,
          0.21012337088035934,
          0.11841096465079011,
          0.10574997461834863,
          0.11643798332907183,
          0.15269085317827152,
          0.05035101059510162,
          0.1127455493605748,
          0.15745855395242725,
          -0.22787467498238007,
          -0.3335714914139034,
          -0.417780181489229,
          -0.48486515053997775,
          -0.1729676249946831,
          -0.34347173616473786,
          -0.3411658983921962,
          -0.207186376623627,
          -0.2509594520992912,
          -0.29370762057408606,
          -0.3252564141532658,
          -0.4090514365389521,
          -0.08987180592488998,
          -0.43907370593458206,
          -0.2362638360553562,
          -0.3101015908290643,
          -0.24746164673732093,
          -0.17874918103322812,
          -0.10635441671105118,
          -0.3295497058039521,
          -0.3354620815859363,
          -0.36125435846291515,
          -0.03555234441438655,
          -0.08116058075798147,
          -0.32400510394074244,
          0.09900690872718688,
          0.09566737289820923,
          0.10922373254444265,
          0.1740991990337418,
          0.14832100525696024,
          0.1687459147183512,
          0.1675467419037512,
          0.18135079148211172,
          0.18932103502433548,
          0.007711585430443504
         ],
         "xaxis": "x2",
         "yaxis": "y2"
        }
       ],
       "layout": {
        "height": 800,
        "legend": {
         "title": {
          "text": "protagonist_name"
         },
         "tracegroupgap": 0
        },
        "margin": {
         "t": 60
        },
        "template": {
         "data": {
          "bar": [
           {
            "error_x": {
             "color": "#2a3f5f"
            },
            "error_y": {
             "color": "#2a3f5f"
            },
            "marker": {
             "line": {
              "color": "#E5ECF6",
              "width": 0.5
             },
             "pattern": {
              "fillmode": "overlay",
              "size": 10,
              "solidity": 0.2
             }
            },
            "type": "bar"
           }
          ],
          "barpolar": [
           {
            "marker": {
             "line": {
              "color": "#E5ECF6",
              "width": 0.5
             },
             "pattern": {
              "fillmode": "overlay",
              "size": 10,
              "solidity": 0.2
             }
            },
            "type": "barpolar"
           }
          ],
          "carpet": [
           {
            "aaxis": {
             "endlinecolor": "#2a3f5f",
             "gridcolor": "white",
             "linecolor": "white",
             "minorgridcolor": "white",
             "startlinecolor": "#2a3f5f"
            },
            "baxis": {
             "endlinecolor": "#2a3f5f",
             "gridcolor": "white",
             "linecolor": "white",
             "minorgridcolor": "white",
             "startlinecolor": "#2a3f5f"
            },
            "type": "carpet"
           }
          ],
          "choropleth": [
           {
            "colorbar": {
             "outlinewidth": 0,
             "ticks": ""
            },
            "type": "choropleth"
           }
          ],
          "contour": [
           {
            "colorbar": {
             "outlinewidth": 0,
             "ticks": ""
            },
            "colorscale": [
             [
              0,
              "#0d0887"
             ],
             [
              0.1111111111111111,
              "#46039f"
             ],
             [
              0.2222222222222222,
              "#7201a8"
             ],
             [
              0.3333333333333333,
              "#9c179e"
             ],
             [
              0.4444444444444444,
              "#bd3786"
             ],
             [
              0.5555555555555556,
              "#d8576b"
             ],
             [
              0.6666666666666666,
              "#ed7953"
             ],
             [
              0.7777777777777778,
              "#fb9f3a"
             ],
             [
              0.8888888888888888,
              "#fdca26"
             ],
             [
              1,
              "#f0f921"
             ]
            ],
            "type": "contour"
           }
          ],
          "contourcarpet": [
           {
            "colorbar": {
             "outlinewidth": 0,
             "ticks": ""
            },
            "type": "contourcarpet"
           }
          ],
          "heatmap": [
           {
            "colorbar": {
             "outlinewidth": 0,
             "ticks": ""
            },
            "colorscale": [
             [
              0,
              "#0d0887"
             ],
             [
              0.1111111111111111,
              "#46039f"
             ],
             [
              0.2222222222222222,
              "#7201a8"
             ],
             [
              0.3333333333333333,
              "#9c179e"
             ],
             [
              0.4444444444444444,
              "#bd3786"
             ],
             [
              0.5555555555555556,
              "#d8576b"
             ],
             [
              0.6666666666666666,
              "#ed7953"
             ],
             [
              0.7777777777777778,
              "#fb9f3a"
             ],
             [
              0.8888888888888888,
              "#fdca26"
             ],
             [
              1,
              "#f0f921"
             ]
            ],
            "type": "heatmap"
           }
          ],
          "heatmapgl": [
           {
            "colorbar": {
             "outlinewidth": 0,
             "ticks": ""
            },
            "colorscale": [
             [
              0,
              "#0d0887"
             ],
             [
              0.1111111111111111,
              "#46039f"
             ],
             [
              0.2222222222222222,
              "#7201a8"
             ],
             [
              0.3333333333333333,
              "#9c179e"
             ],
             [
              0.4444444444444444,
              "#bd3786"
             ],
             [
              0.5555555555555556,
              "#d8576b"
             ],
             [
              0.6666666666666666,
              "#ed7953"
             ],
             [
              0.7777777777777778,
              "#fb9f3a"
             ],
             [
              0.8888888888888888,
              "#fdca26"
             ],
             [
              1,
              "#f0f921"
             ]
            ],
            "type": "heatmapgl"
           }
          ],
          "histogram": [
           {
            "marker": {
             "pattern": {
              "fillmode": "overlay",
              "size": 10,
              "solidity": 0.2
             }
            },
            "type": "histogram"
           }
          ],
          "histogram2d": [
           {
            "colorbar": {
             "outlinewidth": 0,
             "ticks": ""
            },
            "colorscale": [
             [
              0,
              "#0d0887"
             ],
             [
              0.1111111111111111,
              "#46039f"
             ],
             [
              0.2222222222222222,
              "#7201a8"
             ],
             [
              0.3333333333333333,
              "#9c179e"
             ],
             [
              0.4444444444444444,
              "#bd3786"
             ],
             [
              0.5555555555555556,
              "#d8576b"
             ],
             [
              0.6666666666666666,
              "#ed7953"
             ],
             [
              0.7777777777777778,
              "#fb9f3a"
             ],
             [
              0.8888888888888888,
              "#fdca26"
             ],
             [
              1,
              "#f0f921"
             ]
            ],
            "type": "histogram2d"
           }
          ],
          "histogram2dcontour": [
           {
            "colorbar": {
             "outlinewidth": 0,
             "ticks": ""
            },
            "colorscale": [
             [
              0,
              "#0d0887"
             ],
             [
              0.1111111111111111,
              "#46039f"
             ],
             [
              0.2222222222222222,
              "#7201a8"
             ],
             [
              0.3333333333333333,
              "#9c179e"
             ],
             [
              0.4444444444444444,
              "#bd3786"
             ],
             [
              0.5555555555555556,
              "#d8576b"
             ],
             [
              0.6666666666666666,
              "#ed7953"
             ],
             [
              0.7777777777777778,
              "#fb9f3a"
             ],
             [
              0.8888888888888888,
              "#fdca26"
             ],
             [
              1,
              "#f0f921"
             ]
            ],
            "type": "histogram2dcontour"
           }
          ],
          "mesh3d": [
           {
            "colorbar": {
             "outlinewidth": 0,
             "ticks": ""
            },
            "type": "mesh3d"
           }
          ],
          "parcoords": [
           {
            "line": {
             "colorbar": {
              "outlinewidth": 0,
              "ticks": ""
             }
            },
            "type": "parcoords"
           }
          ],
          "pie": [
           {
            "automargin": true,
            "type": "pie"
           }
          ],
          "scatter": [
           {
            "fillpattern": {
             "fillmode": "overlay",
             "size": 10,
             "solidity": 0.2
            },
            "type": "scatter"
           }
          ],
          "scatter3d": [
           {
            "line": {
             "colorbar": {
              "outlinewidth": 0,
              "ticks": ""
             }
            },
            "marker": {
             "colorbar": {
              "outlinewidth": 0,
              "ticks": ""
             }
            },
            "type": "scatter3d"
           }
          ],
          "scattercarpet": [
           {
            "marker": {
             "colorbar": {
              "outlinewidth": 0,
              "ticks": ""
             }
            },
            "type": "scattercarpet"
           }
          ],
          "scattergeo": [
           {
            "marker": {
             "colorbar": {
              "outlinewidth": 0,
              "ticks": ""
             }
            },
            "type": "scattergeo"
           }
          ],
          "scattergl": [
           {
            "marker": {
             "colorbar": {
              "outlinewidth": 0,
              "ticks": ""
             }
            },
            "type": "scattergl"
           }
          ],
          "scattermapbox": [
           {
            "marker": {
             "colorbar": {
              "outlinewidth": 0,
              "ticks": ""
             }
            },
            "type": "scattermapbox"
           }
          ],
          "scatterpolar": [
           {
            "marker": {
             "colorbar": {
              "outlinewidth": 0,
              "ticks": ""
             }
            },
            "type": "scatterpolar"
           }
          ],
          "scatterpolargl": [
           {
            "marker": {
             "colorbar": {
              "outlinewidth": 0,
              "ticks": ""
             }
            },
            "type": "scatterpolargl"
           }
          ],
          "scatterternary": [
           {
            "marker": {
             "colorbar": {
              "outlinewidth": 0,
              "ticks": ""
             }
            },
            "type": "scatterternary"
           }
          ],
          "surface": [
           {
            "colorbar": {
             "outlinewidth": 0,
             "ticks": ""
            },
            "colorscale": [
             [
              0,
              "#0d0887"
             ],
             [
              0.1111111111111111,
              "#46039f"
             ],
             [
              0.2222222222222222,
              "#7201a8"
             ],
             [
              0.3333333333333333,
              "#9c179e"
             ],
             [
              0.4444444444444444,
              "#bd3786"
             ],
             [
              0.5555555555555556,
              "#d8576b"
             ],
             [
              0.6666666666666666,
              "#ed7953"
             ],
             [
              0.7777777777777778,
              "#fb9f3a"
             ],
             [
              0.8888888888888888,
              "#fdca26"
             ],
             [
              1,
              "#f0f921"
             ]
            ],
            "type": "surface"
           }
          ],
          "table": [
           {
            "cells": {
             "fill": {
              "color": "#EBF0F8"
             },
             "line": {
              "color": "white"
             }
            },
            "header": {
             "fill": {
              "color": "#C8D4E3"
             },
             "line": {
              "color": "white"
             }
            },
            "type": "table"
           }
          ]
         },
         "layout": {
          "annotationdefaults": {
           "arrowcolor": "#2a3f5f",
           "arrowhead": 0,
           "arrowwidth": 1
          },
          "autotypenumbers": "strict",
          "coloraxis": {
           "colorbar": {
            "outlinewidth": 0,
            "ticks": ""
           }
          },
          "colorscale": {
           "diverging": [
            [
             0,
             "#8e0152"
            ],
            [
             0.1,
             "#c51b7d"
            ],
            [
             0.2,
             "#de77ae"
            ],
            [
             0.3,
             "#f1b6da"
            ],
            [
             0.4,
             "#fde0ef"
            ],
            [
             0.5,
             "#f7f7f7"
            ],
            [
             0.6,
             "#e6f5d0"
            ],
            [
             0.7,
             "#b8e186"
            ],
            [
             0.8,
             "#7fbc41"
            ],
            [
             0.9,
             "#4d9221"
            ],
            [
             1,
             "#276419"
            ]
           ],
           "sequential": [
            [
             0,
             "#0d0887"
            ],
            [
             0.1111111111111111,
             "#46039f"
            ],
            [
             0.2222222222222222,
             "#7201a8"
            ],
            [
             0.3333333333333333,
             "#9c179e"
            ],
            [
             0.4444444444444444,
             "#bd3786"
            ],
            [
             0.5555555555555556,
             "#d8576b"
            ],
            [
             0.6666666666666666,
             "#ed7953"
            ],
            [
             0.7777777777777778,
             "#fb9f3a"
            ],
            [
             0.8888888888888888,
             "#fdca26"
            ],
            [
             1,
             "#f0f921"
            ]
           ],
           "sequentialminus": [
            [
             0,
             "#0d0887"
            ],
            [
             0.1111111111111111,
             "#46039f"
            ],
            [
             0.2222222222222222,
             "#7201a8"
            ],
            [
             0.3333333333333333,
             "#9c179e"
            ],
            [
             0.4444444444444444,
             "#bd3786"
            ],
            [
             0.5555555555555556,
             "#d8576b"
            ],
            [
             0.6666666666666666,
             "#ed7953"
            ],
            [
             0.7777777777777778,
             "#fb9f3a"
            ],
            [
             0.8888888888888888,
             "#fdca26"
            ],
            [
             1,
             "#f0f921"
            ]
           ]
          },
          "colorway": [
           "#636efa",
           "#EF553B",
           "#00cc96",
           "#ab63fa",
           "#FFA15A",
           "#19d3f3",
           "#FF6692",
           "#B6E880",
           "#FF97FF",
           "#FECB52"
          ],
          "font": {
           "color": "#2a3f5f"
          },
          "geo": {
           "bgcolor": "white",
           "lakecolor": "white",
           "landcolor": "#E5ECF6",
           "showlakes": true,
           "showland": true,
           "subunitcolor": "white"
          },
          "hoverlabel": {
           "align": "left"
          },
          "hovermode": "closest",
          "mapbox": {
           "style": "light"
          },
          "paper_bgcolor": "white",
          "plot_bgcolor": "#E5ECF6",
          "polar": {
           "angularaxis": {
            "gridcolor": "white",
            "linecolor": "white",
            "ticks": ""
           },
           "bgcolor": "#E5ECF6",
           "radialaxis": {
            "gridcolor": "white",
            "linecolor": "white",
            "ticks": ""
           }
          },
          "scene": {
           "xaxis": {
            "backgroundcolor": "#E5ECF6",
            "gridcolor": "white",
            "gridwidth": 2,
            "linecolor": "white",
            "showbackground": true,
            "ticks": "",
            "zerolinecolor": "white"
           },
           "yaxis": {
            "backgroundcolor": "#E5ECF6",
            "gridcolor": "white",
            "gridwidth": 2,
            "linecolor": "white",
            "showbackground": true,
            "ticks": "",
            "zerolinecolor": "white"
           },
           "zaxis": {
            "backgroundcolor": "#E5ECF6",
            "gridcolor": "white",
            "gridwidth": 2,
            "linecolor": "white",
            "showbackground": true,
            "ticks": "",
            "zerolinecolor": "white"
           }
          },
          "shapedefaults": {
           "line": {
            "color": "#2a3f5f"
           }
          },
          "ternary": {
           "aaxis": {
            "gridcolor": "white",
            "linecolor": "white",
            "ticks": ""
           },
           "baxis": {
            "gridcolor": "white",
            "linecolor": "white",
            "ticks": ""
           },
           "bgcolor": "#E5ECF6",
           "caxis": {
            "gridcolor": "white",
            "linecolor": "white",
            "ticks": ""
           }
          },
          "title": {
           "x": 0.05
          },
          "xaxis": {
           "automargin": true,
           "gridcolor": "white",
           "linecolor": "white",
           "ticks": "",
           "title": {
            "standoff": 15
           },
           "zerolinecolor": "white",
           "zerolinewidth": 2
          },
          "yaxis": {
           "automargin": true,
           "gridcolor": "white",
           "linecolor": "white",
           "ticks": "",
           "title": {
            "standoff": 15
           },
           "zerolinecolor": "white",
           "zerolinewidth": 2
          }
         }
        },
        "xaxis": {
         "anchor": "y",
         "domain": [
          0,
          1
         ],
         "title": {
          "text": "PC0"
         }
        },
        "xaxis2": {
         "anchor": "y2",
         "domain": [
          0,
          1
         ],
         "matches": "x",
         "showgrid": true,
         "showticklabels": false
        },
        "yaxis": {
         "anchor": "x",
         "domain": [
          0,
          0.7326
         ],
         "title": {
          "text": "PC1"
         }
        },
        "yaxis2": {
         "anchor": "x2",
         "domain": [
          0.7426,
          1
         ],
         "matches": "y2",
         "showgrid": false,
         "showline": false,
         "showticklabels": false,
         "ticks": ""
        }
       }
      }
     },
     "metadata": {},
     "output_type": "display_data"
    }
   ],
   "source": [
    "import pandas as pd\n",
    "import numpy as np\n",
    "from scipy.linalg import norm\n",
    "import plotly_express as px\n",
    "import seaborn as sns\n",
    "from sklearn.decomposition import PCA\n",
    "sns.set(style='ticks')\n",
    "OHCO = ['book_id', 'chap_id']\n",
    "# Added after class\n",
    "norm_docs = True # This has the effect of exaggerating variance when False\n",
    "center_term_vectors = True # This has the effect of demoting authorship when False\n",
    "colors = \"YlGnBu\" \n",
    "# colors = \"Spectral\"\n",
    "\n",
    "\n",
    "\n",
    "\n",
    "pca_engine = PCA(n_components=10)\n",
    "DCM = pd.DataFrame(pca_engine.fit_transform(L2.fillna(0)), index=L2.index)\n",
    "DCM.columns = ['PC{}'.format(i) for i in DCM.columns]\n",
    "DCM = DCM.join(LIB[['author','protagonist_name']], on='book_id') #the lavel i will use is work_type\n",
    "def vis_pcs(M, a, b, label='author', hover_name='author', symbol=None, size=None):\n",
    "    return px.scatter(M, f\"PC{a}\", f\"PC{b}\", color=label, hover_name=hover_name, \n",
    "                     symbol=symbol, size=size,\n",
    "                     marginal_x='box', height=800)\n",
    "\n",
    "def vis_loadings(a=0, b=1, hover_name='term_str'):\n",
    "    return px.scatter(LOADINGS.reset_index(), f\"PC{a}\", f\"PC{b}\", \n",
    "                      text='term_str', hover_name='term_str',\n",
    "                      size='dfidf', color='max_pos_group', \n",
    "                      marginal_x='box', height=800)\n",
    "LOADINGS = pd.DataFrame(pca_engine.components_.T * np.sqrt(pca_engine.explained_variance_))\n",
    "LOADINGS.columns = [\"PC{}\".format(i) for i in LOADINGS.columns]\n",
    "LOADINGS.index = L2.columns\n",
    "LOADINGS.index.name = 'term_str'\n",
    "LOADINGS = LOADINGS.join(VOCAB)\n",
    "vis_pcs(DCM, 0, 1, label='protagonist_name', hover_name= 'protagonist_name')"
   ]
  },
  {
   "cell_type": "code",
   "execution_count": 16,
   "id": "a6a065ba",
   "metadata": {},
   "outputs": [
    {
     "data": {
      "application/vnd.plotly.v1+json": {
       "config": {
        "plotlyServerURL": "https://plot.ly"
       },
       "data": [
        {
         "hovertemplate": "<b>%{hovertext}</b><br><br>ending_type=not happy<br>PC0=%{x}<br>PC1=%{y}<extra></extra>",
         "hovertext": [
          "not happy",
          "not happy",
          "not happy",
          "not happy",
          "not happy",
          "not happy",
          "not happy",
          "not happy",
          "not happy",
          "not happy",
          "not happy",
          "not happy",
          "not happy",
          "not happy",
          "not happy",
          "not happy",
          "not happy",
          "not happy",
          "not happy",
          "not happy",
          "not happy",
          "not happy",
          "not happy",
          "not happy",
          "not happy",
          "not happy",
          "not happy",
          "not happy",
          "not happy",
          "not happy",
          "not happy",
          "not happy",
          "not happy",
          "not happy",
          "not happy",
          "not happy",
          "not happy",
          "not happy",
          "not happy",
          "not happy",
          "not happy",
          "not happy",
          "not happy",
          "not happy",
          "not happy",
          "not happy",
          "not happy",
          "not happy",
          "not happy",
          "not happy"
         ],
         "legendgroup": "not happy",
         "marker": {
          "color": "#636efa",
          "symbol": "circle"
         },
         "mode": "markers",
         "name": "not happy",
         "orientation": "v",
         "showlegend": true,
         "type": "scatter",
         "x": [
          0.14138780105592516,
          0.17699191224133698,
          0.16842448884400918,
          0.10003495705163355,
          0.12537316436622664,
          0.150629350445552,
          0.1720007518135979,
          0.0986937148084237,
          0.030834740601505775,
          0.07540845475346947,
          0.1163561880105429,
          0.15257011437716947,
          0.04954532471002092,
          0.11271868165929447,
          0.1576262443110964,
          -0.22798836820460708,
          -0.3337157765510648,
          -0.41767769289959716,
          -0.48487057121511007,
          -0.17323193639620854,
          -0.3435838958128793,
          -0.3414045828167197,
          -0.20675122745915742,
          -0.2510418882986984,
          -0.2939251475320868,
          -0.32536751527642116,
          -0.4091434915280327,
          -0.09007573011290969,
          -0.4391863410340513,
          -0.23618789714745758,
          -0.31014602666540064,
          -0.24716141714133139,
          -0.17856851966125875,
          -0.10633401951810617,
          -0.329426087501773,
          -0.33536730678909216,
          -0.3611578694156287,
          -0.03550291578397602,
          -0.08096295292690632,
          -0.3237278052999903,
          -0.036770883518664074,
          0.015630530451075028,
          -0.045195723076482425,
          0.08525482363285786,
          0.056798163926619974,
          0.06189729502918612,
          0.024846796296883036,
          0.008293283980286762,
          0.03866926963737821,
          0.05994978499780449
         ],
         "xaxis": "x",
         "y": [
          -0.2552147006208552,
          -0.2817030566841548,
          -0.25608606109350346,
          -0.14403292502827925,
          -0.19571374001726463,
          -0.1963305644862666,
          -0.1694105430669524,
          -0.1035824817934532,
          -0.10716932933102921,
          -0.13576863585669013,
          -0.1222704081211111,
          -0.159557013550633,
          -0.08738217160912252,
          -0.20599965910767132,
          -0.18226791771534379,
          0.07194425883716458,
          0.11477814139679086,
          0.2169225365442294,
          0.24094643975617286,
          0.0473659974972967,
          0.17922559610535502,
          0.18423017203615552,
          0.0643172682089087,
          0.13847448339202809,
          0.07828104798268332,
          0.15650600454906766,
          0.19867181064119085,
          -0.004326045628144498,
          0.208445068249639,
          0.030381371570495287,
          0.06420410704953707,
          0.016659595966084982,
          -0.04055223368574482,
          -0.07950395191147477,
          0.0587186867694135,
          0.13824870376991355,
          0.14533126661010543,
          -0.04862797763917243,
          -0.023582949518365048,
          0.10619675208197532,
          -0.027635192821673146,
          -0.07338797963266118,
          -0.01994652079365636,
          -0.07877000692548207,
          -0.09342819304408512,
          0.05876744921235543,
          -0.0835426830436546,
          -0.03632353489230233,
          -0.08526773404884827,
          -0.1043829557919619
         ],
         "yaxis": "y"
        },
        {
         "alignmentgroup": "True",
         "hovertemplate": "<b>%{hovertext}</b><br><br>ending_type=not happy<br>PC0=%{x}<extra></extra>",
         "hovertext": [
          "not happy",
          "not happy",
          "not happy",
          "not happy",
          "not happy",
          "not happy",
          "not happy",
          "not happy",
          "not happy",
          "not happy",
          "not happy",
          "not happy",
          "not happy",
          "not happy",
          "not happy",
          "not happy",
          "not happy",
          "not happy",
          "not happy",
          "not happy",
          "not happy",
          "not happy",
          "not happy",
          "not happy",
          "not happy",
          "not happy",
          "not happy",
          "not happy",
          "not happy",
          "not happy",
          "not happy",
          "not happy",
          "not happy",
          "not happy",
          "not happy",
          "not happy",
          "not happy",
          "not happy",
          "not happy",
          "not happy",
          "not happy",
          "not happy",
          "not happy",
          "not happy",
          "not happy",
          "not happy",
          "not happy",
          "not happy",
          "not happy",
          "not happy"
         ],
         "legendgroup": "not happy",
         "marker": {
          "color": "#636efa",
          "symbol": "circle"
         },
         "name": "not happy",
         "notched": true,
         "offsetgroup": "not happy",
         "showlegend": false,
         "type": "box",
         "x": [
          0.14138780105592516,
          0.17699191224133698,
          0.16842448884400918,
          0.10003495705163355,
          0.12537316436622664,
          0.150629350445552,
          0.1720007518135979,
          0.0986937148084237,
          0.030834740601505775,
          0.07540845475346947,
          0.1163561880105429,
          0.15257011437716947,
          0.04954532471002092,
          0.11271868165929447,
          0.1576262443110964,
          -0.22798836820460708,
          -0.3337157765510648,
          -0.41767769289959716,
          -0.48487057121511007,
          -0.17323193639620854,
          -0.3435838958128793,
          -0.3414045828167197,
          -0.20675122745915742,
          -0.2510418882986984,
          -0.2939251475320868,
          -0.32536751527642116,
          -0.4091434915280327,
          -0.09007573011290969,
          -0.4391863410340513,
          -0.23618789714745758,
          -0.31014602666540064,
          -0.24716141714133139,
          -0.17856851966125875,
          -0.10633401951810617,
          -0.329426087501773,
          -0.33536730678909216,
          -0.3611578694156287,
          -0.03550291578397602,
          -0.08096295292690632,
          -0.3237278052999903,
          -0.036770883518664074,
          0.015630530451075028,
          -0.045195723076482425,
          0.08525482363285786,
          0.056798163926619974,
          0.06189729502918612,
          0.024846796296883036,
          0.008293283980286762,
          0.03866926963737821,
          0.05994978499780449
         ],
         "xaxis": "x2",
         "yaxis": "y2"
        },
        {
         "hovertemplate": "<b>%{hovertext}</b><br><br>ending_type=ambiguous<br>PC0=%{x}<br>PC1=%{y}<extra></extra>",
         "hovertext": [
          "ambiguous",
          "ambiguous",
          "ambiguous",
          "ambiguous",
          "ambiguous",
          "ambiguous",
          "ambiguous",
          "ambiguous",
          "ambiguous",
          "ambiguous",
          "ambiguous",
          "ambiguous",
          "ambiguous",
          "ambiguous",
          "ambiguous",
          "ambiguous",
          "ambiguous",
          "ambiguous",
          "ambiguous",
          "ambiguous"
         ],
         "legendgroup": "ambiguous",
         "marker": {
          "color": "#EF553B",
          "symbol": "circle"
         },
         "mode": "markers",
         "name": "ambiguous",
         "orientation": "v",
         "showlegend": true,
         "type": "scatter",
         "x": [
          0.1359714698459304,
          0.21039837715398887,
          0.11840622633570472,
          0.1055545890386807,
          0.4274921430856543,
          0.5148423742920349,
          0.466938659628858,
          0.5076062616040323,
          0.47660725242855406,
          0.4812432262730414,
          0.09874391182079964,
          0.09573116182100959,
          0.1089368495726388,
          0.17434471760602158,
          0.14806864761095717,
          0.1682135979717641,
          0.1670167887885729,
          0.18135422040270185,
          0.1892141401600629,
          0.007853137140710181
         ],
         "xaxis": "x",
         "y": [
          -0.13845743795981236,
          -0.21743496850953617,
          -0.1806740924742748,
          -0.16857954057964228,
          0.44901639088085393,
          0.546748537491408,
          0.5522737968151004,
          0.588550432934346,
          0.5275586780679246,
          0.5854646525296762,
          -0.154816931883356,
          -0.14049259636227152,
          -0.15987669464833731,
          -0.1727331155364646,
          -0.1788441110047329,
          -0.17727227579546723,
          -0.1762117521171661,
          -0.21401954055053235,
          -0.20862556818295247,
          -0.0784234538817697
         ],
         "yaxis": "y"
        },
        {
         "alignmentgroup": "True",
         "hovertemplate": "<b>%{hovertext}</b><br><br>ending_type=ambiguous<br>PC0=%{x}<extra></extra>",
         "hovertext": [
          "ambiguous",
          "ambiguous",
          "ambiguous",
          "ambiguous",
          "ambiguous",
          "ambiguous",
          "ambiguous",
          "ambiguous",
          "ambiguous",
          "ambiguous",
          "ambiguous",
          "ambiguous",
          "ambiguous",
          "ambiguous",
          "ambiguous",
          "ambiguous",
          "ambiguous",
          "ambiguous",
          "ambiguous",
          "ambiguous"
         ],
         "legendgroup": "ambiguous",
         "marker": {
          "color": "#EF553B",
          "symbol": "circle"
         },
         "name": "ambiguous",
         "notched": true,
         "offsetgroup": "ambiguous",
         "showlegend": false,
         "type": "box",
         "x": [
          0.1359714698459304,
          0.21039837715398887,
          0.11840622633570472,
          0.1055545890386807,
          0.4274921430856543,
          0.5148423742920349,
          0.466938659628858,
          0.5076062616040323,
          0.47660725242855406,
          0.4812432262730414,
          0.09874391182079964,
          0.09573116182100959,
          0.1089368495726388,
          0.17434471760602158,
          0.14806864761095717,
          0.1682135979717641,
          0.1670167887885729,
          0.18135422040270185,
          0.1892141401600629,
          0.007853137140710181
         ],
         "xaxis": "x2",
         "yaxis": "y2"
        }
       ],
       "layout": {
        "height": 800,
        "legend": {
         "title": {
          "text": "ending_type"
         },
         "tracegroupgap": 0
        },
        "margin": {
         "t": 60
        },
        "template": {
         "data": {
          "bar": [
           {
            "error_x": {
             "color": "#2a3f5f"
            },
            "error_y": {
             "color": "#2a3f5f"
            },
            "marker": {
             "line": {
              "color": "#E5ECF6",
              "width": 0.5
             },
             "pattern": {
              "fillmode": "overlay",
              "size": 10,
              "solidity": 0.2
             }
            },
            "type": "bar"
           }
          ],
          "barpolar": [
           {
            "marker": {
             "line": {
              "color": "#E5ECF6",
              "width": 0.5
             },
             "pattern": {
              "fillmode": "overlay",
              "size": 10,
              "solidity": 0.2
             }
            },
            "type": "barpolar"
           }
          ],
          "carpet": [
           {
            "aaxis": {
             "endlinecolor": "#2a3f5f",
             "gridcolor": "white",
             "linecolor": "white",
             "minorgridcolor": "white",
             "startlinecolor": "#2a3f5f"
            },
            "baxis": {
             "endlinecolor": "#2a3f5f",
             "gridcolor": "white",
             "linecolor": "white",
             "minorgridcolor": "white",
             "startlinecolor": "#2a3f5f"
            },
            "type": "carpet"
           }
          ],
          "choropleth": [
           {
            "colorbar": {
             "outlinewidth": 0,
             "ticks": ""
            },
            "type": "choropleth"
           }
          ],
          "contour": [
           {
            "colorbar": {
             "outlinewidth": 0,
             "ticks": ""
            },
            "colorscale": [
             [
              0,
              "#0d0887"
             ],
             [
              0.1111111111111111,
              "#46039f"
             ],
             [
              0.2222222222222222,
              "#7201a8"
             ],
             [
              0.3333333333333333,
              "#9c179e"
             ],
             [
              0.4444444444444444,
              "#bd3786"
             ],
             [
              0.5555555555555556,
              "#d8576b"
             ],
             [
              0.6666666666666666,
              "#ed7953"
             ],
             [
              0.7777777777777778,
              "#fb9f3a"
             ],
             [
              0.8888888888888888,
              "#fdca26"
             ],
             [
              1,
              "#f0f921"
             ]
            ],
            "type": "contour"
           }
          ],
          "contourcarpet": [
           {
            "colorbar": {
             "outlinewidth": 0,
             "ticks": ""
            },
            "type": "contourcarpet"
           }
          ],
          "heatmap": [
           {
            "colorbar": {
             "outlinewidth": 0,
             "ticks": ""
            },
            "colorscale": [
             [
              0,
              "#0d0887"
             ],
             [
              0.1111111111111111,
              "#46039f"
             ],
             [
              0.2222222222222222,
              "#7201a8"
             ],
             [
              0.3333333333333333,
              "#9c179e"
             ],
             [
              0.4444444444444444,
              "#bd3786"
             ],
             [
              0.5555555555555556,
              "#d8576b"
             ],
             [
              0.6666666666666666,
              "#ed7953"
             ],
             [
              0.7777777777777778,
              "#fb9f3a"
             ],
             [
              0.8888888888888888,
              "#fdca26"
             ],
             [
              1,
              "#f0f921"
             ]
            ],
            "type": "heatmap"
           }
          ],
          "heatmapgl": [
           {
            "colorbar": {
             "outlinewidth": 0,
             "ticks": ""
            },
            "colorscale": [
             [
              0,
              "#0d0887"
             ],
             [
              0.1111111111111111,
              "#46039f"
             ],
             [
              0.2222222222222222,
              "#7201a8"
             ],
             [
              0.3333333333333333,
              "#9c179e"
             ],
             [
              0.4444444444444444,
              "#bd3786"
             ],
             [
              0.5555555555555556,
              "#d8576b"
             ],
             [
              0.6666666666666666,
              "#ed7953"
             ],
             [
              0.7777777777777778,
              "#fb9f3a"
             ],
             [
              0.8888888888888888,
              "#fdca26"
             ],
             [
              1,
              "#f0f921"
             ]
            ],
            "type": "heatmapgl"
           }
          ],
          "histogram": [
           {
            "marker": {
             "pattern": {
              "fillmode": "overlay",
              "size": 10,
              "solidity": 0.2
             }
            },
            "type": "histogram"
           }
          ],
          "histogram2d": [
           {
            "colorbar": {
             "outlinewidth": 0,
             "ticks": ""
            },
            "colorscale": [
             [
              0,
              "#0d0887"
             ],
             [
              0.1111111111111111,
              "#46039f"
             ],
             [
              0.2222222222222222,
              "#7201a8"
             ],
             [
              0.3333333333333333,
              "#9c179e"
             ],
             [
              0.4444444444444444,
              "#bd3786"
             ],
             [
              0.5555555555555556,
              "#d8576b"
             ],
             [
              0.6666666666666666,
              "#ed7953"
             ],
             [
              0.7777777777777778,
              "#fb9f3a"
             ],
             [
              0.8888888888888888,
              "#fdca26"
             ],
             [
              1,
              "#f0f921"
             ]
            ],
            "type": "histogram2d"
           }
          ],
          "histogram2dcontour": [
           {
            "colorbar": {
             "outlinewidth": 0,
             "ticks": ""
            },
            "colorscale": [
             [
              0,
              "#0d0887"
             ],
             [
              0.1111111111111111,
              "#46039f"
             ],
             [
              0.2222222222222222,
              "#7201a8"
             ],
             [
              0.3333333333333333,
              "#9c179e"
             ],
             [
              0.4444444444444444,
              "#bd3786"
             ],
             [
              0.5555555555555556,
              "#d8576b"
             ],
             [
              0.6666666666666666,
              "#ed7953"
             ],
             [
              0.7777777777777778,
              "#fb9f3a"
             ],
             [
              0.8888888888888888,
              "#fdca26"
             ],
             [
              1,
              "#f0f921"
             ]
            ],
            "type": "histogram2dcontour"
           }
          ],
          "mesh3d": [
           {
            "colorbar": {
             "outlinewidth": 0,
             "ticks": ""
            },
            "type": "mesh3d"
           }
          ],
          "parcoords": [
           {
            "line": {
             "colorbar": {
              "outlinewidth": 0,
              "ticks": ""
             }
            },
            "type": "parcoords"
           }
          ],
          "pie": [
           {
            "automargin": true,
            "type": "pie"
           }
          ],
          "scatter": [
           {
            "fillpattern": {
             "fillmode": "overlay",
             "size": 10,
             "solidity": 0.2
            },
            "type": "scatter"
           }
          ],
          "scatter3d": [
           {
            "line": {
             "colorbar": {
              "outlinewidth": 0,
              "ticks": ""
             }
            },
            "marker": {
             "colorbar": {
              "outlinewidth": 0,
              "ticks": ""
             }
            },
            "type": "scatter3d"
           }
          ],
          "scattercarpet": [
           {
            "marker": {
             "colorbar": {
              "outlinewidth": 0,
              "ticks": ""
             }
            },
            "type": "scattercarpet"
           }
          ],
          "scattergeo": [
           {
            "marker": {
             "colorbar": {
              "outlinewidth": 0,
              "ticks": ""
             }
            },
            "type": "scattergeo"
           }
          ],
          "scattergl": [
           {
            "marker": {
             "colorbar": {
              "outlinewidth": 0,
              "ticks": ""
             }
            },
            "type": "scattergl"
           }
          ],
          "scattermapbox": [
           {
            "marker": {
             "colorbar": {
              "outlinewidth": 0,
              "ticks": ""
             }
            },
            "type": "scattermapbox"
           }
          ],
          "scatterpolar": [
           {
            "marker": {
             "colorbar": {
              "outlinewidth": 0,
              "ticks": ""
             }
            },
            "type": "scatterpolar"
           }
          ],
          "scatterpolargl": [
           {
            "marker": {
             "colorbar": {
              "outlinewidth": 0,
              "ticks": ""
             }
            },
            "type": "scatterpolargl"
           }
          ],
          "scatterternary": [
           {
            "marker": {
             "colorbar": {
              "outlinewidth": 0,
              "ticks": ""
             }
            },
            "type": "scatterternary"
           }
          ],
          "surface": [
           {
            "colorbar": {
             "outlinewidth": 0,
             "ticks": ""
            },
            "colorscale": [
             [
              0,
              "#0d0887"
             ],
             [
              0.1111111111111111,
              "#46039f"
             ],
             [
              0.2222222222222222,
              "#7201a8"
             ],
             [
              0.3333333333333333,
              "#9c179e"
             ],
             [
              0.4444444444444444,
              "#bd3786"
             ],
             [
              0.5555555555555556,
              "#d8576b"
             ],
             [
              0.6666666666666666,
              "#ed7953"
             ],
             [
              0.7777777777777778,
              "#fb9f3a"
             ],
             [
              0.8888888888888888,
              "#fdca26"
             ],
             [
              1,
              "#f0f921"
             ]
            ],
            "type": "surface"
           }
          ],
          "table": [
           {
            "cells": {
             "fill": {
              "color": "#EBF0F8"
             },
             "line": {
              "color": "white"
             }
            },
            "header": {
             "fill": {
              "color": "#C8D4E3"
             },
             "line": {
              "color": "white"
             }
            },
            "type": "table"
           }
          ]
         },
         "layout": {
          "annotationdefaults": {
           "arrowcolor": "#2a3f5f",
           "arrowhead": 0,
           "arrowwidth": 1
          },
          "autotypenumbers": "strict",
          "coloraxis": {
           "colorbar": {
            "outlinewidth": 0,
            "ticks": ""
           }
          },
          "colorscale": {
           "diverging": [
            [
             0,
             "#8e0152"
            ],
            [
             0.1,
             "#c51b7d"
            ],
            [
             0.2,
             "#de77ae"
            ],
            [
             0.3,
             "#f1b6da"
            ],
            [
             0.4,
             "#fde0ef"
            ],
            [
             0.5,
             "#f7f7f7"
            ],
            [
             0.6,
             "#e6f5d0"
            ],
            [
             0.7,
             "#b8e186"
            ],
            [
             0.8,
             "#7fbc41"
            ],
            [
             0.9,
             "#4d9221"
            ],
            [
             1,
             "#276419"
            ]
           ],
           "sequential": [
            [
             0,
             "#0d0887"
            ],
            [
             0.1111111111111111,
             "#46039f"
            ],
            [
             0.2222222222222222,
             "#7201a8"
            ],
            [
             0.3333333333333333,
             "#9c179e"
            ],
            [
             0.4444444444444444,
             "#bd3786"
            ],
            [
             0.5555555555555556,
             "#d8576b"
            ],
            [
             0.6666666666666666,
             "#ed7953"
            ],
            [
             0.7777777777777778,
             "#fb9f3a"
            ],
            [
             0.8888888888888888,
             "#fdca26"
            ],
            [
             1,
             "#f0f921"
            ]
           ],
           "sequentialminus": [
            [
             0,
             "#0d0887"
            ],
            [
             0.1111111111111111,
             "#46039f"
            ],
            [
             0.2222222222222222,
             "#7201a8"
            ],
            [
             0.3333333333333333,
             "#9c179e"
            ],
            [
             0.4444444444444444,
             "#bd3786"
            ],
            [
             0.5555555555555556,
             "#d8576b"
            ],
            [
             0.6666666666666666,
             "#ed7953"
            ],
            [
             0.7777777777777778,
             "#fb9f3a"
            ],
            [
             0.8888888888888888,
             "#fdca26"
            ],
            [
             1,
             "#f0f921"
            ]
           ]
          },
          "colorway": [
           "#636efa",
           "#EF553B",
           "#00cc96",
           "#ab63fa",
           "#FFA15A",
           "#19d3f3",
           "#FF6692",
           "#B6E880",
           "#FF97FF",
           "#FECB52"
          ],
          "font": {
           "color": "#2a3f5f"
          },
          "geo": {
           "bgcolor": "white",
           "lakecolor": "white",
           "landcolor": "#E5ECF6",
           "showlakes": true,
           "showland": true,
           "subunitcolor": "white"
          },
          "hoverlabel": {
           "align": "left"
          },
          "hovermode": "closest",
          "mapbox": {
           "style": "light"
          },
          "paper_bgcolor": "white",
          "plot_bgcolor": "#E5ECF6",
          "polar": {
           "angularaxis": {
            "gridcolor": "white",
            "linecolor": "white",
            "ticks": ""
           },
           "bgcolor": "#E5ECF6",
           "radialaxis": {
            "gridcolor": "white",
            "linecolor": "white",
            "ticks": ""
           }
          },
          "scene": {
           "xaxis": {
            "backgroundcolor": "#E5ECF6",
            "gridcolor": "white",
            "gridwidth": 2,
            "linecolor": "white",
            "showbackground": true,
            "ticks": "",
            "zerolinecolor": "white"
           },
           "yaxis": {
            "backgroundcolor": "#E5ECF6",
            "gridcolor": "white",
            "gridwidth": 2,
            "linecolor": "white",
            "showbackground": true,
            "ticks": "",
            "zerolinecolor": "white"
           },
           "zaxis": {
            "backgroundcolor": "#E5ECF6",
            "gridcolor": "white",
            "gridwidth": 2,
            "linecolor": "white",
            "showbackground": true,
            "ticks": "",
            "zerolinecolor": "white"
           }
          },
          "shapedefaults": {
           "line": {
            "color": "#2a3f5f"
           }
          },
          "ternary": {
           "aaxis": {
            "gridcolor": "white",
            "linecolor": "white",
            "ticks": ""
           },
           "baxis": {
            "gridcolor": "white",
            "linecolor": "white",
            "ticks": ""
           },
           "bgcolor": "#E5ECF6",
           "caxis": {
            "gridcolor": "white",
            "linecolor": "white",
            "ticks": ""
           }
          },
          "title": {
           "x": 0.05
          },
          "xaxis": {
           "automargin": true,
           "gridcolor": "white",
           "linecolor": "white",
           "ticks": "",
           "title": {
            "standoff": 15
           },
           "zerolinecolor": "white",
           "zerolinewidth": 2
          },
          "yaxis": {
           "automargin": true,
           "gridcolor": "white",
           "linecolor": "white",
           "ticks": "",
           "title": {
            "standoff": 15
           },
           "zerolinecolor": "white",
           "zerolinewidth": 2
          }
         }
        },
        "xaxis": {
         "anchor": "y",
         "domain": [
          0,
          1
         ],
         "title": {
          "text": "PC0"
         }
        },
        "xaxis2": {
         "anchor": "y2",
         "domain": [
          0,
          1
         ],
         "matches": "x",
         "showgrid": true,
         "showticklabels": false
        },
        "yaxis": {
         "anchor": "x",
         "domain": [
          0,
          0.7326
         ],
         "title": {
          "text": "PC1"
         }
        },
        "yaxis2": {
         "anchor": "x2",
         "domain": [
          0.7426,
          1
         ],
         "matches": "y2",
         "showgrid": false,
         "showline": false,
         "showticklabels": false,
         "ticks": ""
        }
       }
      }
     },
     "metadata": {},
     "output_type": "display_data"
    }
   ],
   "source": [
    "import pandas as pd\n",
    "import numpy as np\n",
    "from scipy.linalg import norm\n",
    "import plotly_express as px\n",
    "import seaborn as sns\n",
    "from sklearn.decomposition import PCA\n",
    "sns.set(style='ticks')\n",
    "OHCO = ['book_id', 'chap_id']\n",
    "# Added after class\n",
    "norm_docs = True # This has the effect of exaggerating variance when False\n",
    "center_term_vectors = True # This has the effect of demoting authorship when False\n",
    "colors = \"YlGnBu\" \n",
    "# colors = \"Spectral\"\n",
    "\n",
    "\n",
    "\n",
    "\n",
    "pca_engine = PCA(n_components=10)\n",
    "DCM = pd.DataFrame(pca_engine.fit_transform(L2.fillna(0)), index=L2.index)\n",
    "DCM.columns = ['PC{}'.format(i) for i in DCM.columns]\n",
    "DCM = DCM.join(LIB[['author','ending_type']], on='book_id') #the lavel i will use is work_type\n",
    "def vis_pcs(M, a, b, label='author', hover_name='author', symbol=None, size=None):\n",
    "    return px.scatter(M, f\"PC{a}\", f\"PC{b}\", color=label, hover_name=hover_name, \n",
    "                     symbol=symbol, size=size,\n",
    "                     marginal_x='box', height=800)\n",
    "\n",
    "def vis_loadings(a=0, b=1, hover_name='term_str'):\n",
    "    return px.scatter(LOADINGS.reset_index(), f\"PC{a}\", f\"PC{b}\", \n",
    "                      text='term_str', hover_name='term_str',\n",
    "                      size='dfidf', color='max_pos_group', \n",
    "                      marginal_x='box', height=800)\n",
    "LOADINGS = pd.DataFrame(pca_engine.components_.T * np.sqrt(pca_engine.explained_variance_))\n",
    "LOADINGS.columns = [\"PC{}\".format(i) for i in LOADINGS.columns]\n",
    "LOADINGS.index = L2.columns\n",
    "LOADINGS.index.name = 'term_str'\n",
    "LOADINGS = LOADINGS.join(VOCAB)\n",
    "vis_pcs(DCM, 0, 1, label='ending_type', hover_name= 'ending_type')"
   ]
  },
  {
   "cell_type": "code",
   "execution_count": 17,
   "id": "ca747f2e",
   "metadata": {},
   "outputs": [
    {
     "data": {
      "application/vnd.plotly.v1+json": {
       "config": {
        "plotlyServerURL": "https://plot.ly"
       },
       "data": [
        {
         "hovertemplate": "<b>%{hovertext}</b><br><br>title=METAMORPHOSIS<br>PC0=%{x}<br>PC1=%{y}<extra></extra>",
         "hovertext": [
          "METAMORPHOSIS",
          "METAMORPHOSIS",
          "METAMORPHOSIS"
         ],
         "legendgroup": "METAMORPHOSIS",
         "marker": {
          "color": "#636efa",
          "symbol": "circle"
         },
         "mode": "markers",
         "name": "METAMORPHOSIS",
         "orientation": "v",
         "showlegend": true,
         "type": "scatter",
         "x": [
          0.14132256061720613,
          0.1769700433661464,
          0.1684028020660774
         ],
         "xaxis": "x",
         "y": [
          -0.25532093084312596,
          -0.28193689211308537,
          -0.2568026476581711
         ],
         "yaxis": "y"
        },
        {
         "alignmentgroup": "True",
         "hovertemplate": "<b>%{hovertext}</b><br><br>title=METAMORPHOSIS<br>PC0=%{x}<extra></extra>",
         "hovertext": [
          "METAMORPHOSIS",
          "METAMORPHOSIS",
          "METAMORPHOSIS"
         ],
         "legendgroup": "METAMORPHOSIS",
         "marker": {
          "color": "#636efa",
          "symbol": "circle"
         },
         "name": "METAMORPHOSIS",
         "notched": true,
         "offsetgroup": "METAMORPHOSIS",
         "showlegend": false,
         "type": "box",
         "x": [
          0.14132256061720613,
          0.1769700433661464,
          0.1684028020660774
         ],
         "xaxis": "x2",
         "yaxis": "y2"
        },
        {
         "hovertemplate": "<b>%{hovertext}</b><br><br>title=BLUMFELD<br>PC0=%{x}<br>PC1=%{y}<extra></extra>",
         "hovertext": [
          "BLUMFELD"
         ],
         "legendgroup": "BLUMFELD",
         "marker": {
          "color": "#EF553B",
          "symbol": "circle"
         },
         "mode": "markers",
         "name": "BLUMFELD",
         "orientation": "v",
         "showlegend": true,
         "type": "scatter",
         "x": [
          0.13536128933088365
         ],
         "xaxis": "x",
         "y": [
          -0.13850499649759762
         ],
         "yaxis": "y"
        },
        {
         "alignmentgroup": "True",
         "hovertemplate": "<b>%{hovertext}</b><br><br>title=BLUMFELD<br>PC0=%{x}<extra></extra>",
         "hovertext": [
          "BLUMFELD"
         ],
         "legendgroup": "BLUMFELD",
         "marker": {
          "color": "#EF553B",
          "symbol": "circle"
         },
         "name": "BLUMFELD",
         "notched": true,
         "offsetgroup": "BLUMFELD",
         "showlegend": false,
         "type": "box",
         "x": [
          0.13536128933088365
         ],
         "xaxis": "x2",
         "yaxis": "y2"
        },
        {
         "hovertemplate": "<b>%{hovertext}</b><br><br>title=THE BURROW<br>PC0=%{x}<br>PC1=%{y}<extra></extra>",
         "hovertext": [
          "THE BURROW"
         ],
         "legendgroup": "THE BURROW",
         "marker": {
          "color": "#00cc96",
          "symbol": "circle"
         },
         "mode": "markers",
         "name": "THE BURROW",
         "orientation": "v",
         "showlegend": true,
         "type": "scatter",
         "x": [
          0.10013067760807573
         ],
         "xaxis": "x",
         "y": [
          -0.14137883887191308
         ],
         "yaxis": "y"
        },
        {
         "alignmentgroup": "True",
         "hovertemplate": "<b>%{hovertext}</b><br><br>title=THE BURROW<br>PC0=%{x}<extra></extra>",
         "hovertext": [
          "THE BURROW"
         ],
         "legendgroup": "THE BURROW",
         "marker": {
          "color": "#00cc96",
          "symbol": "circle"
         },
         "name": "THE BURROW",
         "notched": true,
         "offsetgroup": "THE BURROW",
         "showlegend": false,
         "type": "box",
         "x": [
          0.10013067760807573
         ],
         "xaxis": "x2",
         "yaxis": "y2"
        },
        {
         "hovertemplate": "<b>%{hovertext}</b><br><br>title=JOSEPHINE THE SONGSTRESS<br>PC0=%{x}<br>PC1=%{y}<extra></extra>",
         "hovertext": [
          "JOSEPHINE THE SONGSTRESS",
          "JOSEPHINE THE SONGSTRESS"
         ],
         "legendgroup": "JOSEPHINE THE SONGSTRESS",
         "marker": {
          "color": "#ab63fa",
          "symbol": "circle"
         },
         "mode": "markers",
         "name": "JOSEPHINE THE SONGSTRESS",
         "orientation": "v",
         "showlegend": true,
         "type": "scatter",
         "x": [
          0.12525158676184253,
          0.15047232925968937
         ],
         "xaxis": "x",
         "y": [
          -0.1982195837565854,
          -0.19975759366003548
         ],
         "yaxis": "y"
        },
        {
         "alignmentgroup": "True",
         "hovertemplate": "<b>%{hovertext}</b><br><br>title=JOSEPHINE THE SONGSTRESS<br>PC0=%{x}<extra></extra>",
         "hovertext": [
          "JOSEPHINE THE SONGSTRESS",
          "JOSEPHINE THE SONGSTRESS"
         ],
         "legendgroup": "JOSEPHINE THE SONGSTRESS",
         "marker": {
          "color": "#ab63fa",
          "symbol": "circle"
         },
         "name": "JOSEPHINE THE SONGSTRESS",
         "notched": true,
         "offsetgroup": "JOSEPHINE THE SONGSTRESS",
         "showlegend": false,
         "type": "box",
         "x": [
          0.12525158676184253,
          0.15047232925968937
         ],
         "xaxis": "x2",
         "yaxis": "y2"
        },
        {
         "hovertemplate": "<b>%{hovertext}</b><br><br>title=BEFORE THE LAW<br>PC0=%{x}<br>PC1=%{y}<extra></extra>",
         "hovertext": [
          "BEFORE THE LAW"
         ],
         "legendgroup": "BEFORE THE LAW",
         "marker": {
          "color": "#FFA15A",
          "symbol": "circle"
         },
         "mode": "markers",
         "name": "BEFORE THE LAW",
         "orientation": "v",
         "showlegend": true,
         "type": "scatter",
         "x": [
          0.17202979022851927
         ],
         "xaxis": "x",
         "y": [
          -0.16440743813320474
         ],
         "yaxis": "y"
        },
        {
         "alignmentgroup": "True",
         "hovertemplate": "<b>%{hovertext}</b><br><br>title=BEFORE THE LAW<br>PC0=%{x}<extra></extra>",
         "hovertext": [
          "BEFORE THE LAW"
         ],
         "legendgroup": "BEFORE THE LAW",
         "marker": {
          "color": "#FFA15A",
          "symbol": "circle"
         },
         "name": "BEFORE THE LAW",
         "notched": true,
         "offsetgroup": "BEFORE THE LAW",
         "showlegend": false,
         "type": "box",
         "x": [
          0.17202979022851927
         ],
         "xaxis": "x2",
         "yaxis": "y2"
        },
        {
         "hovertemplate": "<b>%{hovertext}</b><br><br>title=UP IN THE GALLERY<br>PC0=%{x}<br>PC1=%{y}<extra></extra>",
         "hovertext": [
          "UP IN THE GALLERY"
         ],
         "legendgroup": "UP IN THE GALLERY",
         "marker": {
          "color": "#19d3f3",
          "symbol": "circle"
         },
         "mode": "markers",
         "name": "UP IN THE GALLERY",
         "orientation": "v",
         "showlegend": true,
         "type": "scatter",
         "x": [
          0.2096120297109667
         ],
         "xaxis": "x",
         "y": [
          -0.21746910332393715
         ],
         "yaxis": "y"
        },
        {
         "alignmentgroup": "True",
         "hovertemplate": "<b>%{hovertext}</b><br><br>title=UP IN THE GALLERY<br>PC0=%{x}<extra></extra>",
         "hovertext": [
          "UP IN THE GALLERY"
         ],
         "legendgroup": "UP IN THE GALLERY",
         "marker": {
          "color": "#19d3f3",
          "symbol": "circle"
         },
         "name": "UP IN THE GALLERY",
         "notched": true,
         "offsetgroup": "UP IN THE GALLERY",
         "showlegend": false,
         "type": "box",
         "x": [
          0.2096120297109667
         ],
         "xaxis": "x2",
         "yaxis": "y2"
        },
        {
         "hovertemplate": "<b>%{hovertext}</b><br><br>title=THE HUNTER GRACCHUS<br>PC0=%{x}<br>PC1=%{y}<extra></extra>",
         "hovertext": [
          "THE HUNTER GRACCHUS"
         ],
         "legendgroup": "THE HUNTER GRACCHUS",
         "marker": {
          "color": "#FF6692",
          "symbol": "circle"
         },
         "mode": "markers",
         "name": "THE HUNTER GRACCHUS",
         "orientation": "v",
         "showlegend": true,
         "type": "scatter",
         "x": [
          0.09878924334467346
         ],
         "xaxis": "x",
         "y": [
          -0.10673849867894383
         ],
         "yaxis": "y"
        },
        {
         "alignmentgroup": "True",
         "hovertemplate": "<b>%{hovertext}</b><br><br>title=THE HUNTER GRACCHUS<br>PC0=%{x}<extra></extra>",
         "hovertext": [
          "THE HUNTER GRACCHUS"
         ],
         "legendgroup": "THE HUNTER GRACCHUS",
         "marker": {
          "color": "#FF6692",
          "symbol": "circle"
         },
         "name": "THE HUNTER GRACCHUS",
         "notched": true,
         "offsetgroup": "THE HUNTER GRACCHUS",
         "showlegend": false,
         "type": "box",
         "x": [
          0.09878924334467346
         ],
         "xaxis": "x2",
         "yaxis": "y2"
        },
        {
         "hovertemplate": "<b>%{hovertext}</b><br><br>title=THE GREAT WALL OF CHINA<br>PC0=%{x}<br>PC1=%{y}<extra></extra>",
         "hovertext": [
          "THE GREAT WALL OF CHINA"
         ],
         "legendgroup": "THE GREAT WALL OF CHINA",
         "marker": {
          "color": "#B6E880",
          "symbol": "circle"
         },
         "mode": "markers",
         "name": "THE GREAT WALL OF CHINA",
         "orientation": "v",
         "showlegend": true,
         "type": "scatter",
         "x": [
          0.11814080589590076
         ],
         "xaxis": "x",
         "y": [
          -0.18018445662525043
         ],
         "yaxis": "y"
        },
        {
         "alignmentgroup": "True",
         "hovertemplate": "<b>%{hovertext}</b><br><br>title=THE GREAT WALL OF CHINA<br>PC0=%{x}<extra></extra>",
         "hovertext": [
          "THE GREAT WALL OF CHINA"
         ],
         "legendgroup": "THE GREAT WALL OF CHINA",
         "marker": {
          "color": "#B6E880",
          "symbol": "circle"
         },
         "name": "THE GREAT WALL OF CHINA",
         "notched": true,
         "offsetgroup": "THE GREAT WALL OF CHINA",
         "showlegend": false,
         "type": "box",
         "x": [
          0.11814080589590076
         ],
         "xaxis": "x2",
         "yaxis": "y2"
        },
        {
         "hovertemplate": "<b>%{hovertext}</b><br><br>title=A REPORT FOR AN ACADEMY<br>PC0=%{x}<br>PC1=%{y}<extra></extra>",
         "hovertext": [
          "A REPORT FOR AN ACADEMY"
         ],
         "legendgroup": "A REPORT FOR AN ACADEMY",
         "marker": {
          "color": "#FF97FF",
          "symbol": "circle"
         },
         "mode": "markers",
         "name": "A REPORT FOR AN ACADEMY",
         "orientation": "v",
         "showlegend": true,
         "type": "scatter",
         "x": [
          0.10557075472875783
         ],
         "xaxis": "x",
         "y": [
          -0.16685808899917814
         ],
         "yaxis": "y"
        },
        {
         "alignmentgroup": "True",
         "hovertemplate": "<b>%{hovertext}</b><br><br>title=A REPORT FOR AN ACADEMY<br>PC0=%{x}<extra></extra>",
         "hovertext": [
          "A REPORT FOR AN ACADEMY"
         ],
         "legendgroup": "A REPORT FOR AN ACADEMY",
         "marker": {
          "color": "#FF97FF",
          "symbol": "circle"
         },
         "name": "A REPORT FOR AN ACADEMY",
         "notched": true,
         "offsetgroup": "A REPORT FOR AN ACADEMY",
         "showlegend": false,
         "type": "box",
         "x": [
          0.10557075472875783
         ],
         "xaxis": "x2",
         "yaxis": "y2"
        },
        {
         "hovertemplate": "<b>%{hovertext}</b><br><br>title=DEAREST FATHER<br>PC0=%{x}<br>PC1=%{y}<extra></extra>",
         "hovertext": [
          "DEAREST FATHER"
         ],
         "legendgroup": "DEAREST FATHER",
         "marker": {
          "color": "#FECB52",
          "symbol": "circle"
         },
         "mode": "markers",
         "name": "DEAREST FATHER",
         "orientation": "v",
         "showlegend": true,
         "type": "scatter",
         "x": [
          0.031061213287044396
         ],
         "xaxis": "x",
         "y": [
          -0.10421359729760518
         ],
         "yaxis": "y"
        },
        {
         "alignmentgroup": "True",
         "hovertemplate": "<b>%{hovertext}</b><br><br>title=DEAREST FATHER<br>PC0=%{x}<extra></extra>",
         "hovertext": [
          "DEAREST FATHER"
         ],
         "legendgroup": "DEAREST FATHER",
         "marker": {
          "color": "#FECB52",
          "symbol": "circle"
         },
         "name": "DEAREST FATHER",
         "notched": true,
         "offsetgroup": "DEAREST FATHER",
         "showlegend": false,
         "type": "box",
         "x": [
          0.031061213287044396
         ],
         "xaxis": "x2",
         "yaxis": "y2"
        },
        {
         "hovertemplate": "<b>%{hovertext}</b><br><br>title=THE JUDGEMENT<br>PC0=%{x}<br>PC1=%{y}<extra></extra>",
         "hovertext": [
          "THE JUDGEMENT"
         ],
         "legendgroup": "THE JUDGEMENT",
         "marker": {
          "color": "#636efa",
          "symbol": "circle"
         },
         "mode": "markers",
         "name": "THE JUDGEMENT",
         "orientation": "v",
         "showlegend": true,
         "type": "scatter",
         "x": [
          0.07570518503682595
         ],
         "xaxis": "x",
         "y": [
          -0.1357491634364498
         ],
         "yaxis": "y"
        },
        {
         "alignmentgroup": "True",
         "hovertemplate": "<b>%{hovertext}</b><br><br>title=THE JUDGEMENT<br>PC0=%{x}<extra></extra>",
         "hovertext": [
          "THE JUDGEMENT"
         ],
         "legendgroup": "THE JUDGEMENT",
         "marker": {
          "color": "#636efa",
          "symbol": "circle"
         },
         "name": "THE JUDGEMENT",
         "notched": true,
         "offsetgroup": "THE JUDGEMENT",
         "showlegend": false,
         "type": "box",
         "x": [
          0.07570518503682595
         ],
         "xaxis": "x2",
         "yaxis": "y2"
        },
        {
         "hovertemplate": "<b>%{hovertext}</b><br><br>title=AMERIKA<br>PC0=%{x}<br>PC1=%{y}<extra></extra>",
         "hovertext": [
          "AMERIKA",
          "AMERIKA",
          "AMERIKA",
          "AMERIKA",
          "AMERIKA",
          "AMERIKA"
         ],
         "legendgroup": "AMERIKA",
         "marker": {
          "color": "#EF553B",
          "symbol": "circle"
         },
         "mode": "markers",
         "name": "AMERIKA",
         "orientation": "v",
         "showlegend": true,
         "type": "scatter",
         "x": [
          0.42743252734786535,
          0.514684860634211,
          0.46685819592639666,
          0.5076935994491494,
          0.4766819743056809,
          0.4813252178181975
         ],
         "xaxis": "x",
         "y": [
          0.44909543981062966,
          0.5450616903517318,
          0.5505629299615828,
          0.5896813642373745,
          0.5285660999072941,
          0.5867032326446772
         ],
         "yaxis": "y"
        },
        {
         "alignmentgroup": "True",
         "hovertemplate": "<b>%{hovertext}</b><br><br>title=AMERIKA<br>PC0=%{x}<extra></extra>",
         "hovertext": [
          "AMERIKA",
          "AMERIKA",
          "AMERIKA",
          "AMERIKA",
          "AMERIKA",
          "AMERIKA"
         ],
         "legendgroup": "AMERIKA",
         "marker": {
          "color": "#EF553B",
          "symbol": "circle"
         },
         "name": "AMERIKA",
         "notched": true,
         "offsetgroup": "AMERIKA",
         "showlegend": false,
         "type": "box",
         "x": [
          0.42743252734786535,
          0.514684860634211,
          0.46685819592639666,
          0.5076935994491494,
          0.4766819743056809,
          0.4813252178181975
         ],
         "xaxis": "x2",
         "yaxis": "y2"
        },
        {
         "hovertemplate": "<b>%{hovertext}</b><br><br>title=IN THE PENAL COLONY<br>PC0=%{x}<br>PC1=%{y}<extra></extra>",
         "hovertext": [
          "IN THE PENAL COLONY"
         ],
         "legendgroup": "IN THE PENAL COLONY",
         "marker": {
          "color": "#00cc96",
          "symbol": "circle"
         },
         "mode": "markers",
         "name": "IN THE PENAL COLONY",
         "orientation": "v",
         "showlegend": true,
         "type": "scatter",
         "x": [
          0.11671783956330828
         ],
         "xaxis": "x",
         "y": [
          -0.1203752105705972
         ],
         "yaxis": "y"
        },
        {
         "alignmentgroup": "True",
         "hovertemplate": "<b>%{hovertext}</b><br><br>title=IN THE PENAL COLONY<br>PC0=%{x}<extra></extra>",
         "hovertext": [
          "IN THE PENAL COLONY"
         ],
         "legendgroup": "IN THE PENAL COLONY",
         "marker": {
          "color": "#00cc96",
          "symbol": "circle"
         },
         "name": "IN THE PENAL COLONY",
         "notched": true,
         "offsetgroup": "IN THE PENAL COLONY",
         "showlegend": false,
         "type": "box",
         "x": [
          0.11671783956330828
         ],
         "xaxis": "x2",
         "yaxis": "y2"
        },
        {
         "hovertemplate": "<b>%{hovertext}</b><br><br>title=THE HUNGER ARTIST<br>PC0=%{x}<br>PC1=%{y}<extra></extra>",
         "hovertext": [
          "THE HUNGER ARTIST"
         ],
         "legendgroup": "THE HUNGER ARTIST",
         "marker": {
          "color": "#ab63fa",
          "symbol": "circle"
         },
         "mode": "markers",
         "name": "THE HUNGER ARTIST",
         "orientation": "v",
         "showlegend": true,
         "type": "scatter",
         "x": [
          0.15302998717365465
         ],
         "xaxis": "x",
         "y": [
          -0.15552320707725092
         ],
         "yaxis": "y"
        },
        {
         "alignmentgroup": "True",
         "hovertemplate": "<b>%{hovertext}</b><br><br>title=THE HUNGER ARTIST<br>PC0=%{x}<extra></extra>",
         "hovertext": [
          "THE HUNGER ARTIST"
         ],
         "legendgroup": "THE HUNGER ARTIST",
         "marker": {
          "color": "#ab63fa",
          "symbol": "circle"
         },
         "name": "THE HUNGER ARTIST",
         "notched": true,
         "offsetgroup": "THE HUNGER ARTIST",
         "showlegend": false,
         "type": "box",
         "x": [
          0.15302998717365465
         ],
         "xaxis": "x2",
         "yaxis": "y2"
        },
        {
         "hovertemplate": "<b>%{hovertext}</b><br><br>title=THE JACKALS AND ARABS<br>PC0=%{x}<br>PC1=%{y}<extra></extra>",
         "hovertext": [
          "THE JACKALS AND ARABS"
         ],
         "legendgroup": "THE JACKALS AND ARABS",
         "marker": {
          "color": "#FFA15A",
          "symbol": "circle"
         },
         "mode": "markers",
         "name": "THE JACKALS AND ARABS",
         "orientation": "v",
         "showlegend": true,
         "type": "scatter",
         "x": [
          0.05023193130282147
         ],
         "xaxis": "x",
         "y": [
          -0.08761989796818886
         ],
         "yaxis": "y"
        },
        {
         "alignmentgroup": "True",
         "hovertemplate": "<b>%{hovertext}</b><br><br>title=THE JACKALS AND ARABS<br>PC0=%{x}<extra></extra>",
         "hovertext": [
          "THE JACKALS AND ARABS"
         ],
         "legendgroup": "THE JACKALS AND ARABS",
         "marker": {
          "color": "#FFA15A",
          "symbol": "circle"
         },
         "name": "THE JACKALS AND ARABS",
         "notched": true,
         "offsetgroup": "THE JACKALS AND ARABS",
         "showlegend": false,
         "type": "box",
         "x": [
          0.05023193130282147
         ],
         "xaxis": "x2",
         "yaxis": "y2"
        },
        {
         "hovertemplate": "<b>%{hovertext}</b><br><br>title=A COUNTRY DOCTOR<br>PC0=%{x}<br>PC1=%{y}<extra></extra>",
         "hovertext": [
          "A COUNTRY DOCTOR"
         ],
         "legendgroup": "A COUNTRY DOCTOR",
         "marker": {
          "color": "#19d3f3",
          "symbol": "circle"
         },
         "mode": "markers",
         "name": "A COUNTRY DOCTOR",
         "orientation": "v",
         "showlegend": true,
         "type": "scatter",
         "x": [
          0.11268021382252151
         ],
         "xaxis": "x",
         "y": [
          -0.20611027287245487
         ],
         "yaxis": "y"
        },
        {
         "alignmentgroup": "True",
         "hovertemplate": "<b>%{hovertext}</b><br><br>title=A COUNTRY DOCTOR<br>PC0=%{x}<extra></extra>",
         "hovertext": [
          "A COUNTRY DOCTOR"
         ],
         "legendgroup": "A COUNTRY DOCTOR",
         "marker": {
          "color": "#19d3f3",
          "symbol": "circle"
         },
         "name": "A COUNTRY DOCTOR",
         "notched": true,
         "offsetgroup": "A COUNTRY DOCTOR",
         "showlegend": false,
         "type": "box",
         "x": [
          0.11268021382252151
         ],
         "xaxis": "x2",
         "yaxis": "y2"
        },
        {
         "hovertemplate": "<b>%{hovertext}</b><br><br>title=AN IMPERIAL MESSAGE<br>PC0=%{x}<br>PC1=%{y}<extra></extra>",
         "hovertext": [
          "AN IMPERIAL MESSAGE"
         ],
         "legendgroup": "AN IMPERIAL MESSAGE",
         "marker": {
          "color": "#FF6692",
          "symbol": "circle"
         },
         "mode": "markers",
         "name": "AN IMPERIAL MESSAGE",
         "orientation": "v",
         "showlegend": true,
         "type": "scatter",
         "x": [
          0.15731106182538437
         ],
         "xaxis": "x",
         "y": [
          -0.18492735305094157
         ],
         "yaxis": "y"
        },
        {
         "alignmentgroup": "True",
         "hovertemplate": "<b>%{hovertext}</b><br><br>title=AN IMPERIAL MESSAGE<br>PC0=%{x}<extra></extra>",
         "hovertext": [
          "AN IMPERIAL MESSAGE"
         ],
         "legendgroup": "AN IMPERIAL MESSAGE",
         "marker": {
          "color": "#FF6692",
          "symbol": "circle"
         },
         "name": "AN IMPERIAL MESSAGE",
         "notched": true,
         "offsetgroup": "AN IMPERIAL MESSAGE",
         "showlegend": false,
         "type": "box",
         "x": [
          0.15731106182538437
         ],
         "xaxis": "x2",
         "yaxis": "y2"
        },
        {
         "hovertemplate": "<b>%{hovertext}</b><br><br>title=THE CASTLE<br>PC0=%{x}<br>PC1=%{y}<extra></extra>",
         "hovertext": [
          "THE CASTLE",
          "THE CASTLE",
          "THE CASTLE",
          "THE CASTLE",
          "THE CASTLE",
          "THE CASTLE",
          "THE CASTLE",
          "THE CASTLE",
          "THE CASTLE",
          "THE CASTLE",
          "THE CASTLE",
          "THE CASTLE",
          "THE CASTLE",
          "THE CASTLE",
          "THE CASTLE",
          "THE CASTLE",
          "THE CASTLE",
          "THE CASTLE",
          "THE CASTLE",
          "THE CASTLE",
          "THE CASTLE",
          "THE CASTLE",
          "THE CASTLE",
          "THE CASTLE",
          "THE CASTLE"
         ],
         "legendgroup": "THE CASTLE",
         "marker": {
          "color": "#B6E880",
          "symbol": "circle"
         },
         "mode": "markers",
         "name": "THE CASTLE",
         "orientation": "v",
         "showlegend": true,
         "type": "scatter",
         "x": [
          -0.22794373633021703,
          -0.3336450210019324,
          -0.4178033461390661,
          -0.4849469151678049,
          -0.17298814469001175,
          -0.34372764319163496,
          -0.34107542872915714,
          -0.20717469240595038,
          -0.25125392211792996,
          -0.2938113060710656,
          -0.32506334898226946,
          -0.4089972469104463,
          -0.08991134938408474,
          -0.439171630499793,
          -0.23619805216975176,
          -0.3102374278966856,
          -0.24744919472037002,
          -0.17873721092541928,
          -0.10633390683633069,
          -0.3294854022617474,
          -0.3353522508099455,
          -0.36110078804639445,
          -0.0353674527418492,
          -0.08097361869584127,
          -0.3240109341393356
         ],
         "xaxis": "x",
         "y": [
          0.07247247850946695,
          0.11406206509181314,
          0.21736679408663762,
          0.24083309596709518,
          0.04812058519300322,
          0.1763922874952529,
          0.18705190232207503,
          0.06231315476395295,
          0.13442487618613833,
          0.07680036491644858,
          0.15967939731683511,
          0.20049047537180636,
          -0.0049830909795938755,
          0.20817982183479766,
          0.030863580568275217,
          0.06180118764953681,
          0.015740550847057798,
          -0.04107921915700365,
          -0.0803739595438369,
          0.05929623162927007,
          0.13886127123474137,
          0.1479652374606647,
          -0.0480941869399863,
          -0.023858462826382796,
          0.10547129356553048
         ],
         "yaxis": "y"
        },
        {
         "alignmentgroup": "True",
         "hovertemplate": "<b>%{hovertext}</b><br><br>title=THE CASTLE<br>PC0=%{x}<extra></extra>",
         "hovertext": [
          "THE CASTLE",
          "THE CASTLE",
          "THE CASTLE",
          "THE CASTLE",
          "THE CASTLE",
          "THE CASTLE",
          "THE CASTLE",
          "THE CASTLE",
          "THE CASTLE",
          "THE CASTLE",
          "THE CASTLE",
          "THE CASTLE",
          "THE CASTLE",
          "THE CASTLE",
          "THE CASTLE",
          "THE CASTLE",
          "THE CASTLE",
          "THE CASTLE",
          "THE CASTLE",
          "THE CASTLE",
          "THE CASTLE",
          "THE CASTLE",
          "THE CASTLE",
          "THE CASTLE",
          "THE CASTLE"
         ],
         "legendgroup": "THE CASTLE",
         "marker": {
          "color": "#B6E880",
          "symbol": "circle"
         },
         "name": "THE CASTLE",
         "notched": true,
         "offsetgroup": "THE CASTLE",
         "showlegend": false,
         "type": "box",
         "x": [
          -0.22794373633021703,
          -0.3336450210019324,
          -0.4178033461390661,
          -0.4849469151678049,
          -0.17298814469001175,
          -0.34372764319163496,
          -0.34107542872915714,
          -0.20717469240595038,
          -0.25125392211792996,
          -0.2938113060710656,
          -0.32506334898226946,
          -0.4089972469104463,
          -0.08991134938408474,
          -0.439171630499793,
          -0.23619805216975176,
          -0.3102374278966856,
          -0.24744919472037002,
          -0.17873721092541928,
          -0.10633390683633069,
          -0.3294854022617474,
          -0.3353522508099455,
          -0.36110078804639445,
          -0.0353674527418492,
          -0.08097361869584127,
          -0.3240109341393356
         ],
         "xaxis": "x2",
         "yaxis": "y2"
        },
        {
         "hovertemplate": "<b>%{hovertext}</b><br><br>title=THE TRIAL<br>PC0=%{x}<br>PC1=%{y}<extra></extra>",
         "hovertext": [
          "THE TRIAL",
          "THE TRIAL",
          "THE TRIAL",
          "THE TRIAL",
          "THE TRIAL",
          "THE TRIAL",
          "THE TRIAL",
          "THE TRIAL",
          "THE TRIAL",
          "THE TRIAL"
         ],
         "legendgroup": "THE TRIAL",
         "marker": {
          "color": "#FF97FF",
          "symbol": "circle"
         },
         "mode": "markers",
         "name": "THE TRIAL",
         "orientation": "v",
         "showlegend": true,
         "type": "scatter",
         "x": [
          -0.036833880460463334,
          0.015440796457544051,
          -0.045262430317200765,
          0.08514158910683178,
          0.056348326652193796,
          0.061519718059440225,
          0.02491589260937753,
          0.007976184419569009,
          0.038877212634147375,
          0.06020645002630853
         ],
         "xaxis": "x",
         "y": [
          -0.030369841533263813,
          -0.07385919964862209,
          -0.019431217441189228,
          -0.0827923179152577,
          -0.09611964818896218,
          0.05720022403292338,
          -0.08289028650701982,
          -0.03606472096268397,
          -0.08142278213020195,
          -0.1038100165554931
         ],
         "yaxis": "y"
        },
        {
         "alignmentgroup": "True",
         "hovertemplate": "<b>%{hovertext}</b><br><br>title=THE TRIAL<br>PC0=%{x}<extra></extra>",
         "hovertext": [
          "THE TRIAL",
          "THE TRIAL",
          "THE TRIAL",
          "THE TRIAL",
          "THE TRIAL",
          "THE TRIAL",
          "THE TRIAL",
          "THE TRIAL",
          "THE TRIAL",
          "THE TRIAL"
         ],
         "legendgroup": "THE TRIAL",
         "marker": {
          "color": "#FF97FF",
          "symbol": "circle"
         },
         "name": "THE TRIAL",
         "notched": true,
         "offsetgroup": "THE TRIAL",
         "showlegend": false,
         "type": "box",
         "x": [
          -0.036833880460463334,
          0.015440796457544051,
          -0.045262430317200765,
          0.08514158910683178,
          0.056348326652193796,
          0.061519718059440225,
          0.02491589260937753,
          0.007976184419569009,
          0.038877212634147375,
          0.06020645002630853
         ],
         "xaxis": "x2",
         "yaxis": "y2"
        },
        {
         "hovertemplate": "<b>%{hovertext}</b><br><br>title=MEDITATION<br>PC0=%{x}<br>PC1=%{y}<extra></extra>",
         "hovertext": [
          "MEDITATION",
          "MEDITATION",
          "MEDITATION",
          "MEDITATION",
          "MEDITATION",
          "MEDITATION",
          "MEDITATION",
          "MEDITATION",
          "MEDITATION",
          "MEDITATION"
         ],
         "legendgroup": "MEDITATION",
         "marker": {
          "color": "#FECB52",
          "symbol": "circle"
         },
         "mode": "markers",
         "name": "MEDITATION",
         "orientation": "v",
         "showlegend": true,
         "type": "scatter",
         "x": [
          0.09890714947512963,
          0.09602278916275397,
          0.10934916394894607,
          0.17403866148515248,
          0.14817663591521135,
          0.1686145082548268,
          0.16697970175791157,
          0.18140103885753125,
          0.18938494118091345,
          0.008087801227110097
         ],
         "xaxis": "x",
         "y": [
          -0.15452521609156467,
          -0.13532848232908762,
          -0.15624547202264133,
          -0.17371261850355882,
          -0.18102857605751044,
          -0.1797507474848099,
          -0.17776413243531428,
          -0.21504950487359656,
          -0.2076922855817999,
          -0.07671387581271417
         ],
         "yaxis": "y"
        },
        {
         "alignmentgroup": "True",
         "hovertemplate": "<b>%{hovertext}</b><br><br>title=MEDITATION<br>PC0=%{x}<extra></extra>",
         "hovertext": [
          "MEDITATION",
          "MEDITATION",
          "MEDITATION",
          "MEDITATION",
          "MEDITATION",
          "MEDITATION",
          "MEDITATION",
          "MEDITATION",
          "MEDITATION",
          "MEDITATION"
         ],
         "legendgroup": "MEDITATION",
         "marker": {
          "color": "#FECB52",
          "symbol": "circle"
         },
         "name": "MEDITATION",
         "notched": true,
         "offsetgroup": "MEDITATION",
         "showlegend": false,
         "type": "box",
         "x": [
          0.09890714947512963,
          0.09602278916275397,
          0.10934916394894607,
          0.17403866148515248,
          0.14817663591521135,
          0.1686145082548268,
          0.16697970175791157,
          0.18140103885753125,
          0.18938494118091345,
          0.008087801227110097
         ],
         "xaxis": "x2",
         "yaxis": "y2"
        }
       ],
       "layout": {
        "height": 800,
        "legend": {
         "title": {
          "text": "title"
         },
         "tracegroupgap": 0
        },
        "margin": {
         "t": 60
        },
        "template": {
         "data": {
          "bar": [
           {
            "error_x": {
             "color": "#2a3f5f"
            },
            "error_y": {
             "color": "#2a3f5f"
            },
            "marker": {
             "line": {
              "color": "#E5ECF6",
              "width": 0.5
             },
             "pattern": {
              "fillmode": "overlay",
              "size": 10,
              "solidity": 0.2
             }
            },
            "type": "bar"
           }
          ],
          "barpolar": [
           {
            "marker": {
             "line": {
              "color": "#E5ECF6",
              "width": 0.5
             },
             "pattern": {
              "fillmode": "overlay",
              "size": 10,
              "solidity": 0.2
             }
            },
            "type": "barpolar"
           }
          ],
          "carpet": [
           {
            "aaxis": {
             "endlinecolor": "#2a3f5f",
             "gridcolor": "white",
             "linecolor": "white",
             "minorgridcolor": "white",
             "startlinecolor": "#2a3f5f"
            },
            "baxis": {
             "endlinecolor": "#2a3f5f",
             "gridcolor": "white",
             "linecolor": "white",
             "minorgridcolor": "white",
             "startlinecolor": "#2a3f5f"
            },
            "type": "carpet"
           }
          ],
          "choropleth": [
           {
            "colorbar": {
             "outlinewidth": 0,
             "ticks": ""
            },
            "type": "choropleth"
           }
          ],
          "contour": [
           {
            "colorbar": {
             "outlinewidth": 0,
             "ticks": ""
            },
            "colorscale": [
             [
              0,
              "#0d0887"
             ],
             [
              0.1111111111111111,
              "#46039f"
             ],
             [
              0.2222222222222222,
              "#7201a8"
             ],
             [
              0.3333333333333333,
              "#9c179e"
             ],
             [
              0.4444444444444444,
              "#bd3786"
             ],
             [
              0.5555555555555556,
              "#d8576b"
             ],
             [
              0.6666666666666666,
              "#ed7953"
             ],
             [
              0.7777777777777778,
              "#fb9f3a"
             ],
             [
              0.8888888888888888,
              "#fdca26"
             ],
             [
              1,
              "#f0f921"
             ]
            ],
            "type": "contour"
           }
          ],
          "contourcarpet": [
           {
            "colorbar": {
             "outlinewidth": 0,
             "ticks": ""
            },
            "type": "contourcarpet"
           }
          ],
          "heatmap": [
           {
            "colorbar": {
             "outlinewidth": 0,
             "ticks": ""
            },
            "colorscale": [
             [
              0,
              "#0d0887"
             ],
             [
              0.1111111111111111,
              "#46039f"
             ],
             [
              0.2222222222222222,
              "#7201a8"
             ],
             [
              0.3333333333333333,
              "#9c179e"
             ],
             [
              0.4444444444444444,
              "#bd3786"
             ],
             [
              0.5555555555555556,
              "#d8576b"
             ],
             [
              0.6666666666666666,
              "#ed7953"
             ],
             [
              0.7777777777777778,
              "#fb9f3a"
             ],
             [
              0.8888888888888888,
              "#fdca26"
             ],
             [
              1,
              "#f0f921"
             ]
            ],
            "type": "heatmap"
           }
          ],
          "heatmapgl": [
           {
            "colorbar": {
             "outlinewidth": 0,
             "ticks": ""
            },
            "colorscale": [
             [
              0,
              "#0d0887"
             ],
             [
              0.1111111111111111,
              "#46039f"
             ],
             [
              0.2222222222222222,
              "#7201a8"
             ],
             [
              0.3333333333333333,
              "#9c179e"
             ],
             [
              0.4444444444444444,
              "#bd3786"
             ],
             [
              0.5555555555555556,
              "#d8576b"
             ],
             [
              0.6666666666666666,
              "#ed7953"
             ],
             [
              0.7777777777777778,
              "#fb9f3a"
             ],
             [
              0.8888888888888888,
              "#fdca26"
             ],
             [
              1,
              "#f0f921"
             ]
            ],
            "type": "heatmapgl"
           }
          ],
          "histogram": [
           {
            "marker": {
             "pattern": {
              "fillmode": "overlay",
              "size": 10,
              "solidity": 0.2
             }
            },
            "type": "histogram"
           }
          ],
          "histogram2d": [
           {
            "colorbar": {
             "outlinewidth": 0,
             "ticks": ""
            },
            "colorscale": [
             [
              0,
              "#0d0887"
             ],
             [
              0.1111111111111111,
              "#46039f"
             ],
             [
              0.2222222222222222,
              "#7201a8"
             ],
             [
              0.3333333333333333,
              "#9c179e"
             ],
             [
              0.4444444444444444,
              "#bd3786"
             ],
             [
              0.5555555555555556,
              "#d8576b"
             ],
             [
              0.6666666666666666,
              "#ed7953"
             ],
             [
              0.7777777777777778,
              "#fb9f3a"
             ],
             [
              0.8888888888888888,
              "#fdca26"
             ],
             [
              1,
              "#f0f921"
             ]
            ],
            "type": "histogram2d"
           }
          ],
          "histogram2dcontour": [
           {
            "colorbar": {
             "outlinewidth": 0,
             "ticks": ""
            },
            "colorscale": [
             [
              0,
              "#0d0887"
             ],
             [
              0.1111111111111111,
              "#46039f"
             ],
             [
              0.2222222222222222,
              "#7201a8"
             ],
             [
              0.3333333333333333,
              "#9c179e"
             ],
             [
              0.4444444444444444,
              "#bd3786"
             ],
             [
              0.5555555555555556,
              "#d8576b"
             ],
             [
              0.6666666666666666,
              "#ed7953"
             ],
             [
              0.7777777777777778,
              "#fb9f3a"
             ],
             [
              0.8888888888888888,
              "#fdca26"
             ],
             [
              1,
              "#f0f921"
             ]
            ],
            "type": "histogram2dcontour"
           }
          ],
          "mesh3d": [
           {
            "colorbar": {
             "outlinewidth": 0,
             "ticks": ""
            },
            "type": "mesh3d"
           }
          ],
          "parcoords": [
           {
            "line": {
             "colorbar": {
              "outlinewidth": 0,
              "ticks": ""
             }
            },
            "type": "parcoords"
           }
          ],
          "pie": [
           {
            "automargin": true,
            "type": "pie"
           }
          ],
          "scatter": [
           {
            "fillpattern": {
             "fillmode": "overlay",
             "size": 10,
             "solidity": 0.2
            },
            "type": "scatter"
           }
          ],
          "scatter3d": [
           {
            "line": {
             "colorbar": {
              "outlinewidth": 0,
              "ticks": ""
             }
            },
            "marker": {
             "colorbar": {
              "outlinewidth": 0,
              "ticks": ""
             }
            },
            "type": "scatter3d"
           }
          ],
          "scattercarpet": [
           {
            "marker": {
             "colorbar": {
              "outlinewidth": 0,
              "ticks": ""
             }
            },
            "type": "scattercarpet"
           }
          ],
          "scattergeo": [
           {
            "marker": {
             "colorbar": {
              "outlinewidth": 0,
              "ticks": ""
             }
            },
            "type": "scattergeo"
           }
          ],
          "scattergl": [
           {
            "marker": {
             "colorbar": {
              "outlinewidth": 0,
              "ticks": ""
             }
            },
            "type": "scattergl"
           }
          ],
          "scattermapbox": [
           {
            "marker": {
             "colorbar": {
              "outlinewidth": 0,
              "ticks": ""
             }
            },
            "type": "scattermapbox"
           }
          ],
          "scatterpolar": [
           {
            "marker": {
             "colorbar": {
              "outlinewidth": 0,
              "ticks": ""
             }
            },
            "type": "scatterpolar"
           }
          ],
          "scatterpolargl": [
           {
            "marker": {
             "colorbar": {
              "outlinewidth": 0,
              "ticks": ""
             }
            },
            "type": "scatterpolargl"
           }
          ],
          "scatterternary": [
           {
            "marker": {
             "colorbar": {
              "outlinewidth": 0,
              "ticks": ""
             }
            },
            "type": "scatterternary"
           }
          ],
          "surface": [
           {
            "colorbar": {
             "outlinewidth": 0,
             "ticks": ""
            },
            "colorscale": [
             [
              0,
              "#0d0887"
             ],
             [
              0.1111111111111111,
              "#46039f"
             ],
             [
              0.2222222222222222,
              "#7201a8"
             ],
             [
              0.3333333333333333,
              "#9c179e"
             ],
             [
              0.4444444444444444,
              "#bd3786"
             ],
             [
              0.5555555555555556,
              "#d8576b"
             ],
             [
              0.6666666666666666,
              "#ed7953"
             ],
             [
              0.7777777777777778,
              "#fb9f3a"
             ],
             [
              0.8888888888888888,
              "#fdca26"
             ],
             [
              1,
              "#f0f921"
             ]
            ],
            "type": "surface"
           }
          ],
          "table": [
           {
            "cells": {
             "fill": {
              "color": "#EBF0F8"
             },
             "line": {
              "color": "white"
             }
            },
            "header": {
             "fill": {
              "color": "#C8D4E3"
             },
             "line": {
              "color": "white"
             }
            },
            "type": "table"
           }
          ]
         },
         "layout": {
          "annotationdefaults": {
           "arrowcolor": "#2a3f5f",
           "arrowhead": 0,
           "arrowwidth": 1
          },
          "autotypenumbers": "strict",
          "coloraxis": {
           "colorbar": {
            "outlinewidth": 0,
            "ticks": ""
           }
          },
          "colorscale": {
           "diverging": [
            [
             0,
             "#8e0152"
            ],
            [
             0.1,
             "#c51b7d"
            ],
            [
             0.2,
             "#de77ae"
            ],
            [
             0.3,
             "#f1b6da"
            ],
            [
             0.4,
             "#fde0ef"
            ],
            [
             0.5,
             "#f7f7f7"
            ],
            [
             0.6,
             "#e6f5d0"
            ],
            [
             0.7,
             "#b8e186"
            ],
            [
             0.8,
             "#7fbc41"
            ],
            [
             0.9,
             "#4d9221"
            ],
            [
             1,
             "#276419"
            ]
           ],
           "sequential": [
            [
             0,
             "#0d0887"
            ],
            [
             0.1111111111111111,
             "#46039f"
            ],
            [
             0.2222222222222222,
             "#7201a8"
            ],
            [
             0.3333333333333333,
             "#9c179e"
            ],
            [
             0.4444444444444444,
             "#bd3786"
            ],
            [
             0.5555555555555556,
             "#d8576b"
            ],
            [
             0.6666666666666666,
             "#ed7953"
            ],
            [
             0.7777777777777778,
             "#fb9f3a"
            ],
            [
             0.8888888888888888,
             "#fdca26"
            ],
            [
             1,
             "#f0f921"
            ]
           ],
           "sequentialminus": [
            [
             0,
             "#0d0887"
            ],
            [
             0.1111111111111111,
             "#46039f"
            ],
            [
             0.2222222222222222,
             "#7201a8"
            ],
            [
             0.3333333333333333,
             "#9c179e"
            ],
            [
             0.4444444444444444,
             "#bd3786"
            ],
            [
             0.5555555555555556,
             "#d8576b"
            ],
            [
             0.6666666666666666,
             "#ed7953"
            ],
            [
             0.7777777777777778,
             "#fb9f3a"
            ],
            [
             0.8888888888888888,
             "#fdca26"
            ],
            [
             1,
             "#f0f921"
            ]
           ]
          },
          "colorway": [
           "#636efa",
           "#EF553B",
           "#00cc96",
           "#ab63fa",
           "#FFA15A",
           "#19d3f3",
           "#FF6692",
           "#B6E880",
           "#FF97FF",
           "#FECB52"
          ],
          "font": {
           "color": "#2a3f5f"
          },
          "geo": {
           "bgcolor": "white",
           "lakecolor": "white",
           "landcolor": "#E5ECF6",
           "showlakes": true,
           "showland": true,
           "subunitcolor": "white"
          },
          "hoverlabel": {
           "align": "left"
          },
          "hovermode": "closest",
          "mapbox": {
           "style": "light"
          },
          "paper_bgcolor": "white",
          "plot_bgcolor": "#E5ECF6",
          "polar": {
           "angularaxis": {
            "gridcolor": "white",
            "linecolor": "white",
            "ticks": ""
           },
           "bgcolor": "#E5ECF6",
           "radialaxis": {
            "gridcolor": "white",
            "linecolor": "white",
            "ticks": ""
           }
          },
          "scene": {
           "xaxis": {
            "backgroundcolor": "#E5ECF6",
            "gridcolor": "white",
            "gridwidth": 2,
            "linecolor": "white",
            "showbackground": true,
            "ticks": "",
            "zerolinecolor": "white"
           },
           "yaxis": {
            "backgroundcolor": "#E5ECF6",
            "gridcolor": "white",
            "gridwidth": 2,
            "linecolor": "white",
            "showbackground": true,
            "ticks": "",
            "zerolinecolor": "white"
           },
           "zaxis": {
            "backgroundcolor": "#E5ECF6",
            "gridcolor": "white",
            "gridwidth": 2,
            "linecolor": "white",
            "showbackground": true,
            "ticks": "",
            "zerolinecolor": "white"
           }
          },
          "shapedefaults": {
           "line": {
            "color": "#2a3f5f"
           }
          },
          "ternary": {
           "aaxis": {
            "gridcolor": "white",
            "linecolor": "white",
            "ticks": ""
           },
           "baxis": {
            "gridcolor": "white",
            "linecolor": "white",
            "ticks": ""
           },
           "bgcolor": "#E5ECF6",
           "caxis": {
            "gridcolor": "white",
            "linecolor": "white",
            "ticks": ""
           }
          },
          "title": {
           "x": 0.05
          },
          "xaxis": {
           "automargin": true,
           "gridcolor": "white",
           "linecolor": "white",
           "ticks": "",
           "title": {
            "standoff": 15
           },
           "zerolinecolor": "white",
           "zerolinewidth": 2
          },
          "yaxis": {
           "automargin": true,
           "gridcolor": "white",
           "linecolor": "white",
           "ticks": "",
           "title": {
            "standoff": 15
           },
           "zerolinecolor": "white",
           "zerolinewidth": 2
          }
         }
        },
        "xaxis": {
         "anchor": "y",
         "domain": [
          0,
          1
         ],
         "title": {
          "text": "PC0"
         }
        },
        "xaxis2": {
         "anchor": "y2",
         "domain": [
          0,
          1
         ],
         "matches": "x",
         "showgrid": true,
         "showticklabels": false
        },
        "yaxis": {
         "anchor": "x",
         "domain": [
          0,
          0.7326
         ],
         "title": {
          "text": "PC1"
         }
        },
        "yaxis2": {
         "anchor": "x2",
         "domain": [
          0.7426,
          1
         ],
         "matches": "y2",
         "showgrid": false,
         "showline": false,
         "showticklabels": false,
         "ticks": ""
        }
       }
      }
     },
     "metadata": {},
     "output_type": "display_data"
    }
   ],
   "source": [
    "import pandas as pd\n",
    "import numpy as np\n",
    "from scipy.linalg import norm\n",
    "import plotly_express as px\n",
    "import seaborn as sns\n",
    "from sklearn.decomposition import PCA\n",
    "sns.set(style='ticks')\n",
    "OHCO = ['book_id', 'chap_id']\n",
    "# Added after class\n",
    "norm_docs = True # This has the effect of exaggerating variance when False\n",
    "center_term_vectors = True # This has the effect of demoting authorship when False\n",
    "colors = \"YlGnBu\" \n",
    "# colors = \"Spectral\"\n",
    "\n",
    "\n",
    "\n",
    "\n",
    "pca_engine = PCA(n_components=10)\n",
    "DCM = pd.DataFrame(pca_engine.fit_transform(L2.fillna(0)), index=L2.index)\n",
    "DCM.columns = ['PC{}'.format(i) for i in DCM.columns]\n",
    "DCM = DCM.join(LIB[['author','title']], on='book_id') #the lavel i will use is work_type\n",
    "def vis_pcs(M, a, b, label='author', hover_name='author', symbol=None, size=None):\n",
    "    return px.scatter(M, f\"PC{a}\", f\"PC{b}\", color=label, hover_name=hover_name, \n",
    "                     symbol=symbol, size=size,\n",
    "                     marginal_x='box', height=800)\n",
    "\n",
    "def vis_loadings(a=0, b=1, hover_name='term_str'):\n",
    "    return px.scatter(LOADINGS.reset_index(), f\"PC{a}\", f\"PC{b}\", \n",
    "                      text='term_str', hover_name='term_str',\n",
    "                      size='dfidf', color='max_pos_group', \n",
    "                      marginal_x='box', height=800)\n",
    "LOADINGS = pd.DataFrame(pca_engine.components_.T * np.sqrt(pca_engine.explained_variance_))\n",
    "LOADINGS.columns = [\"PC{}\".format(i) for i in LOADINGS.columns]\n",
    "LOADINGS.index = L2.columns\n",
    "LOADINGS.index.name = 'term_str'\n",
    "LOADINGS = LOADINGS.join(VOCAB)\n",
    "vis_pcs(DCM, 0, 1, label='title', hover_name= 'title')"
   ]
  },
  {
   "cell_type": "code",
   "execution_count": 18,
   "id": "a994f7be",
   "metadata": {},
   "outputs": [
    {
     "data": {
      "application/vnd.plotly.v1+json": {
       "config": {
        "plotlyServerURL": "https://plot.ly"
       },
       "data": [
        {
         "hovertemplate": "<b>%{hovertext}</b><br><br>title=METAMORPHOSIS<br>PC2=%{x}<br>PC3=%{y}<extra></extra>",
         "hovertext": [
          "METAMORPHOSIS",
          "METAMORPHOSIS",
          "METAMORPHOSIS"
         ],
         "legendgroup": "METAMORPHOSIS",
         "marker": {
          "color": "#636efa",
          "symbol": "circle"
         },
         "mode": "markers",
         "name": "METAMORPHOSIS",
         "orientation": "v",
         "showlegend": true,
         "type": "scatter",
         "x": [
          0.09922828531555204,
          0.13118115999812743,
          0.10642680963678734
         ],
         "xaxis": "x",
         "y": [
          0.6771081125499883,
          0.7339105264928975,
          0.6864331078505892
         ],
         "yaxis": "y"
        },
        {
         "alignmentgroup": "True",
         "hovertemplate": "<b>%{hovertext}</b><br><br>title=METAMORPHOSIS<br>PC2=%{x}<extra></extra>",
         "hovertext": [
          "METAMORPHOSIS",
          "METAMORPHOSIS",
          "METAMORPHOSIS"
         ],
         "legendgroup": "METAMORPHOSIS",
         "marker": {
          "color": "#636efa",
          "symbol": "circle"
         },
         "name": "METAMORPHOSIS",
         "notched": true,
         "offsetgroup": "METAMORPHOSIS",
         "showlegend": false,
         "type": "box",
         "x": [
          0.09922828531555204,
          0.13118115999812743,
          0.10642680963678734
         ],
         "xaxis": "x2",
         "yaxis": "y2"
        },
        {
         "hovertemplate": "<b>%{hovertext}</b><br><br>title=BLUMFELD<br>PC2=%{x}<br>PC3=%{y}<extra></extra>",
         "hovertext": [
          "BLUMFELD"
         ],
         "legendgroup": "BLUMFELD",
         "marker": {
          "color": "#EF553B",
          "symbol": "circle"
         },
         "mode": "markers",
         "name": "BLUMFELD",
         "orientation": "v",
         "showlegend": true,
         "type": "scatter",
         "x": [
          -0.02179883436729191
         ],
         "xaxis": "x",
         "y": [
          -0.10105962557073234
         ],
         "yaxis": "y"
        },
        {
         "alignmentgroup": "True",
         "hovertemplate": "<b>%{hovertext}</b><br><br>title=BLUMFELD<br>PC2=%{x}<extra></extra>",
         "hovertext": [
          "BLUMFELD"
         ],
         "legendgroup": "BLUMFELD",
         "marker": {
          "color": "#EF553B",
          "symbol": "circle"
         },
         "name": "BLUMFELD",
         "notched": true,
         "offsetgroup": "BLUMFELD",
         "showlegend": false,
         "type": "box",
         "x": [
          -0.02179883436729191
         ],
         "xaxis": "x2",
         "yaxis": "y2"
        },
        {
         "hovertemplate": "<b>%{hovertext}</b><br><br>title=THE BURROW<br>PC2=%{x}<br>PC3=%{y}<extra></extra>",
         "hovertext": [
          "THE BURROW"
         ],
         "legendgroup": "THE BURROW",
         "marker": {
          "color": "#00cc96",
          "symbol": "circle"
         },
         "mode": "markers",
         "name": "THE BURROW",
         "orientation": "v",
         "showlegend": true,
         "type": "scatter",
         "x": [
          0.06559529405908282
         ],
         "xaxis": "x",
         "y": [
          -0.1040054795330093
         ],
         "yaxis": "y"
        },
        {
         "alignmentgroup": "True",
         "hovertemplate": "<b>%{hovertext}</b><br><br>title=THE BURROW<br>PC2=%{x}<extra></extra>",
         "hovertext": [
          "THE BURROW"
         ],
         "legendgroup": "THE BURROW",
         "marker": {
          "color": "#00cc96",
          "symbol": "circle"
         },
         "name": "THE BURROW",
         "notched": true,
         "offsetgroup": "THE BURROW",
         "showlegend": false,
         "type": "box",
         "x": [
          0.06559529405908282
         ],
         "xaxis": "x2",
         "yaxis": "y2"
        },
        {
         "hovertemplate": "<b>%{hovertext}</b><br><br>title=JOSEPHINE THE SONGSTRESS<br>PC2=%{x}<br>PC3=%{y}<extra></extra>",
         "hovertext": [
          "JOSEPHINE THE SONGSTRESS",
          "JOSEPHINE THE SONGSTRESS"
         ],
         "legendgroup": "JOSEPHINE THE SONGSTRESS",
         "marker": {
          "color": "#ab63fa",
          "symbol": "circle"
         },
         "mode": "markers",
         "name": "JOSEPHINE THE SONGSTRESS",
         "orientation": "v",
         "showlegend": true,
         "type": "scatter",
         "x": [
          -0.00869793406980034,
          -0.01788234413215557
         ],
         "xaxis": "x",
         "y": [
          -0.20724795572830368,
          -0.24511951218307945
         ],
         "yaxis": "y"
        },
        {
         "alignmentgroup": "True",
         "hovertemplate": "<b>%{hovertext}</b><br><br>title=JOSEPHINE THE SONGSTRESS<br>PC2=%{x}<extra></extra>",
         "hovertext": [
          "JOSEPHINE THE SONGSTRESS",
          "JOSEPHINE THE SONGSTRESS"
         ],
         "legendgroup": "JOSEPHINE THE SONGSTRESS",
         "marker": {
          "color": "#ab63fa",
          "symbol": "circle"
         },
         "name": "JOSEPHINE THE SONGSTRESS",
         "notched": true,
         "offsetgroup": "JOSEPHINE THE SONGSTRESS",
         "showlegend": false,
         "type": "box",
         "x": [
          -0.00869793406980034,
          -0.01788234413215557
         ],
         "xaxis": "x2",
         "yaxis": "y2"
        },
        {
         "hovertemplate": "<b>%{hovertext}</b><br><br>title=BEFORE THE LAW<br>PC2=%{x}<br>PC3=%{y}<extra></extra>",
         "hovertext": [
          "BEFORE THE LAW"
         ],
         "legendgroup": "BEFORE THE LAW",
         "marker": {
          "color": "#FFA15A",
          "symbol": "circle"
         },
         "mode": "markers",
         "name": "BEFORE THE LAW",
         "orientation": "v",
         "showlegend": true,
         "type": "scatter",
         "x": [
          -0.027334814573838725
         ],
         "xaxis": "x",
         "y": [
          -0.16469416116734167
         ],
         "yaxis": "y"
        },
        {
         "alignmentgroup": "True",
         "hovertemplate": "<b>%{hovertext}</b><br><br>title=BEFORE THE LAW<br>PC2=%{x}<extra></extra>",
         "hovertext": [
          "BEFORE THE LAW"
         ],
         "legendgroup": "BEFORE THE LAW",
         "marker": {
          "color": "#FFA15A",
          "symbol": "circle"
         },
         "name": "BEFORE THE LAW",
         "notched": true,
         "offsetgroup": "BEFORE THE LAW",
         "showlegend": false,
         "type": "box",
         "x": [
          -0.027334814573838725
         ],
         "xaxis": "x2",
         "yaxis": "y2"
        },
        {
         "hovertemplate": "<b>%{hovertext}</b><br><br>title=UP IN THE GALLERY<br>PC2=%{x}<br>PC3=%{y}<extra></extra>",
         "hovertext": [
          "UP IN THE GALLERY"
         ],
         "legendgroup": "UP IN THE GALLERY",
         "marker": {
          "color": "#19d3f3",
          "symbol": "circle"
         },
         "mode": "markers",
         "name": "UP IN THE GALLERY",
         "orientation": "v",
         "showlegend": true,
         "type": "scatter",
         "x": [
          -0.0679318658558283
         ],
         "xaxis": "x",
         "y": [
          -0.21184724677946107
         ],
         "yaxis": "y"
        },
        {
         "alignmentgroup": "True",
         "hovertemplate": "<b>%{hovertext}</b><br><br>title=UP IN THE GALLERY<br>PC2=%{x}<extra></extra>",
         "hovertext": [
          "UP IN THE GALLERY"
         ],
         "legendgroup": "UP IN THE GALLERY",
         "marker": {
          "color": "#19d3f3",
          "symbol": "circle"
         },
         "name": "UP IN THE GALLERY",
         "notched": true,
         "offsetgroup": "UP IN THE GALLERY",
         "showlegend": false,
         "type": "box",
         "x": [
          -0.0679318658558283
         ],
         "xaxis": "x2",
         "yaxis": "y2"
        },
        {
         "hovertemplate": "<b>%{hovertext}</b><br><br>title=THE HUNTER GRACCHUS<br>PC2=%{x}<br>PC3=%{y}<extra></extra>",
         "hovertext": [
          "THE HUNTER GRACCHUS"
         ],
         "legendgroup": "THE HUNTER GRACCHUS",
         "marker": {
          "color": "#FF6692",
          "symbol": "circle"
         },
         "mode": "markers",
         "name": "THE HUNTER GRACCHUS",
         "orientation": "v",
         "showlegend": true,
         "type": "scatter",
         "x": [
          -0.09474727732383897
         ],
         "xaxis": "x",
         "y": [
          -0.06320993639144781
         ],
         "yaxis": "y"
        },
        {
         "alignmentgroup": "True",
         "hovertemplate": "<b>%{hovertext}</b><br><br>title=THE HUNTER GRACCHUS<br>PC2=%{x}<extra></extra>",
         "hovertext": [
          "THE HUNTER GRACCHUS"
         ],
         "legendgroup": "THE HUNTER GRACCHUS",
         "marker": {
          "color": "#FF6692",
          "symbol": "circle"
         },
         "name": "THE HUNTER GRACCHUS",
         "notched": true,
         "offsetgroup": "THE HUNTER GRACCHUS",
         "showlegend": false,
         "type": "box",
         "x": [
          -0.09474727732383897
         ],
         "xaxis": "x2",
         "yaxis": "y2"
        },
        {
         "hovertemplate": "<b>%{hovertext}</b><br><br>title=THE GREAT WALL OF CHINA<br>PC2=%{x}<br>PC3=%{y}<extra></extra>",
         "hovertext": [
          "THE GREAT WALL OF CHINA"
         ],
         "legendgroup": "THE GREAT WALL OF CHINA",
         "marker": {
          "color": "#B6E880",
          "symbol": "circle"
         },
         "mode": "markers",
         "name": "THE GREAT WALL OF CHINA",
         "orientation": "v",
         "showlegend": true,
         "type": "scatter",
         "x": [
          0.019043268861995578
         ],
         "xaxis": "x",
         "y": [
          -0.13310996065926112
         ],
         "yaxis": "y"
        },
        {
         "alignmentgroup": "True",
         "hovertemplate": "<b>%{hovertext}</b><br><br>title=THE GREAT WALL OF CHINA<br>PC2=%{x}<extra></extra>",
         "hovertext": [
          "THE GREAT WALL OF CHINA"
         ],
         "legendgroup": "THE GREAT WALL OF CHINA",
         "marker": {
          "color": "#B6E880",
          "symbol": "circle"
         },
         "name": "THE GREAT WALL OF CHINA",
         "notched": true,
         "offsetgroup": "THE GREAT WALL OF CHINA",
         "showlegend": false,
         "type": "box",
         "x": [
          0.019043268861995578
         ],
         "xaxis": "x2",
         "yaxis": "y2"
        },
        {
         "hovertemplate": "<b>%{hovertext}</b><br><br>title=A REPORT FOR AN ACADEMY<br>PC2=%{x}<br>PC3=%{y}<extra></extra>",
         "hovertext": [
          "A REPORT FOR AN ACADEMY"
         ],
         "legendgroup": "A REPORT FOR AN ACADEMY",
         "marker": {
          "color": "#FF97FF",
          "symbol": "circle"
         },
         "mode": "markers",
         "name": "A REPORT FOR AN ACADEMY",
         "orientation": "v",
         "showlegend": true,
         "type": "scatter",
         "x": [
          -0.01737045315833759
         ],
         "xaxis": "x",
         "y": [
          -0.07780676833064519
         ],
         "yaxis": "y"
        },
        {
         "alignmentgroup": "True",
         "hovertemplate": "<b>%{hovertext}</b><br><br>title=A REPORT FOR AN ACADEMY<br>PC2=%{x}<extra></extra>",
         "hovertext": [
          "A REPORT FOR AN ACADEMY"
         ],
         "legendgroup": "A REPORT FOR AN ACADEMY",
         "marker": {
          "color": "#FF97FF",
          "symbol": "circle"
         },
         "name": "A REPORT FOR AN ACADEMY",
         "notched": true,
         "offsetgroup": "A REPORT FOR AN ACADEMY",
         "showlegend": false,
         "type": "box",
         "x": [
          -0.01737045315833759
         ],
         "xaxis": "x2",
         "yaxis": "y2"
        },
        {
         "hovertemplate": "<b>%{hovertext}</b><br><br>title=DEAREST FATHER<br>PC2=%{x}<br>PC3=%{y}<extra></extra>",
         "hovertext": [
          "DEAREST FATHER"
         ],
         "legendgroup": "DEAREST FATHER",
         "marker": {
          "color": "#FECB52",
          "symbol": "circle"
         },
         "mode": "markers",
         "name": "DEAREST FATHER",
         "orientation": "v",
         "showlegend": true,
         "type": "scatter",
         "x": [
          0.058966882206797314
         ],
         "xaxis": "x",
         "y": [
          0.04295599249107511
         ],
         "yaxis": "y"
        },
        {
         "alignmentgroup": "True",
         "hovertemplate": "<b>%{hovertext}</b><br><br>title=DEAREST FATHER<br>PC2=%{x}<extra></extra>",
         "hovertext": [
          "DEAREST FATHER"
         ],
         "legendgroup": "DEAREST FATHER",
         "marker": {
          "color": "#FECB52",
          "symbol": "circle"
         },
         "name": "DEAREST FATHER",
         "notched": true,
         "offsetgroup": "DEAREST FATHER",
         "showlegend": false,
         "type": "box",
         "x": [
          0.058966882206797314
         ],
         "xaxis": "x2",
         "yaxis": "y2"
        },
        {
         "hovertemplate": "<b>%{hovertext}</b><br><br>title=THE JUDGEMENT<br>PC2=%{x}<br>PC3=%{y}<extra></extra>",
         "hovertext": [
          "THE JUDGEMENT"
         ],
         "legendgroup": "THE JUDGEMENT",
         "marker": {
          "color": "#636efa",
          "symbol": "circle"
         },
         "mode": "markers",
         "name": "THE JUDGEMENT",
         "orientation": "v",
         "showlegend": true,
         "type": "scatter",
         "x": [
          0.09442138636637734
         ],
         "xaxis": "x",
         "y": [
          0.064345062453842
         ],
         "yaxis": "y"
        },
        {
         "alignmentgroup": "True",
         "hovertemplate": "<b>%{hovertext}</b><br><br>title=THE JUDGEMENT<br>PC2=%{x}<extra></extra>",
         "hovertext": [
          "THE JUDGEMENT"
         ],
         "legendgroup": "THE JUDGEMENT",
         "marker": {
          "color": "#636efa",
          "symbol": "circle"
         },
         "name": "THE JUDGEMENT",
         "notched": true,
         "offsetgroup": "THE JUDGEMENT",
         "showlegend": false,
         "type": "box",
         "x": [
          0.09442138636637734
         ],
         "xaxis": "x2",
         "yaxis": "y2"
        },
        {
         "hovertemplate": "<b>%{hovertext}</b><br><br>title=AMERIKA<br>PC2=%{x}<br>PC3=%{y}<extra></extra>",
         "hovertext": [
          "AMERIKA",
          "AMERIKA",
          "AMERIKA",
          "AMERIKA",
          "AMERIKA",
          "AMERIKA"
         ],
         "legendgroup": "AMERIKA",
         "marker": {
          "color": "#EF553B",
          "symbol": "circle"
         },
         "mode": "markers",
         "name": "AMERIKA",
         "orientation": "v",
         "showlegend": true,
         "type": "scatter",
         "x": [
          0.0506609923974883,
          0.045343574479585,
          0.04240778744393776,
          0.08314309182560678,
          0.0724569900094208,
          0.053874122317018575
         ],
         "xaxis": "x",
         "y": [
          0.01143935540124407,
          0.00579610422392491,
          0.022917005851194744,
          0.014879482323964341,
          0.031075308328162417,
          0.022196464931162965
         ],
         "yaxis": "y"
        },
        {
         "alignmentgroup": "True",
         "hovertemplate": "<b>%{hovertext}</b><br><br>title=AMERIKA<br>PC2=%{x}<extra></extra>",
         "hovertext": [
          "AMERIKA",
          "AMERIKA",
          "AMERIKA",
          "AMERIKA",
          "AMERIKA",
          "AMERIKA"
         ],
         "legendgroup": "AMERIKA",
         "marker": {
          "color": "#EF553B",
          "symbol": "circle"
         },
         "name": "AMERIKA",
         "notched": true,
         "offsetgroup": "AMERIKA",
         "showlegend": false,
         "type": "box",
         "x": [
          0.0506609923974883,
          0.045343574479585,
          0.04240778744393776,
          0.08314309182560678,
          0.0724569900094208,
          0.053874122317018575
         ],
         "xaxis": "x2",
         "yaxis": "y2"
        },
        {
         "hovertemplate": "<b>%{hovertext}</b><br><br>title=IN THE PENAL COLONY<br>PC2=%{x}<br>PC3=%{y}<extra></extra>",
         "hovertext": [
          "IN THE PENAL COLONY"
         ],
         "legendgroup": "IN THE PENAL COLONY",
         "marker": {
          "color": "#00cc96",
          "symbol": "circle"
         },
         "mode": "markers",
         "name": "IN THE PENAL COLONY",
         "orientation": "v",
         "showlegend": true,
         "type": "scatter",
         "x": [
          -0.03428675658280253
         ],
         "xaxis": "x",
         "y": [
          -0.09223614583606937
         ],
         "yaxis": "y"
        },
        {
         "alignmentgroup": "True",
         "hovertemplate": "<b>%{hovertext}</b><br><br>title=IN THE PENAL COLONY<br>PC2=%{x}<extra></extra>",
         "hovertext": [
          "IN THE PENAL COLONY"
         ],
         "legendgroup": "IN THE PENAL COLONY",
         "marker": {
          "color": "#00cc96",
          "symbol": "circle"
         },
         "name": "IN THE PENAL COLONY",
         "notched": true,
         "offsetgroup": "IN THE PENAL COLONY",
         "showlegend": false,
         "type": "box",
         "x": [
          -0.03428675658280253
         ],
         "xaxis": "x2",
         "yaxis": "y2"
        },
        {
         "hovertemplate": "<b>%{hovertext}</b><br><br>title=THE HUNGER ARTIST<br>PC2=%{x}<br>PC3=%{y}<extra></extra>",
         "hovertext": [
          "THE HUNGER ARTIST"
         ],
         "legendgroup": "THE HUNGER ARTIST",
         "marker": {
          "color": "#ab63fa",
          "symbol": "circle"
         },
         "mode": "markers",
         "name": "THE HUNGER ARTIST",
         "orientation": "v",
         "showlegend": true,
         "type": "scatter",
         "x": [
          -0.021452521636995587
         ],
         "xaxis": "x",
         "y": [
          -0.1340183019481185
         ],
         "yaxis": "y"
        },
        {
         "alignmentgroup": "True",
         "hovertemplate": "<b>%{hovertext}</b><br><br>title=THE HUNGER ARTIST<br>PC2=%{x}<extra></extra>",
         "hovertext": [
          "THE HUNGER ARTIST"
         ],
         "legendgroup": "THE HUNGER ARTIST",
         "marker": {
          "color": "#ab63fa",
          "symbol": "circle"
         },
         "name": "THE HUNGER ARTIST",
         "notched": true,
         "offsetgroup": "THE HUNGER ARTIST",
         "showlegend": false,
         "type": "box",
         "x": [
          -0.021452521636995587
         ],
         "xaxis": "x2",
         "yaxis": "y2"
        },
        {
         "hovertemplate": "<b>%{hovertext}</b><br><br>title=THE JACKALS AND ARABS<br>PC2=%{x}<br>PC3=%{y}<extra></extra>",
         "hovertext": [
          "THE JACKALS AND ARABS"
         ],
         "legendgroup": "THE JACKALS AND ARABS",
         "marker": {
          "color": "#FFA15A",
          "symbol": "circle"
         },
         "mode": "markers",
         "name": "THE JACKALS AND ARABS",
         "orientation": "v",
         "showlegend": true,
         "type": "scatter",
         "x": [
          -0.08279955188081504
         ],
         "xaxis": "x",
         "y": [
          -0.023600056531950808
         ],
         "yaxis": "y"
        },
        {
         "alignmentgroup": "True",
         "hovertemplate": "<b>%{hovertext}</b><br><br>title=THE JACKALS AND ARABS<br>PC2=%{x}<extra></extra>",
         "hovertext": [
          "THE JACKALS AND ARABS"
         ],
         "legendgroup": "THE JACKALS AND ARABS",
         "marker": {
          "color": "#FFA15A",
          "symbol": "circle"
         },
         "name": "THE JACKALS AND ARABS",
         "notched": true,
         "offsetgroup": "THE JACKALS AND ARABS",
         "showlegend": false,
         "type": "box",
         "x": [
          -0.08279955188081504
         ],
         "xaxis": "x2",
         "yaxis": "y2"
        },
        {
         "hovertemplate": "<b>%{hovertext}</b><br><br>title=A COUNTRY DOCTOR<br>PC2=%{x}<br>PC3=%{y}<extra></extra>",
         "hovertext": [
          "A COUNTRY DOCTOR"
         ],
         "legendgroup": "A COUNTRY DOCTOR",
         "marker": {
          "color": "#19d3f3",
          "symbol": "circle"
         },
         "mode": "markers",
         "name": "A COUNTRY DOCTOR",
         "orientation": "v",
         "showlegend": true,
         "type": "scatter",
         "x": [
          -0.04203566996007384
         ],
         "xaxis": "x",
         "y": [
          -0.04940135743817702
         ],
         "yaxis": "y"
        },
        {
         "alignmentgroup": "True",
         "hovertemplate": "<b>%{hovertext}</b><br><br>title=A COUNTRY DOCTOR<br>PC2=%{x}<extra></extra>",
         "hovertext": [
          "A COUNTRY DOCTOR"
         ],
         "legendgroup": "A COUNTRY DOCTOR",
         "marker": {
          "color": "#19d3f3",
          "symbol": "circle"
         },
         "name": "A COUNTRY DOCTOR",
         "notched": true,
         "offsetgroup": "A COUNTRY DOCTOR",
         "showlegend": false,
         "type": "box",
         "x": [
          -0.04203566996007384
         ],
         "xaxis": "x2",
         "yaxis": "y2"
        },
        {
         "hovertemplate": "<b>%{hovertext}</b><br><br>title=AN IMPERIAL MESSAGE<br>PC2=%{x}<br>PC3=%{y}<extra></extra>",
         "hovertext": [
          "AN IMPERIAL MESSAGE"
         ],
         "legendgroup": "AN IMPERIAL MESSAGE",
         "marker": {
          "color": "#FF6692",
          "symbol": "circle"
         },
         "mode": "markers",
         "name": "AN IMPERIAL MESSAGE",
         "orientation": "v",
         "showlegend": true,
         "type": "scatter",
         "x": [
          0.0504744192202449
         ],
         "xaxis": "x",
         "y": [
          -0.17621568525056241
         ],
         "yaxis": "y"
        },
        {
         "alignmentgroup": "True",
         "hovertemplate": "<b>%{hovertext}</b><br><br>title=AN IMPERIAL MESSAGE<br>PC2=%{x}<extra></extra>",
         "hovertext": [
          "AN IMPERIAL MESSAGE"
         ],
         "legendgroup": "AN IMPERIAL MESSAGE",
         "marker": {
          "color": "#FF6692",
          "symbol": "circle"
         },
         "name": "AN IMPERIAL MESSAGE",
         "notched": true,
         "offsetgroup": "AN IMPERIAL MESSAGE",
         "showlegend": false,
         "type": "box",
         "x": [
          0.0504744192202449
         ],
         "xaxis": "x2",
         "yaxis": "y2"
        },
        {
         "hovertemplate": "<b>%{hovertext}</b><br><br>title=THE CASTLE<br>PC2=%{x}<br>PC3=%{y}<extra></extra>",
         "hovertext": [
          "THE CASTLE",
          "THE CASTLE",
          "THE CASTLE",
          "THE CASTLE",
          "THE CASTLE",
          "THE CASTLE",
          "THE CASTLE",
          "THE CASTLE",
          "THE CASTLE",
          "THE CASTLE",
          "THE CASTLE",
          "THE CASTLE",
          "THE CASTLE",
          "THE CASTLE",
          "THE CASTLE",
          "THE CASTLE",
          "THE CASTLE",
          "THE CASTLE",
          "THE CASTLE",
          "THE CASTLE",
          "THE CASTLE",
          "THE CASTLE",
          "THE CASTLE",
          "THE CASTLE",
          "THE CASTLE"
         ],
         "legendgroup": "THE CASTLE",
         "marker": {
          "color": "#B6E880",
          "symbol": "circle"
         },
         "mode": "markers",
         "name": "THE CASTLE",
         "orientation": "v",
         "showlegend": true,
         "type": "scatter",
         "x": [
          0.031782694048158824,
          0.3403883839129418,
          -0.21222503570679815,
          -0.248186696980232,
          0.059255246543870876,
          -0.18788216744077263,
          -0.2043461601246011,
          -0.16249812214486503,
          -0.1633205311066941,
          0.32509117079225436,
          -0.15841867020014552,
          -0.2544215036222952,
          0.02828656689158032,
          -0.18837160664151992,
          0.38157064651456835,
          0.4752065648409068,
          0.43332566881314616,
          0.480324519604793,
          0.47050084383878527,
          0.4778261580936753,
          0.031009580633355065,
          -0.16384604325258229,
          0.013903714003152176,
          -0.02679778370195411,
          -0.17892170845544583
         ],
         "xaxis": "x",
         "y": [
          0.020826883515740184,
          -0.023761033549171716,
          0.045405573125359346,
          0.010400884163904927,
          -0.04572933260854656,
          0.03229607155907978,
          0.029880189129317617,
          0.032245074567915095,
          -0.03532195355192057,
          -0.10308032344755111,
          0.025269248139011855,
          0.020606087116799347,
          0.09377975983197127,
          0.023847583304393884,
          -0.05219671149536612,
          -0.13367389931826665,
          -0.05354704896373975,
          0.013817461572325598,
          0.025084310544948356,
          -0.06541419010257055,
          -0.008363033264109504,
          0.03999189397359448,
          -0.028705254163366407,
          -0.002776841867403596,
          -0.01523707217055747
         ],
         "yaxis": "y"
        },
        {
         "alignmentgroup": "True",
         "hovertemplate": "<b>%{hovertext}</b><br><br>title=THE CASTLE<br>PC2=%{x}<extra></extra>",
         "hovertext": [
          "THE CASTLE",
          "THE CASTLE",
          "THE CASTLE",
          "THE CASTLE",
          "THE CASTLE",
          "THE CASTLE",
          "THE CASTLE",
          "THE CASTLE",
          "THE CASTLE",
          "THE CASTLE",
          "THE CASTLE",
          "THE CASTLE",
          "THE CASTLE",
          "THE CASTLE",
          "THE CASTLE",
          "THE CASTLE",
          "THE CASTLE",
          "THE CASTLE",
          "THE CASTLE",
          "THE CASTLE",
          "THE CASTLE",
          "THE CASTLE",
          "THE CASTLE",
          "THE CASTLE",
          "THE CASTLE"
         ],
         "legendgroup": "THE CASTLE",
         "marker": {
          "color": "#B6E880",
          "symbol": "circle"
         },
         "name": "THE CASTLE",
         "notched": true,
         "offsetgroup": "THE CASTLE",
         "showlegend": false,
         "type": "box",
         "x": [
          0.031782694048158824,
          0.3403883839129418,
          -0.21222503570679815,
          -0.248186696980232,
          0.059255246543870876,
          -0.18788216744077263,
          -0.2043461601246011,
          -0.16249812214486503,
          -0.1633205311066941,
          0.32509117079225436,
          -0.15841867020014552,
          -0.2544215036222952,
          0.02828656689158032,
          -0.18837160664151992,
          0.38157064651456835,
          0.4752065648409068,
          0.43332566881314616,
          0.480324519604793,
          0.47050084383878527,
          0.4778261580936753,
          0.031009580633355065,
          -0.16384604325258229,
          0.013903714003152176,
          -0.02679778370195411,
          -0.17892170845544583
         ],
         "xaxis": "x2",
         "yaxis": "y2"
        },
        {
         "hovertemplate": "<b>%{hovertext}</b><br><br>title=THE TRIAL<br>PC2=%{x}<br>PC3=%{y}<extra></extra>",
         "hovertext": [
          "THE TRIAL",
          "THE TRIAL",
          "THE TRIAL",
          "THE TRIAL",
          "THE TRIAL",
          "THE TRIAL",
          "THE TRIAL",
          "THE TRIAL",
          "THE TRIAL",
          "THE TRIAL"
         ],
         "legendgroup": "THE TRIAL",
         "marker": {
          "color": "#FF97FF",
          "symbol": "circle"
         },
         "mode": "markers",
         "name": "THE TRIAL",
         "orientation": "v",
         "showlegend": true,
         "type": "scatter",
         "x": [
          -0.20074520098319007,
          -0.13990251909585558,
          -0.15447078140526097,
          -0.15690593432211594,
          -0.10434019026962235,
          -0.14664227378055358,
          -0.1277589927264685,
          -0.14083916365388308,
          -0.08900386210877627,
          -0.12965418174893958
         ],
         "xaxis": "x",
         "y": [
          0.16080764849933865,
          0.12796957479481,
          0.09806862517442116,
          0.0584082781232147,
          0.04496645504758114,
          0.10560060833525496,
          0.08435229007964375,
          0.0651487093123367,
          -0.003976732946983156,
          0.08149808902005738
         ],
         "yaxis": "y"
        },
        {
         "alignmentgroup": "True",
         "hovertemplate": "<b>%{hovertext}</b><br><br>title=THE TRIAL<br>PC2=%{x}<extra></extra>",
         "hovertext": [
          "THE TRIAL",
          "THE TRIAL",
          "THE TRIAL",
          "THE TRIAL",
          "THE TRIAL",
          "THE TRIAL",
          "THE TRIAL",
          "THE TRIAL",
          "THE TRIAL",
          "THE TRIAL"
         ],
         "legendgroup": "THE TRIAL",
         "marker": {
          "color": "#FF97FF",
          "symbol": "circle"
         },
         "name": "THE TRIAL",
         "notched": true,
         "offsetgroup": "THE TRIAL",
         "showlegend": false,
         "type": "box",
         "x": [
          -0.20074520098319007,
          -0.13990251909585558,
          -0.15447078140526097,
          -0.15690593432211594,
          -0.10434019026962235,
          -0.14664227378055358,
          -0.1277589927264685,
          -0.14083916365388308,
          -0.08900386210877627,
          -0.12965418174893958
         ],
         "xaxis": "x2",
         "yaxis": "y2"
        },
        {
         "hovertemplate": "<b>%{hovertext}</b><br><br>title=MEDITATION<br>PC2=%{x}<br>PC3=%{y}<extra></extra>",
         "hovertext": [
          "MEDITATION",
          "MEDITATION",
          "MEDITATION",
          "MEDITATION",
          "MEDITATION",
          "MEDITATION",
          "MEDITATION",
          "MEDITATION",
          "MEDITATION",
          "MEDITATION"
         ],
         "legendgroup": "MEDITATION",
         "marker": {
          "color": "#FECB52",
          "symbol": "circle"
         },
         "mode": "markers",
         "name": "MEDITATION",
         "orientation": "v",
         "showlegend": true,
         "type": "scatter",
         "x": [
          -0.06533502805980551,
          -0.04419190219069784,
          -0.06047681544183812,
          -0.046125931508437114,
          -0.05730892293577398,
          -0.015747976090392,
          -0.03969714415381296,
          -0.030430451859616695,
          -0.06092744297155507,
          -0.12561705444292967
         ],
         "xaxis": "x",
         "y": [
          -0.0715586547105164,
          -0.0520889086792991,
          -0.15173717591097524,
          -0.10439827344629571,
          -0.11310456117677775,
          -0.17760375535580147,
          -0.17030395126216,
          -0.20580533963850503,
          -0.20167910963262992,
          0.05030752878160747
         ],
         "yaxis": "y"
        },
        {
         "alignmentgroup": "True",
         "hovertemplate": "<b>%{hovertext}</b><br><br>title=MEDITATION<br>PC2=%{x}<extra></extra>",
         "hovertext": [
          "MEDITATION",
          "MEDITATION",
          "MEDITATION",
          "MEDITATION",
          "MEDITATION",
          "MEDITATION",
          "MEDITATION",
          "MEDITATION",
          "MEDITATION",
          "MEDITATION"
         ],
         "legendgroup": "MEDITATION",
         "marker": {
          "color": "#FECB52",
          "symbol": "circle"
         },
         "name": "MEDITATION",
         "notched": true,
         "offsetgroup": "MEDITATION",
         "showlegend": false,
         "type": "box",
         "x": [
          -0.06533502805980551,
          -0.04419190219069784,
          -0.06047681544183812,
          -0.046125931508437114,
          -0.05730892293577398,
          -0.015747976090392,
          -0.03969714415381296,
          -0.030430451859616695,
          -0.06092744297155507,
          -0.12561705444292967
         ],
         "xaxis": "x2",
         "yaxis": "y2"
        }
       ],
       "layout": {
        "height": 800,
        "legend": {
         "title": {
          "text": "title"
         },
         "tracegroupgap": 0
        },
        "margin": {
         "t": 60
        },
        "template": {
         "data": {
          "bar": [
           {
            "error_x": {
             "color": "#2a3f5f"
            },
            "error_y": {
             "color": "#2a3f5f"
            },
            "marker": {
             "line": {
              "color": "#E5ECF6",
              "width": 0.5
             },
             "pattern": {
              "fillmode": "overlay",
              "size": 10,
              "solidity": 0.2
             }
            },
            "type": "bar"
           }
          ],
          "barpolar": [
           {
            "marker": {
             "line": {
              "color": "#E5ECF6",
              "width": 0.5
             },
             "pattern": {
              "fillmode": "overlay",
              "size": 10,
              "solidity": 0.2
             }
            },
            "type": "barpolar"
           }
          ],
          "carpet": [
           {
            "aaxis": {
             "endlinecolor": "#2a3f5f",
             "gridcolor": "white",
             "linecolor": "white",
             "minorgridcolor": "white",
             "startlinecolor": "#2a3f5f"
            },
            "baxis": {
             "endlinecolor": "#2a3f5f",
             "gridcolor": "white",
             "linecolor": "white",
             "minorgridcolor": "white",
             "startlinecolor": "#2a3f5f"
            },
            "type": "carpet"
           }
          ],
          "choropleth": [
           {
            "colorbar": {
             "outlinewidth": 0,
             "ticks": ""
            },
            "type": "choropleth"
           }
          ],
          "contour": [
           {
            "colorbar": {
             "outlinewidth": 0,
             "ticks": ""
            },
            "colorscale": [
             [
              0,
              "#0d0887"
             ],
             [
              0.1111111111111111,
              "#46039f"
             ],
             [
              0.2222222222222222,
              "#7201a8"
             ],
             [
              0.3333333333333333,
              "#9c179e"
             ],
             [
              0.4444444444444444,
              "#bd3786"
             ],
             [
              0.5555555555555556,
              "#d8576b"
             ],
             [
              0.6666666666666666,
              "#ed7953"
             ],
             [
              0.7777777777777778,
              "#fb9f3a"
             ],
             [
              0.8888888888888888,
              "#fdca26"
             ],
             [
              1,
              "#f0f921"
             ]
            ],
            "type": "contour"
           }
          ],
          "contourcarpet": [
           {
            "colorbar": {
             "outlinewidth": 0,
             "ticks": ""
            },
            "type": "contourcarpet"
           }
          ],
          "heatmap": [
           {
            "colorbar": {
             "outlinewidth": 0,
             "ticks": ""
            },
            "colorscale": [
             [
              0,
              "#0d0887"
             ],
             [
              0.1111111111111111,
              "#46039f"
             ],
             [
              0.2222222222222222,
              "#7201a8"
             ],
             [
              0.3333333333333333,
              "#9c179e"
             ],
             [
              0.4444444444444444,
              "#bd3786"
             ],
             [
              0.5555555555555556,
              "#d8576b"
             ],
             [
              0.6666666666666666,
              "#ed7953"
             ],
             [
              0.7777777777777778,
              "#fb9f3a"
             ],
             [
              0.8888888888888888,
              "#fdca26"
             ],
             [
              1,
              "#f0f921"
             ]
            ],
            "type": "heatmap"
           }
          ],
          "heatmapgl": [
           {
            "colorbar": {
             "outlinewidth": 0,
             "ticks": ""
            },
            "colorscale": [
             [
              0,
              "#0d0887"
             ],
             [
              0.1111111111111111,
              "#46039f"
             ],
             [
              0.2222222222222222,
              "#7201a8"
             ],
             [
              0.3333333333333333,
              "#9c179e"
             ],
             [
              0.4444444444444444,
              "#bd3786"
             ],
             [
              0.5555555555555556,
              "#d8576b"
             ],
             [
              0.6666666666666666,
              "#ed7953"
             ],
             [
              0.7777777777777778,
              "#fb9f3a"
             ],
             [
              0.8888888888888888,
              "#fdca26"
             ],
             [
              1,
              "#f0f921"
             ]
            ],
            "type": "heatmapgl"
           }
          ],
          "histogram": [
           {
            "marker": {
             "pattern": {
              "fillmode": "overlay",
              "size": 10,
              "solidity": 0.2
             }
            },
            "type": "histogram"
           }
          ],
          "histogram2d": [
           {
            "colorbar": {
             "outlinewidth": 0,
             "ticks": ""
            },
            "colorscale": [
             [
              0,
              "#0d0887"
             ],
             [
              0.1111111111111111,
              "#46039f"
             ],
             [
              0.2222222222222222,
              "#7201a8"
             ],
             [
              0.3333333333333333,
              "#9c179e"
             ],
             [
              0.4444444444444444,
              "#bd3786"
             ],
             [
              0.5555555555555556,
              "#d8576b"
             ],
             [
              0.6666666666666666,
              "#ed7953"
             ],
             [
              0.7777777777777778,
              "#fb9f3a"
             ],
             [
              0.8888888888888888,
              "#fdca26"
             ],
             [
              1,
              "#f0f921"
             ]
            ],
            "type": "histogram2d"
           }
          ],
          "histogram2dcontour": [
           {
            "colorbar": {
             "outlinewidth": 0,
             "ticks": ""
            },
            "colorscale": [
             [
              0,
              "#0d0887"
             ],
             [
              0.1111111111111111,
              "#46039f"
             ],
             [
              0.2222222222222222,
              "#7201a8"
             ],
             [
              0.3333333333333333,
              "#9c179e"
             ],
             [
              0.4444444444444444,
              "#bd3786"
             ],
             [
              0.5555555555555556,
              "#d8576b"
             ],
             [
              0.6666666666666666,
              "#ed7953"
             ],
             [
              0.7777777777777778,
              "#fb9f3a"
             ],
             [
              0.8888888888888888,
              "#fdca26"
             ],
             [
              1,
              "#f0f921"
             ]
            ],
            "type": "histogram2dcontour"
           }
          ],
          "mesh3d": [
           {
            "colorbar": {
             "outlinewidth": 0,
             "ticks": ""
            },
            "type": "mesh3d"
           }
          ],
          "parcoords": [
           {
            "line": {
             "colorbar": {
              "outlinewidth": 0,
              "ticks": ""
             }
            },
            "type": "parcoords"
           }
          ],
          "pie": [
           {
            "automargin": true,
            "type": "pie"
           }
          ],
          "scatter": [
           {
            "fillpattern": {
             "fillmode": "overlay",
             "size": 10,
             "solidity": 0.2
            },
            "type": "scatter"
           }
          ],
          "scatter3d": [
           {
            "line": {
             "colorbar": {
              "outlinewidth": 0,
              "ticks": ""
             }
            },
            "marker": {
             "colorbar": {
              "outlinewidth": 0,
              "ticks": ""
             }
            },
            "type": "scatter3d"
           }
          ],
          "scattercarpet": [
           {
            "marker": {
             "colorbar": {
              "outlinewidth": 0,
              "ticks": ""
             }
            },
            "type": "scattercarpet"
           }
          ],
          "scattergeo": [
           {
            "marker": {
             "colorbar": {
              "outlinewidth": 0,
              "ticks": ""
             }
            },
            "type": "scattergeo"
           }
          ],
          "scattergl": [
           {
            "marker": {
             "colorbar": {
              "outlinewidth": 0,
              "ticks": ""
             }
            },
            "type": "scattergl"
           }
          ],
          "scattermapbox": [
           {
            "marker": {
             "colorbar": {
              "outlinewidth": 0,
              "ticks": ""
             }
            },
            "type": "scattermapbox"
           }
          ],
          "scatterpolar": [
           {
            "marker": {
             "colorbar": {
              "outlinewidth": 0,
              "ticks": ""
             }
            },
            "type": "scatterpolar"
           }
          ],
          "scatterpolargl": [
           {
            "marker": {
             "colorbar": {
              "outlinewidth": 0,
              "ticks": ""
             }
            },
            "type": "scatterpolargl"
           }
          ],
          "scatterternary": [
           {
            "marker": {
             "colorbar": {
              "outlinewidth": 0,
              "ticks": ""
             }
            },
            "type": "scatterternary"
           }
          ],
          "surface": [
           {
            "colorbar": {
             "outlinewidth": 0,
             "ticks": ""
            },
            "colorscale": [
             [
              0,
              "#0d0887"
             ],
             [
              0.1111111111111111,
              "#46039f"
             ],
             [
              0.2222222222222222,
              "#7201a8"
             ],
             [
              0.3333333333333333,
              "#9c179e"
             ],
             [
              0.4444444444444444,
              "#bd3786"
             ],
             [
              0.5555555555555556,
              "#d8576b"
             ],
             [
              0.6666666666666666,
              "#ed7953"
             ],
             [
              0.7777777777777778,
              "#fb9f3a"
             ],
             [
              0.8888888888888888,
              "#fdca26"
             ],
             [
              1,
              "#f0f921"
             ]
            ],
            "type": "surface"
           }
          ],
          "table": [
           {
            "cells": {
             "fill": {
              "color": "#EBF0F8"
             },
             "line": {
              "color": "white"
             }
            },
            "header": {
             "fill": {
              "color": "#C8D4E3"
             },
             "line": {
              "color": "white"
             }
            },
            "type": "table"
           }
          ]
         },
         "layout": {
          "annotationdefaults": {
           "arrowcolor": "#2a3f5f",
           "arrowhead": 0,
           "arrowwidth": 1
          },
          "autotypenumbers": "strict",
          "coloraxis": {
           "colorbar": {
            "outlinewidth": 0,
            "ticks": ""
           }
          },
          "colorscale": {
           "diverging": [
            [
             0,
             "#8e0152"
            ],
            [
             0.1,
             "#c51b7d"
            ],
            [
             0.2,
             "#de77ae"
            ],
            [
             0.3,
             "#f1b6da"
            ],
            [
             0.4,
             "#fde0ef"
            ],
            [
             0.5,
             "#f7f7f7"
            ],
            [
             0.6,
             "#e6f5d0"
            ],
            [
             0.7,
             "#b8e186"
            ],
            [
             0.8,
             "#7fbc41"
            ],
            [
             0.9,
             "#4d9221"
            ],
            [
             1,
             "#276419"
            ]
           ],
           "sequential": [
            [
             0,
             "#0d0887"
            ],
            [
             0.1111111111111111,
             "#46039f"
            ],
            [
             0.2222222222222222,
             "#7201a8"
            ],
            [
             0.3333333333333333,
             "#9c179e"
            ],
            [
             0.4444444444444444,
             "#bd3786"
            ],
            [
             0.5555555555555556,
             "#d8576b"
            ],
            [
             0.6666666666666666,
             "#ed7953"
            ],
            [
             0.7777777777777778,
             "#fb9f3a"
            ],
            [
             0.8888888888888888,
             "#fdca26"
            ],
            [
             1,
             "#f0f921"
            ]
           ],
           "sequentialminus": [
            [
             0,
             "#0d0887"
            ],
            [
             0.1111111111111111,
             "#46039f"
            ],
            [
             0.2222222222222222,
             "#7201a8"
            ],
            [
             0.3333333333333333,
             "#9c179e"
            ],
            [
             0.4444444444444444,
             "#bd3786"
            ],
            [
             0.5555555555555556,
             "#d8576b"
            ],
            [
             0.6666666666666666,
             "#ed7953"
            ],
            [
             0.7777777777777778,
             "#fb9f3a"
            ],
            [
             0.8888888888888888,
             "#fdca26"
            ],
            [
             1,
             "#f0f921"
            ]
           ]
          },
          "colorway": [
           "#636efa",
           "#EF553B",
           "#00cc96",
           "#ab63fa",
           "#FFA15A",
           "#19d3f3",
           "#FF6692",
           "#B6E880",
           "#FF97FF",
           "#FECB52"
          ],
          "font": {
           "color": "#2a3f5f"
          },
          "geo": {
           "bgcolor": "white",
           "lakecolor": "white",
           "landcolor": "#E5ECF6",
           "showlakes": true,
           "showland": true,
           "subunitcolor": "white"
          },
          "hoverlabel": {
           "align": "left"
          },
          "hovermode": "closest",
          "mapbox": {
           "style": "light"
          },
          "paper_bgcolor": "white",
          "plot_bgcolor": "#E5ECF6",
          "polar": {
           "angularaxis": {
            "gridcolor": "white",
            "linecolor": "white",
            "ticks": ""
           },
           "bgcolor": "#E5ECF6",
           "radialaxis": {
            "gridcolor": "white",
            "linecolor": "white",
            "ticks": ""
           }
          },
          "scene": {
           "xaxis": {
            "backgroundcolor": "#E5ECF6",
            "gridcolor": "white",
            "gridwidth": 2,
            "linecolor": "white",
            "showbackground": true,
            "ticks": "",
            "zerolinecolor": "white"
           },
           "yaxis": {
            "backgroundcolor": "#E5ECF6",
            "gridcolor": "white",
            "gridwidth": 2,
            "linecolor": "white",
            "showbackground": true,
            "ticks": "",
            "zerolinecolor": "white"
           },
           "zaxis": {
            "backgroundcolor": "#E5ECF6",
            "gridcolor": "white",
            "gridwidth": 2,
            "linecolor": "white",
            "showbackground": true,
            "ticks": "",
            "zerolinecolor": "white"
           }
          },
          "shapedefaults": {
           "line": {
            "color": "#2a3f5f"
           }
          },
          "ternary": {
           "aaxis": {
            "gridcolor": "white",
            "linecolor": "white",
            "ticks": ""
           },
           "baxis": {
            "gridcolor": "white",
            "linecolor": "white",
            "ticks": ""
           },
           "bgcolor": "#E5ECF6",
           "caxis": {
            "gridcolor": "white",
            "linecolor": "white",
            "ticks": ""
           }
          },
          "title": {
           "x": 0.05
          },
          "xaxis": {
           "automargin": true,
           "gridcolor": "white",
           "linecolor": "white",
           "ticks": "",
           "title": {
            "standoff": 15
           },
           "zerolinecolor": "white",
           "zerolinewidth": 2
          },
          "yaxis": {
           "automargin": true,
           "gridcolor": "white",
           "linecolor": "white",
           "ticks": "",
           "title": {
            "standoff": 15
           },
           "zerolinecolor": "white",
           "zerolinewidth": 2
          }
         }
        },
        "xaxis": {
         "anchor": "y",
         "domain": [
          0,
          1
         ],
         "title": {
          "text": "PC2"
         }
        },
        "xaxis2": {
         "anchor": "y2",
         "domain": [
          0,
          1
         ],
         "matches": "x",
         "showgrid": true,
         "showticklabels": false
        },
        "yaxis": {
         "anchor": "x",
         "domain": [
          0,
          0.7326
         ],
         "title": {
          "text": "PC3"
         }
        },
        "yaxis2": {
         "anchor": "x2",
         "domain": [
          0.7426,
          1
         ],
         "matches": "y2",
         "showgrid": false,
         "showline": false,
         "showticklabels": false,
         "ticks": ""
        }
       }
      }
     },
     "metadata": {},
     "output_type": "display_data"
    }
   ],
   "source": [
    "vis_pcs(DCM, 2, 3, label='title', hover_name= 'title')"
   ]
  },
  {
   "cell_type": "markdown",
   "id": "080ae727",
   "metadata": {},
   "source": [
    "## PCA COMPONENTS"
   ]
  },
  {
   "cell_type": "code",
   "execution_count": 27,
   "id": "078902f3",
   "metadata": {},
   "outputs": [
    {
     "data": {
      "text/plain": [
       "term_str\n",
       "karl            0.110113\n",
       "uncle           0.021334\n",
       "delamarche      0.018319\n",
       "didn            0.018258\n",
       "gregor          0.017940\n",
       "pollunder       0.017875\n",
       "said karl       0.017219\n",
       "mr pollunder    0.016232\n",
       "robinson        0.015669\n",
       "stoker          0.014555\n",
       "Name: PC0, dtype: float64"
      ]
     },
     "execution_count": 27,
     "metadata": {},
     "output_type": "execute_result"
    }
   ],
   "source": [
    "LOADINGS['PC0'].sort_values(ascending=False).head(10)"
   ]
  },
  {
   "cell_type": "code",
   "execution_count": 28,
   "id": "4aa68ed1",
   "metadata": {},
   "outputs": [
    {
     "data": {
      "text/plain": [
       "term_str\n",
       "gregor       -0.034040\n",
       "horse        -0.018353\n",
       "gregors      -0.016428\n",
       "sister       -0.014823\n",
       "father       -0.012899\n",
       "folk         -0.011762\n",
       "horses       -0.011278\n",
       "josephine    -0.010986\n",
       "gatekeeper   -0.009761\n",
       "beautiful    -0.008965\n",
       "Name: PC1, dtype: float64"
      ]
     },
     "execution_count": 28,
     "metadata": {},
     "output_type": "execute_result"
    }
   ],
   "source": [
    "LOADINGS['PC1'].sort_values(ascending=True).head(10)"
   ]
  },
  {
   "cell_type": "code",
   "execution_count": 41,
   "id": "b3e9dfc6",
   "metadata": {},
   "outputs": [
    {
     "data": {
      "text/html": [
       "<div>\n",
       "<style scoped>\n",
       "    .dataframe tbody tr th:only-of-type {\n",
       "        vertical-align: middle;\n",
       "    }\n",
       "\n",
       "    .dataframe tbody tr th {\n",
       "        vertical-align: top;\n",
       "    }\n",
       "\n",
       "    .dataframe thead th {\n",
       "        text-align: right;\n",
       "    }\n",
       "</style>\n",
       "<table border=\"1\" class=\"dataframe\">\n",
       "  <thead>\n",
       "    <tr style=\"text-align: right;\">\n",
       "      <th></th>\n",
       "      <th>0</th>\n",
       "      <th>1</th>\n",
       "      <th>2</th>\n",
       "      <th>3</th>\n",
       "      <th>4</th>\n",
       "      <th>5</th>\n",
       "      <th>6</th>\n",
       "      <th>7</th>\n",
       "      <th>8</th>\n",
       "      <th>9</th>\n",
       "      <th>...</th>\n",
       "      <th>3990</th>\n",
       "      <th>3991</th>\n",
       "      <th>3992</th>\n",
       "      <th>3993</th>\n",
       "      <th>3994</th>\n",
       "      <th>3995</th>\n",
       "      <th>3996</th>\n",
       "      <th>3997</th>\n",
       "      <th>3998</th>\n",
       "      <th>3999</th>\n",
       "    </tr>\n",
       "  </thead>\n",
       "  <tbody>\n",
       "    <tr>\n",
       "      <th>0</th>\n",
       "      <td>0.002523</td>\n",
       "      <td>-0.001021</td>\n",
       "      <td>-0.000979</td>\n",
       "      <td>0.004006</td>\n",
       "      <td>0.009875</td>\n",
       "      <td>-0.001858</td>\n",
       "      <td>0.000409</td>\n",
       "      <td>-0.000376</td>\n",
       "      <td>0.001700</td>\n",
       "      <td>0.001568</td>\n",
       "      <td>...</td>\n",
       "      <td>-0.027285</td>\n",
       "      <td>-0.011090</td>\n",
       "      <td>-0.009217</td>\n",
       "      <td>-0.012083</td>\n",
       "      <td>-0.089827</td>\n",
       "      <td>-0.006937</td>\n",
       "      <td>-0.008719</td>\n",
       "      <td>-0.007632</td>\n",
       "      <td>-0.009848</td>\n",
       "      <td>-0.023944</td>\n",
       "    </tr>\n",
       "    <tr>\n",
       "      <th>1</th>\n",
       "      <td>-0.001528</td>\n",
       "      <td>-0.000104</td>\n",
       "      <td>-0.000766</td>\n",
       "      <td>-0.008258</td>\n",
       "      <td>-0.010412</td>\n",
       "      <td>0.001288</td>\n",
       "      <td>0.002130</td>\n",
       "      <td>0.003624</td>\n",
       "      <td>0.000446</td>\n",
       "      <td>-0.001115</td>\n",
       "      <td>...</td>\n",
       "      <td>0.001615</td>\n",
       "      <td>-0.000997</td>\n",
       "      <td>0.000691</td>\n",
       "      <td>0.004967</td>\n",
       "      <td>0.036579</td>\n",
       "      <td>0.002766</td>\n",
       "      <td>0.004756</td>\n",
       "      <td>0.002369</td>\n",
       "      <td>0.004381</td>\n",
       "      <td>0.012749</td>\n",
       "    </tr>\n",
       "    <tr>\n",
       "      <th>2</th>\n",
       "      <td>-0.005251</td>\n",
       "      <td>0.002003</td>\n",
       "      <td>0.004161</td>\n",
       "      <td>-0.003150</td>\n",
       "      <td>-0.003729</td>\n",
       "      <td>0.002643</td>\n",
       "      <td>-0.001041</td>\n",
       "      <td>0.008035</td>\n",
       "      <td>0.000499</td>\n",
       "      <td>-0.002344</td>\n",
       "      <td>...</td>\n",
       "      <td>0.081112</td>\n",
       "      <td>0.044808</td>\n",
       "      <td>0.030390</td>\n",
       "      <td>0.004928</td>\n",
       "      <td>0.053175</td>\n",
       "      <td>0.003121</td>\n",
       "      <td>-0.003693</td>\n",
       "      <td>0.004338</td>\n",
       "      <td>0.005178</td>\n",
       "      <td>-0.010491</td>\n",
       "    </tr>\n",
       "    <tr>\n",
       "      <th>3</th>\n",
       "      <td>0.004873</td>\n",
       "      <td>0.004823</td>\n",
       "      <td>-0.000500</td>\n",
       "      <td>-0.009317</td>\n",
       "      <td>-0.002135</td>\n",
       "      <td>0.001242</td>\n",
       "      <td>0.003666</td>\n",
       "      <td>0.000511</td>\n",
       "      <td>0.001871</td>\n",
       "      <td>0.000126</td>\n",
       "      <td>...</td>\n",
       "      <td>-0.004467</td>\n",
       "      <td>-0.002627</td>\n",
       "      <td>-0.003975</td>\n",
       "      <td>0.000770</td>\n",
       "      <td>-0.007477</td>\n",
       "      <td>0.000399</td>\n",
       "      <td>0.000573</td>\n",
       "      <td>0.000889</td>\n",
       "      <td>0.000063</td>\n",
       "      <td>0.003128</td>\n",
       "    </tr>\n",
       "    <tr>\n",
       "      <th>4</th>\n",
       "      <td>-0.007745</td>\n",
       "      <td>0.003352</td>\n",
       "      <td>-0.001595</td>\n",
       "      <td>0.006060</td>\n",
       "      <td>0.004752</td>\n",
       "      <td>-0.009343</td>\n",
       "      <td>-0.000436</td>\n",
       "      <td>0.000729</td>\n",
       "      <td>-0.000105</td>\n",
       "      <td>-0.007648</td>\n",
       "      <td>...</td>\n",
       "      <td>0.004730</td>\n",
       "      <td>0.000415</td>\n",
       "      <td>0.003712</td>\n",
       "      <td>0.004102</td>\n",
       "      <td>0.024257</td>\n",
       "      <td>0.001580</td>\n",
       "      <td>0.005787</td>\n",
       "      <td>-0.000342</td>\n",
       "      <td>0.001861</td>\n",
       "      <td>0.014278</td>\n",
       "    </tr>\n",
       "    <tr>\n",
       "      <th>5</th>\n",
       "      <td>-0.004925</td>\n",
       "      <td>-0.000125</td>\n",
       "      <td>0.001059</td>\n",
       "      <td>0.034055</td>\n",
       "      <td>0.051932</td>\n",
       "      <td>-0.001020</td>\n",
       "      <td>0.001598</td>\n",
       "      <td>0.003806</td>\n",
       "      <td>0.001038</td>\n",
       "      <td>0.010998</td>\n",
       "      <td>...</td>\n",
       "      <td>0.009898</td>\n",
       "      <td>0.004587</td>\n",
       "      <td>0.001686</td>\n",
       "      <td>-0.000416</td>\n",
       "      <td>-0.007373</td>\n",
       "      <td>0.000139</td>\n",
       "      <td>0.000772</td>\n",
       "      <td>-0.000484</td>\n",
       "      <td>-0.003436</td>\n",
       "      <td>0.000395</td>\n",
       "    </tr>\n",
       "    <tr>\n",
       "      <th>6</th>\n",
       "      <td>0.000440</td>\n",
       "      <td>0.001298</td>\n",
       "      <td>-0.007423</td>\n",
       "      <td>0.009684</td>\n",
       "      <td>0.006820</td>\n",
       "      <td>0.002237</td>\n",
       "      <td>0.001946</td>\n",
       "      <td>-0.008306</td>\n",
       "      <td>-0.004697</td>\n",
       "      <td>-0.001279</td>\n",
       "      <td>...</td>\n",
       "      <td>-0.113558</td>\n",
       "      <td>-0.056279</td>\n",
       "      <td>-0.043553</td>\n",
       "      <td>-0.008585</td>\n",
       "      <td>-0.008269</td>\n",
       "      <td>-0.007231</td>\n",
       "      <td>-0.004198</td>\n",
       "      <td>-0.003678</td>\n",
       "      <td>-0.006556</td>\n",
       "      <td>-0.022447</td>\n",
       "    </tr>\n",
       "    <tr>\n",
       "      <th>7</th>\n",
       "      <td>-0.009598</td>\n",
       "      <td>0.004763</td>\n",
       "      <td>-0.006542</td>\n",
       "      <td>-0.000557</td>\n",
       "      <td>0.023430</td>\n",
       "      <td>0.001624</td>\n",
       "      <td>-0.000976</td>\n",
       "      <td>-0.006303</td>\n",
       "      <td>0.002331</td>\n",
       "      <td>0.002049</td>\n",
       "      <td>...</td>\n",
       "      <td>-0.013832</td>\n",
       "      <td>-0.007699</td>\n",
       "      <td>-0.001557</td>\n",
       "      <td>-0.006229</td>\n",
       "      <td>-0.004355</td>\n",
       "      <td>-0.002707</td>\n",
       "      <td>-0.001750</td>\n",
       "      <td>-0.004783</td>\n",
       "      <td>0.003716</td>\n",
       "      <td>0.003370</td>\n",
       "    </tr>\n",
       "    <tr>\n",
       "      <th>8</th>\n",
       "      <td>0.006365</td>\n",
       "      <td>-0.002992</td>\n",
       "      <td>0.000151</td>\n",
       "      <td>0.008381</td>\n",
       "      <td>0.036127</td>\n",
       "      <td>-0.000474</td>\n",
       "      <td>-0.000186</td>\n",
       "      <td>-0.002687</td>\n",
       "      <td>0.000341</td>\n",
       "      <td>-0.000223</td>\n",
       "      <td>...</td>\n",
       "      <td>0.042305</td>\n",
       "      <td>0.022456</td>\n",
       "      <td>0.017100</td>\n",
       "      <td>0.005450</td>\n",
       "      <td>0.018787</td>\n",
       "      <td>0.002831</td>\n",
       "      <td>-0.001495</td>\n",
       "      <td>0.003253</td>\n",
       "      <td>-0.000521</td>\n",
       "      <td>0.000044</td>\n",
       "    </tr>\n",
       "    <tr>\n",
       "      <th>9</th>\n",
       "      <td>-0.006092</td>\n",
       "      <td>-0.002855</td>\n",
       "      <td>-0.000881</td>\n",
       "      <td>-0.010845</td>\n",
       "      <td>-0.019865</td>\n",
       "      <td>-0.002823</td>\n",
       "      <td>0.007396</td>\n",
       "      <td>0.004948</td>\n",
       "      <td>0.002853</td>\n",
       "      <td>0.005058</td>\n",
       "      <td>...</td>\n",
       "      <td>0.034549</td>\n",
       "      <td>0.020013</td>\n",
       "      <td>0.017038</td>\n",
       "      <td>0.002010</td>\n",
       "      <td>0.007928</td>\n",
       "      <td>0.002643</td>\n",
       "      <td>-0.004711</td>\n",
       "      <td>-0.002118</td>\n",
       "      <td>-0.001326</td>\n",
       "      <td>-0.013982</td>\n",
       "    </tr>\n",
       "  </tbody>\n",
       "</table>\n",
       "<p>10 rows × 4000 columns</p>\n",
       "</div>"
      ],
      "text/plain": [
       "       0         1         2         3         4         5         6     \\\n",
       "0  0.002523 -0.001021 -0.000979  0.004006  0.009875 -0.001858  0.000409   \n",
       "1 -0.001528 -0.000104 -0.000766 -0.008258 -0.010412  0.001288  0.002130   \n",
       "2 -0.005251  0.002003  0.004161 -0.003150 -0.003729  0.002643 -0.001041   \n",
       "3  0.004873  0.004823 -0.000500 -0.009317 -0.002135  0.001242  0.003666   \n",
       "4 -0.007745  0.003352 -0.001595  0.006060  0.004752 -0.009343 -0.000436   \n",
       "5 -0.004925 -0.000125  0.001059  0.034055  0.051932 -0.001020  0.001598   \n",
       "6  0.000440  0.001298 -0.007423  0.009684  0.006820  0.002237  0.001946   \n",
       "7 -0.009598  0.004763 -0.006542 -0.000557  0.023430  0.001624 -0.000976   \n",
       "8  0.006365 -0.002992  0.000151  0.008381  0.036127 -0.000474 -0.000186   \n",
       "9 -0.006092 -0.002855 -0.000881 -0.010845 -0.019865 -0.002823  0.007396   \n",
       "\n",
       "       7         8         9     ...      3990      3991      3992      3993  \\\n",
       "0 -0.000376  0.001700  0.001568  ... -0.027285 -0.011090 -0.009217 -0.012083   \n",
       "1  0.003624  0.000446 -0.001115  ...  0.001615 -0.000997  0.000691  0.004967   \n",
       "2  0.008035  0.000499 -0.002344  ...  0.081112  0.044808  0.030390  0.004928   \n",
       "3  0.000511  0.001871  0.000126  ... -0.004467 -0.002627 -0.003975  0.000770   \n",
       "4  0.000729 -0.000105 -0.007648  ...  0.004730  0.000415  0.003712  0.004102   \n",
       "5  0.003806  0.001038  0.010998  ...  0.009898  0.004587  0.001686 -0.000416   \n",
       "6 -0.008306 -0.004697 -0.001279  ... -0.113558 -0.056279 -0.043553 -0.008585   \n",
       "7 -0.006303  0.002331  0.002049  ... -0.013832 -0.007699 -0.001557 -0.006229   \n",
       "8 -0.002687  0.000341 -0.000223  ...  0.042305  0.022456  0.017100  0.005450   \n",
       "9  0.004948  0.002853  0.005058  ...  0.034549  0.020013  0.017038  0.002010   \n",
       "\n",
       "       3994      3995      3996      3997      3998      3999  \n",
       "0 -0.089827 -0.006937 -0.008719 -0.007632 -0.009848 -0.023944  \n",
       "1  0.036579  0.002766  0.004756  0.002369  0.004381  0.012749  \n",
       "2  0.053175  0.003121 -0.003693  0.004338  0.005178 -0.010491  \n",
       "3 -0.007477  0.000399  0.000573  0.000889  0.000063  0.003128  \n",
       "4  0.024257  0.001580  0.005787 -0.000342  0.001861  0.014278  \n",
       "5 -0.007373  0.000139  0.000772 -0.000484 -0.003436  0.000395  \n",
       "6 -0.008269 -0.007231 -0.004198 -0.003678 -0.006556 -0.022447  \n",
       "7 -0.004355 -0.002707 -0.001750 -0.004783  0.003716  0.003370  \n",
       "8  0.018787  0.002831 -0.001495  0.003253 -0.000521  0.000044  \n",
       "9  0.007928  0.002643 -0.004711 -0.002118 -0.001326 -0.013982  \n",
       "\n",
       "[10 rows x 4000 columns]"
      ]
     },
     "execution_count": 41,
     "metadata": {},
     "output_type": "execute_result"
    }
   ],
   "source": [
    "COMPONENTS = pd.DataFrame(pca_engine.components_)\n",
    "COMPONENTS\n",
    "#COMPONENTS.to_csv('COMPONENTS.csv')"
   ]
  },
  {
   "cell_type": "code",
   "execution_count": 40,
   "id": "a62473f8",
   "metadata": {},
   "outputs": [
    {
     "data": {
      "text/html": [
       "<div>\n",
       "<style scoped>\n",
       "    .dataframe tbody tr th:only-of-type {\n",
       "        vertical-align: middle;\n",
       "    }\n",
       "\n",
       "    .dataframe tbody tr th {\n",
       "        vertical-align: top;\n",
       "    }\n",
       "\n",
       "    .dataframe thead th {\n",
       "        text-align: right;\n",
       "    }\n",
       "</style>\n",
       "<table border=\"1\" class=\"dataframe\">\n",
       "  <thead>\n",
       "    <tr style=\"text-align: right;\">\n",
       "      <th></th>\n",
       "      <th></th>\n",
       "      <th>PC0</th>\n",
       "      <th>PC1</th>\n",
       "      <th>PC2</th>\n",
       "      <th>PC3</th>\n",
       "      <th>PC4</th>\n",
       "      <th>PC5</th>\n",
       "      <th>PC6</th>\n",
       "      <th>PC7</th>\n",
       "      <th>PC8</th>\n",
       "      <th>PC9</th>\n",
       "      <th>author</th>\n",
       "      <th>title</th>\n",
       "    </tr>\n",
       "    <tr>\n",
       "      <th>book_id</th>\n",
       "      <th>chap_id</th>\n",
       "      <th></th>\n",
       "      <th></th>\n",
       "      <th></th>\n",
       "      <th></th>\n",
       "      <th></th>\n",
       "      <th></th>\n",
       "      <th></th>\n",
       "      <th></th>\n",
       "      <th></th>\n",
       "      <th></th>\n",
       "      <th></th>\n",
       "      <th></th>\n",
       "    </tr>\n",
       "  </thead>\n",
       "  <tbody>\n",
       "    <tr>\n",
       "      <th rowspan=\"3\" valign=\"top\">5200</th>\n",
       "      <th>1</th>\n",
       "      <td>0.141323</td>\n",
       "      <td>-0.255321</td>\n",
       "      <td>0.099228</td>\n",
       "      <td>0.677108</td>\n",
       "      <td>0.196797</td>\n",
       "      <td>0.029879</td>\n",
       "      <td>0.118829</td>\n",
       "      <td>0.048355</td>\n",
       "      <td>-0.019312</td>\n",
       "      <td>-0.017311</td>\n",
       "      <td>KAFKA, FRANZ</td>\n",
       "      <td>METAMORPHOSIS</td>\n",
       "    </tr>\n",
       "    <tr>\n",
       "      <th>2</th>\n",
       "      <td>0.176970</td>\n",
       "      <td>-0.281937</td>\n",
       "      <td>0.131181</td>\n",
       "      <td>0.733911</td>\n",
       "      <td>0.286330</td>\n",
       "      <td>0.014847</td>\n",
       "      <td>0.104435</td>\n",
       "      <td>0.037605</td>\n",
       "      <td>-0.015908</td>\n",
       "      <td>-0.015712</td>\n",
       "      <td>KAFKA, FRANZ</td>\n",
       "      <td>METAMORPHOSIS</td>\n",
       "    </tr>\n",
       "    <tr>\n",
       "      <th>3</th>\n",
       "      <td>0.168403</td>\n",
       "      <td>-0.256803</td>\n",
       "      <td>0.106427</td>\n",
       "      <td>0.686433</td>\n",
       "      <td>0.250481</td>\n",
       "      <td>0.003529</td>\n",
       "      <td>0.097194</td>\n",
       "      <td>0.044844</td>\n",
       "      <td>0.009694</td>\n",
       "      <td>-0.017391</td>\n",
       "      <td>KAFKA, FRANZ</td>\n",
       "      <td>METAMORPHOSIS</td>\n",
       "    </tr>\n",
       "    <tr>\n",
       "      <th>5252</th>\n",
       "      <th>1</th>\n",
       "      <td>0.135361</td>\n",
       "      <td>-0.138505</td>\n",
       "      <td>-0.021799</td>\n",
       "      <td>-0.101060</td>\n",
       "      <td>0.100858</td>\n",
       "      <td>0.026625</td>\n",
       "      <td>0.076850</td>\n",
       "      <td>0.085376</td>\n",
       "      <td>-0.174538</td>\n",
       "      <td>0.024125</td>\n",
       "      <td>KAFKA, FRANZ</td>\n",
       "      <td>BLUMFELD</td>\n",
       "    </tr>\n",
       "    <tr>\n",
       "      <th>5353</th>\n",
       "      <th>1</th>\n",
       "      <td>0.100131</td>\n",
       "      <td>-0.141379</td>\n",
       "      <td>0.065595</td>\n",
       "      <td>-0.104005</td>\n",
       "      <td>0.040792</td>\n",
       "      <td>0.110012</td>\n",
       "      <td>-0.010286</td>\n",
       "      <td>-0.145312</td>\n",
       "      <td>-0.208212</td>\n",
       "      <td>-0.024751</td>\n",
       "      <td>KAFKA, FRANZ</td>\n",
       "      <td>THE BURROW</td>\n",
       "    </tr>\n",
       "    <tr>\n",
       "      <th>...</th>\n",
       "      <th>...</th>\n",
       "      <td>...</td>\n",
       "      <td>...</td>\n",
       "      <td>...</td>\n",
       "      <td>...</td>\n",
       "      <td>...</td>\n",
       "      <td>...</td>\n",
       "      <td>...</td>\n",
       "      <td>...</td>\n",
       "      <td>...</td>\n",
       "      <td>...</td>\n",
       "      <td>...</td>\n",
       "      <td>...</td>\n",
       "    </tr>\n",
       "    <tr>\n",
       "      <th rowspan=\"5\" valign=\"top\">23532</th>\n",
       "      <th>6</th>\n",
       "      <td>0.168615</td>\n",
       "      <td>-0.179751</td>\n",
       "      <td>-0.015748</td>\n",
       "      <td>-0.177604</td>\n",
       "      <td>0.181144</td>\n",
       "      <td>-0.126465</td>\n",
       "      <td>-0.070660</td>\n",
       "      <td>-0.152791</td>\n",
       "      <td>-0.070831</td>\n",
       "      <td>0.152756</td>\n",
       "      <td>KAFKA, FRANZ</td>\n",
       "      <td>MEDITATION</td>\n",
       "    </tr>\n",
       "    <tr>\n",
       "      <th>7</th>\n",
       "      <td>0.166980</td>\n",
       "      <td>-0.177764</td>\n",
       "      <td>-0.039697</td>\n",
       "      <td>-0.170304</td>\n",
       "      <td>0.141929</td>\n",
       "      <td>-0.138057</td>\n",
       "      <td>0.000898</td>\n",
       "      <td>-0.117480</td>\n",
       "      <td>-0.018872</td>\n",
       "      <td>0.167170</td>\n",
       "      <td>KAFKA, FRANZ</td>\n",
       "      <td>MEDITATION</td>\n",
       "    </tr>\n",
       "    <tr>\n",
       "      <th>8</th>\n",
       "      <td>0.181401</td>\n",
       "      <td>-0.215050</td>\n",
       "      <td>-0.030430</td>\n",
       "      <td>-0.205805</td>\n",
       "      <td>0.141702</td>\n",
       "      <td>-0.202402</td>\n",
       "      <td>0.011512</td>\n",
       "      <td>0.129575</td>\n",
       "      <td>0.276258</td>\n",
       "      <td>-0.001765</td>\n",
       "      <td>KAFKA, FRANZ</td>\n",
       "      <td>MEDITATION</td>\n",
       "    </tr>\n",
       "    <tr>\n",
       "      <th>9</th>\n",
       "      <td>0.189385</td>\n",
       "      <td>-0.207692</td>\n",
       "      <td>-0.060927</td>\n",
       "      <td>-0.201679</td>\n",
       "      <td>0.208135</td>\n",
       "      <td>-0.274031</td>\n",
       "      <td>0.007774</td>\n",
       "      <td>0.263470</td>\n",
       "      <td>0.303637</td>\n",
       "      <td>0.084852</td>\n",
       "      <td>KAFKA, FRANZ</td>\n",
       "      <td>MEDITATION</td>\n",
       "    </tr>\n",
       "    <tr>\n",
       "      <th>10</th>\n",
       "      <td>0.008088</td>\n",
       "      <td>-0.076714</td>\n",
       "      <td>-0.125617</td>\n",
       "      <td>0.050308</td>\n",
       "      <td>-0.177711</td>\n",
       "      <td>-0.027143</td>\n",
       "      <td>-0.006566</td>\n",
       "      <td>-0.114776</td>\n",
       "      <td>0.115790</td>\n",
       "      <td>-0.081661</td>\n",
       "      <td>KAFKA, FRANZ</td>\n",
       "      <td>MEDITATION</td>\n",
       "    </tr>\n",
       "  </tbody>\n",
       "</table>\n",
       "<p>70 rows × 12 columns</p>\n",
       "</div>"
      ],
      "text/plain": [
       "                      PC0       PC1       PC2       PC3       PC4       PC5  \\\n",
       "book_id chap_id                                                               \n",
       "5200    1        0.141323 -0.255321  0.099228  0.677108  0.196797  0.029879   \n",
       "        2        0.176970 -0.281937  0.131181  0.733911  0.286330  0.014847   \n",
       "        3        0.168403 -0.256803  0.106427  0.686433  0.250481  0.003529   \n",
       "5252    1        0.135361 -0.138505 -0.021799 -0.101060  0.100858  0.026625   \n",
       "5353    1        0.100131 -0.141379  0.065595 -0.104005  0.040792  0.110012   \n",
       "...                   ...       ...       ...       ...       ...       ...   \n",
       "23532   6        0.168615 -0.179751 -0.015748 -0.177604  0.181144 -0.126465   \n",
       "        7        0.166980 -0.177764 -0.039697 -0.170304  0.141929 -0.138057   \n",
       "        8        0.181401 -0.215050 -0.030430 -0.205805  0.141702 -0.202402   \n",
       "        9        0.189385 -0.207692 -0.060927 -0.201679  0.208135 -0.274031   \n",
       "        10       0.008088 -0.076714 -0.125617  0.050308 -0.177711 -0.027143   \n",
       "\n",
       "                      PC6       PC7       PC8       PC9        author  \\\n",
       "book_id chap_id                                                         \n",
       "5200    1        0.118829  0.048355 -0.019312 -0.017311  KAFKA, FRANZ   \n",
       "        2        0.104435  0.037605 -0.015908 -0.015712  KAFKA, FRANZ   \n",
       "        3        0.097194  0.044844  0.009694 -0.017391  KAFKA, FRANZ   \n",
       "5252    1        0.076850  0.085376 -0.174538  0.024125  KAFKA, FRANZ   \n",
       "5353    1       -0.010286 -0.145312 -0.208212 -0.024751  KAFKA, FRANZ   \n",
       "...                   ...       ...       ...       ...           ...   \n",
       "23532   6       -0.070660 -0.152791 -0.070831  0.152756  KAFKA, FRANZ   \n",
       "        7        0.000898 -0.117480 -0.018872  0.167170  KAFKA, FRANZ   \n",
       "        8        0.011512  0.129575  0.276258 -0.001765  KAFKA, FRANZ   \n",
       "        9        0.007774  0.263470  0.303637  0.084852  KAFKA, FRANZ   \n",
       "        10      -0.006566 -0.114776  0.115790 -0.081661  KAFKA, FRANZ   \n",
       "\n",
       "                         title  \n",
       "book_id chap_id                 \n",
       "5200    1        METAMORPHOSIS  \n",
       "        2        METAMORPHOSIS  \n",
       "        3        METAMORPHOSIS  \n",
       "5252    1             BLUMFELD  \n",
       "5353    1           THE BURROW  \n",
       "...                        ...  \n",
       "23532   6           MEDITATION  \n",
       "        7           MEDITATION  \n",
       "        8           MEDITATION  \n",
       "        9           MEDITATION  \n",
       "        10          MEDITATION  \n",
       "\n",
       "[70 rows x 12 columns]"
      ]
     },
     "execution_count": 40,
     "metadata": {},
     "output_type": "execute_result"
    }
   ],
   "source": [
    "DCM\n",
    "#DCM.to_csv('DCM.csv')"
   ]
  },
  {
   "cell_type": "code",
   "execution_count": 44,
   "id": "601d8c81",
   "metadata": {},
   "outputs": [
    {
     "data": {
      "text/html": [
       "<div>\n",
       "<style scoped>\n",
       "    .dataframe tbody tr th:only-of-type {\n",
       "        vertical-align: middle;\n",
       "    }\n",
       "\n",
       "    .dataframe tbody tr th {\n",
       "        vertical-align: top;\n",
       "    }\n",
       "\n",
       "    .dataframe thead th {\n",
       "        text-align: right;\n",
       "    }\n",
       "</style>\n",
       "<table border=\"1\" class=\"dataframe\">\n",
       "  <thead>\n",
       "    <tr style=\"text-align: right;\">\n",
       "      <th></th>\n",
       "      <th>PC0</th>\n",
       "      <th>PC1</th>\n",
       "      <th>PC2</th>\n",
       "      <th>PC3</th>\n",
       "      <th>PC4</th>\n",
       "      <th>PC5</th>\n",
       "      <th>PC6</th>\n",
       "      <th>PC7</th>\n",
       "      <th>PC8</th>\n",
       "      <th>PC9</th>\n",
       "      <th>...</th>\n",
       "      <th>max_pos</th>\n",
       "      <th>max_pos_group</th>\n",
       "      <th>n_pos_group</th>\n",
       "      <th>cat_pos_group</th>\n",
       "      <th>n_pos</th>\n",
       "      <th>cat_pos</th>\n",
       "      <th>stop</th>\n",
       "      <th>porter_stem</th>\n",
       "      <th>stem_snowball</th>\n",
       "      <th>stem_lancaster</th>\n",
       "    </tr>\n",
       "    <tr>\n",
       "      <th>term_str</th>\n",
       "      <th></th>\n",
       "      <th></th>\n",
       "      <th></th>\n",
       "      <th></th>\n",
       "      <th></th>\n",
       "      <th></th>\n",
       "      <th></th>\n",
       "      <th></th>\n",
       "      <th></th>\n",
       "      <th></th>\n",
       "      <th></th>\n",
       "      <th></th>\n",
       "      <th></th>\n",
       "      <th></th>\n",
       "      <th></th>\n",
       "      <th></th>\n",
       "      <th></th>\n",
       "      <th></th>\n",
       "      <th></th>\n",
       "      <th></th>\n",
       "      <th></th>\n",
       "    </tr>\n",
       "  </thead>\n",
       "  <tbody>\n",
       "    <tr>\n",
       "      <th>abandoned</th>\n",
       "      <td>0.000621</td>\n",
       "      <td>-0.000326</td>\n",
       "      <td>-0.000945</td>\n",
       "      <td>0.000852</td>\n",
       "      <td>-0.001281</td>\n",
       "      <td>-0.000727</td>\n",
       "      <td>0.000061</td>\n",
       "      <td>-0.001325</td>\n",
       "      <td>0.000860</td>\n",
       "      <td>-0.000813</td>\n",
       "      <td>...</td>\n",
       "      <td>VBN</td>\n",
       "      <td>VB</td>\n",
       "      <td>4.0</td>\n",
       "      <td>{RP, VB, NN, JJ}</td>\n",
       "      <td>5.0</td>\n",
       "      <td>{VBN, RP, NN, VBD, JJ}</td>\n",
       "      <td>0.0</td>\n",
       "      <td>abandon</td>\n",
       "      <td>abandon</td>\n",
       "      <td>abandon</td>\n",
       "    </tr>\n",
       "    <tr>\n",
       "      <th>abandoning</th>\n",
       "      <td>-0.000251</td>\n",
       "      <td>-0.000022</td>\n",
       "      <td>0.000360</td>\n",
       "      <td>0.000843</td>\n",
       "      <td>0.000554</td>\n",
       "      <td>-0.000018</td>\n",
       "      <td>0.000181</td>\n",
       "      <td>0.000658</td>\n",
       "      <td>-0.000404</td>\n",
       "      <td>-0.000381</td>\n",
       "      <td>...</td>\n",
       "      <td>VBG</td>\n",
       "      <td>VB</td>\n",
       "      <td>1.0</td>\n",
       "      <td>{VB}</td>\n",
       "      <td>1.0</td>\n",
       "      <td>{VBG}</td>\n",
       "      <td>0.0</td>\n",
       "      <td>abandon</td>\n",
       "      <td>abandon</td>\n",
       "      <td>abandon</td>\n",
       "    </tr>\n",
       "    <tr>\n",
       "      <th>abilities</th>\n",
       "      <td>-0.000241</td>\n",
       "      <td>-0.000163</td>\n",
       "      <td>0.000749</td>\n",
       "      <td>-0.000087</td>\n",
       "      <td>-0.000264</td>\n",
       "      <td>0.000156</td>\n",
       "      <td>-0.001037</td>\n",
       "      <td>-0.000903</td>\n",
       "      <td>0.000020</td>\n",
       "      <td>-0.000118</td>\n",
       "      <td>...</td>\n",
       "      <td>NNS</td>\n",
       "      <td>NN</td>\n",
       "      <td>1.0</td>\n",
       "      <td>{NN}</td>\n",
       "      <td>2.0</td>\n",
       "      <td>{NNS, NN}</td>\n",
       "      <td>0.0</td>\n",
       "      <td>abil</td>\n",
       "      <td>abil</td>\n",
       "      <td>abl</td>\n",
       "    </tr>\n",
       "    <tr>\n",
       "      <th>ability</th>\n",
       "      <td>0.000986</td>\n",
       "      <td>-0.001762</td>\n",
       "      <td>-0.000567</td>\n",
       "      <td>-0.001629</td>\n",
       "      <td>0.001002</td>\n",
       "      <td>0.005027</td>\n",
       "      <td>0.001352</td>\n",
       "      <td>-0.000077</td>\n",
       "      <td>0.001132</td>\n",
       "      <td>-0.001448</td>\n",
       "      <td>...</td>\n",
       "      <td>NN</td>\n",
       "      <td>NN</td>\n",
       "      <td>1.0</td>\n",
       "      <td>{NN}</td>\n",
       "      <td>1.0</td>\n",
       "      <td>{NN}</td>\n",
       "      <td>0.0</td>\n",
       "      <td>abil</td>\n",
       "      <td>abil</td>\n",
       "      <td>abl</td>\n",
       "    </tr>\n",
       "    <tr>\n",
       "      <th>able</th>\n",
       "      <td>0.002430</td>\n",
       "      <td>-0.002222</td>\n",
       "      <td>-0.000671</td>\n",
       "      <td>-0.000373</td>\n",
       "      <td>0.000786</td>\n",
       "      <td>0.007666</td>\n",
       "      <td>0.000952</td>\n",
       "      <td>0.003235</td>\n",
       "      <td>0.004878</td>\n",
       "      <td>-0.002652</td>\n",
       "      <td>...</td>\n",
       "      <td>JJ</td>\n",
       "      <td>JJ</td>\n",
       "      <td>4.0</td>\n",
       "      <td>{VB, RB, NN, JJ}</td>\n",
       "      <td>5.0</td>\n",
       "      <td>{RB, VBN, NN, VBP, JJ}</td>\n",
       "      <td>0.0</td>\n",
       "      <td>abl</td>\n",
       "      <td>abl</td>\n",
       "      <td>abl</td>\n",
       "    </tr>\n",
       "    <tr>\n",
       "      <th>...</th>\n",
       "      <td>...</td>\n",
       "      <td>...</td>\n",
       "      <td>...</td>\n",
       "      <td>...</td>\n",
       "      <td>...</td>\n",
       "      <td>...</td>\n",
       "      <td>...</td>\n",
       "      <td>...</td>\n",
       "      <td>...</td>\n",
       "      <td>...</td>\n",
       "      <td>...</td>\n",
       "      <td>...</td>\n",
       "      <td>...</td>\n",
       "      <td>...</td>\n",
       "      <td>...</td>\n",
       "      <td>...</td>\n",
       "      <td>...</td>\n",
       "      <td>...</td>\n",
       "      <td>...</td>\n",
       "      <td>...</td>\n",
       "      <td>...</td>\n",
       "    </tr>\n",
       "    <tr>\n",
       "      <th>ﬁrst time</th>\n",
       "      <td>-0.001707</td>\n",
       "      <td>0.000590</td>\n",
       "      <td>0.000562</td>\n",
       "      <td>0.000070</td>\n",
       "      <td>0.000261</td>\n",
       "      <td>0.000021</td>\n",
       "      <td>-0.001010</td>\n",
       "      <td>-0.000374</td>\n",
       "      <td>0.000382</td>\n",
       "      <td>0.000353</td>\n",
       "      <td>...</td>\n",
       "      <td>NaN</td>\n",
       "      <td>NaN</td>\n",
       "      <td>NaN</td>\n",
       "      <td>NaN</td>\n",
       "      <td>NaN</td>\n",
       "      <td>NaN</td>\n",
       "      <td>NaN</td>\n",
       "      <td>NaN</td>\n",
       "      <td>NaN</td>\n",
       "      <td>NaN</td>\n",
       "    </tr>\n",
       "    <tr>\n",
       "      <th>ﬁst</th>\n",
       "      <td>-0.002145</td>\n",
       "      <td>0.001015</td>\n",
       "      <td>-0.000665</td>\n",
       "      <td>0.000100</td>\n",
       "      <td>0.000957</td>\n",
       "      <td>0.000114</td>\n",
       "      <td>-0.000586</td>\n",
       "      <td>-0.000242</td>\n",
       "      <td>-0.000202</td>\n",
       "      <td>-0.000629</td>\n",
       "      <td>...</td>\n",
       "      <td>NN</td>\n",
       "      <td>NN</td>\n",
       "      <td>2.0</td>\n",
       "      <td>{FW, NN}</td>\n",
       "      <td>2.0</td>\n",
       "      <td>{FW, NN}</td>\n",
       "      <td>0.0</td>\n",
       "      <td>ﬁst</td>\n",
       "      <td>ﬁst</td>\n",
       "      <td>ﬁst</td>\n",
       "    </tr>\n",
       "    <tr>\n",
       "      <th>ﬁt</th>\n",
       "      <td>-0.001878</td>\n",
       "      <td>0.000506</td>\n",
       "      <td>0.000780</td>\n",
       "      <td>0.000156</td>\n",
       "      <td>-0.000057</td>\n",
       "      <td>-0.000071</td>\n",
       "      <td>-0.000514</td>\n",
       "      <td>-0.000660</td>\n",
       "      <td>0.000439</td>\n",
       "      <td>-0.000283</td>\n",
       "      <td>...</td>\n",
       "      <td>NN</td>\n",
       "      <td>NN</td>\n",
       "      <td>4.0</td>\n",
       "      <td>{VB, CD, NN, JJ}</td>\n",
       "      <td>6.0</td>\n",
       "      <td>{CD, NN, VBP, VB, NNS, JJ}</td>\n",
       "      <td>0.0</td>\n",
       "      <td>ﬁt</td>\n",
       "      <td>ﬁt</td>\n",
       "      <td>ﬁt</td>\n",
       "    </tr>\n",
       "    <tr>\n",
       "      <th>ﬁxed</th>\n",
       "      <td>-0.002423</td>\n",
       "      <td>0.000935</td>\n",
       "      <td>0.000932</td>\n",
       "      <td>0.000011</td>\n",
       "      <td>0.000308</td>\n",
       "      <td>-0.000507</td>\n",
       "      <td>-0.000916</td>\n",
       "      <td>0.000513</td>\n",
       "      <td>-0.000070</td>\n",
       "      <td>-0.000177</td>\n",
       "      <td>...</td>\n",
       "      <td>VBN</td>\n",
       "      <td>VB</td>\n",
       "      <td>2.0</td>\n",
       "      <td>{VB, JJ}</td>\n",
       "      <td>4.0</td>\n",
       "      <td>{VBD, JJ, VBN, VBP}</td>\n",
       "      <td>0.0</td>\n",
       "      <td>ﬁxed</td>\n",
       "      <td>ﬁxed</td>\n",
       "      <td>ﬁxed</td>\n",
       "    </tr>\n",
       "    <tr>\n",
       "      <th>ﬂoor</th>\n",
       "      <td>-0.005891</td>\n",
       "      <td>0.002720</td>\n",
       "      <td>-0.001888</td>\n",
       "      <td>0.000547</td>\n",
       "      <td>0.002361</td>\n",
       "      <td>0.000058</td>\n",
       "      <td>-0.003135</td>\n",
       "      <td>0.000465</td>\n",
       "      <td>0.000006</td>\n",
       "      <td>-0.001867</td>\n",
       "      <td>...</td>\n",
       "      <td>NN</td>\n",
       "      <td>NN</td>\n",
       "      <td>2.0</td>\n",
       "      <td>{NN, JJ}</td>\n",
       "      <td>3.0</td>\n",
       "      <td>{NNP, NN, JJ}</td>\n",
       "      <td>0.0</td>\n",
       "      <td>ﬂoor</td>\n",
       "      <td>ﬂoor</td>\n",
       "      <td>ﬂoor</td>\n",
       "    </tr>\n",
       "  </tbody>\n",
       "</table>\n",
       "<p>4000 rows × 24 columns</p>\n",
       "</div>"
      ],
      "text/plain": [
       "                 PC0       PC1       PC2       PC3       PC4       PC5  \\\n",
       "term_str                                                                 \n",
       "abandoned   0.000621 -0.000326 -0.000945  0.000852 -0.001281 -0.000727   \n",
       "abandoning -0.000251 -0.000022  0.000360  0.000843  0.000554 -0.000018   \n",
       "abilities  -0.000241 -0.000163  0.000749 -0.000087 -0.000264  0.000156   \n",
       "ability     0.000986 -0.001762 -0.000567 -0.001629  0.001002  0.005027   \n",
       "able        0.002430 -0.002222 -0.000671 -0.000373  0.000786  0.007666   \n",
       "...              ...       ...       ...       ...       ...       ...   \n",
       "ﬁrst time  -0.001707  0.000590  0.000562  0.000070  0.000261  0.000021   \n",
       "ﬁst        -0.002145  0.001015 -0.000665  0.000100  0.000957  0.000114   \n",
       "ﬁt         -0.001878  0.000506  0.000780  0.000156 -0.000057 -0.000071   \n",
       "ﬁxed       -0.002423  0.000935  0.000932  0.000011  0.000308 -0.000507   \n",
       "ﬂoor       -0.005891  0.002720 -0.001888  0.000547  0.002361  0.000058   \n",
       "\n",
       "                 PC6       PC7       PC8       PC9  ...  max_pos  \\\n",
       "term_str                                            ...            \n",
       "abandoned   0.000061 -0.001325  0.000860 -0.000813  ...      VBN   \n",
       "abandoning  0.000181  0.000658 -0.000404 -0.000381  ...      VBG   \n",
       "abilities  -0.001037 -0.000903  0.000020 -0.000118  ...      NNS   \n",
       "ability     0.001352 -0.000077  0.001132 -0.001448  ...       NN   \n",
       "able        0.000952  0.003235  0.004878 -0.002652  ...       JJ   \n",
       "...              ...       ...       ...       ...  ...      ...   \n",
       "ﬁrst time  -0.001010 -0.000374  0.000382  0.000353  ...      NaN   \n",
       "ﬁst        -0.000586 -0.000242 -0.000202 -0.000629  ...       NN   \n",
       "ﬁt         -0.000514 -0.000660  0.000439 -0.000283  ...       NN   \n",
       "ﬁxed       -0.000916  0.000513 -0.000070 -0.000177  ...      VBN   \n",
       "ﬂoor       -0.003135  0.000465  0.000006 -0.001867  ...       NN   \n",
       "\n",
       "            max_pos_group  n_pos_group     cat_pos_group n_pos  \\\n",
       "term_str                                                         \n",
       "abandoned              VB          4.0  {RP, VB, NN, JJ}   5.0   \n",
       "abandoning             VB          1.0              {VB}   1.0   \n",
       "abilities              NN          1.0              {NN}   2.0   \n",
       "ability                NN          1.0              {NN}   1.0   \n",
       "able                   JJ          4.0  {VB, RB, NN, JJ}   5.0   \n",
       "...                   ...          ...               ...   ...   \n",
       "ﬁrst time             NaN          NaN               NaN   NaN   \n",
       "ﬁst                    NN          2.0          {FW, NN}   2.0   \n",
       "ﬁt                     NN          4.0  {VB, CD, NN, JJ}   6.0   \n",
       "ﬁxed                   VB          2.0          {VB, JJ}   4.0   \n",
       "ﬂoor                   NN          2.0          {NN, JJ}   3.0   \n",
       "\n",
       "                               cat_pos  stop porter_stem  stem_snowball  \\\n",
       "term_str                                                                  \n",
       "abandoned       {VBN, RP, NN, VBD, JJ}   0.0     abandon        abandon   \n",
       "abandoning                       {VBG}   0.0     abandon        abandon   \n",
       "abilities                    {NNS, NN}   0.0        abil           abil   \n",
       "ability                           {NN}   0.0        abil           abil   \n",
       "able            {RB, VBN, NN, VBP, JJ}   0.0         abl            abl   \n",
       "...                                ...   ...         ...            ...   \n",
       "ﬁrst time                          NaN   NaN         NaN            NaN   \n",
       "ﬁst                           {FW, NN}   0.0         ﬁst            ﬁst   \n",
       "ﬁt          {CD, NN, VBP, VB, NNS, JJ}   0.0          ﬁt             ﬁt   \n",
       "ﬁxed               {VBD, JJ, VBN, VBP}   0.0        ﬁxed           ﬁxed   \n",
       "ﬂoor                     {NNP, NN, JJ}   0.0        ﬂoor           ﬂoor   \n",
       "\n",
       "           stem_lancaster  \n",
       "term_str                   \n",
       "abandoned         abandon  \n",
       "abandoning        abandon  \n",
       "abilities             abl  \n",
       "ability               abl  \n",
       "able                  abl  \n",
       "...                   ...  \n",
       "ﬁrst time             NaN  \n",
       "ﬁst                   ﬁst  \n",
       "ﬁt                     ﬁt  \n",
       "ﬁxed                 ﬁxed  \n",
       "ﬂoor                 ﬂoor  \n",
       "\n",
       "[4000 rows x 24 columns]"
      ]
     },
     "execution_count": 44,
     "metadata": {},
     "output_type": "execute_result"
    }
   ],
   "source": [
    "LOADINGS\n",
    "#LOADINGS.to_csv('LOADINGS.csv')"
   ]
  },
  {
   "cell_type": "code",
   "execution_count": null,
   "id": "05289932",
   "metadata": {},
   "outputs": [],
   "source": []
  }
 ],
 "metadata": {
  "kernelspec": {
   "display_name": "base",
   "language": "python",
   "name": "python3"
  },
  "language_info": {
   "codemirror_mode": {
    "name": "ipython",
    "version": 3
   },
   "file_extension": ".py",
   "mimetype": "text/x-python",
   "name": "python",
   "nbconvert_exporter": "python",
   "pygments_lexer": "ipython3",
   "version": "3.12.3"
  }
 },
 "nbformat": 4,
 "nbformat_minor": 5
}
